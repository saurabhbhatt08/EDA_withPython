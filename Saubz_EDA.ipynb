{
 "cells": [
  {
   "cell_type": "markdown",
   "id": "22ae9757-0218-4b8a-8082-fda5f99b5eda",
   "metadata": {},
   "source": [
    "# Learning Matplotlib\n",
    "__[Corey Schrafer Playlist](https://www.youtube.com/playlist?list=PL-osiE80TeTvipOqomVEeZ1HRrcEvtZB_https://www.youtube.com/playlist?list=PL-osiE80TeTvipOqomVEeZ1HRrcEvtZB_)__"
   ]
  },
  {
   "cell_type": "markdown",
   "id": "08419f89-0bc4-4ba6-b374-a7751d765a2b",
   "metadata": {},
   "source": [
    "# Setting up environment"
   ]
  },
  {
   "cell_type": "code",
   "execution_count": null,
   "id": "14d1b5e8-fb8f-473f-b2cf-dd19b7567bc2",
   "metadata": {
    "tags": []
   },
   "outputs": [],
   "source": [
    "import pandas as pd\n",
    "import numpy as np"
   ]
  },
  {
   "cell_type": "code",
   "execution_count": null,
   "id": "dcabb956-5dd2-4c05-8d3a-0b7c13bcc2a6",
   "metadata": {
    "tags": []
   },
   "outputs": [],
   "source": [
    "from matplotlib import pyplot as plt\n",
    "plt.style.use(\"default\")"
   ]
  },
  {
   "cell_type": "code",
   "execution_count": null,
   "id": "f3d66aae-a001-4e47-8fe7-eb760c6d29c2",
   "metadata": {
    "tags": []
   },
   "outputs": [],
   "source": [
    "%matplotlib inline"
   ]
  },
  {
   "cell_type": "code",
   "execution_count": null,
   "id": "33fa75bf-acc9-48c6-948c-93539efed55c",
   "metadata": {
    "tags": []
   },
   "outputs": [],
   "source": [
    "plt.style.available"
   ]
  },
  {
   "cell_type": "markdown",
   "id": "febc0bb5-d8a1-48ce-8460-ba13dd5a37f6",
   "metadata": {},
   "source": [
    "# Creating simple Line charts"
   ]
  },
  {
   "cell_type": "markdown",
   "id": "b8514d72-d039-4071-8754-b0d54bba035a",
   "metadata": {},
   "source": [
    "## prepping data"
   ]
  },
  {
   "cell_type": "code",
   "execution_count": null,
   "id": "3103bf7b-a994-4a26-ae25-26fd788744c3",
   "metadata": {
    "tags": []
   },
   "outputs": [],
   "source": [
    "# Median Developer Salaries by Age\n",
    "ages_x = [25, 26, 27, 28, 29, 30, 31, 32, 33, 34, 35]\n",
    "\n",
    "dev_y = [38496, 42000, 46752, 49320, 53200, 56000, 62316, 64928, 67317, 68748, 73752]\n",
    "\n",
    "# Median Python Developer Salaries by Age\n",
    "ages_x = [25, 26, 27, 28, 29, 30, 31, 32, 33, 34, 35]\n",
    "py_dev_y = [45372, 48876, 53850, 57287, 63016,\n",
    "            65998, 70003, 70000, 71496, 75370, 83640]\n",
    "\n",
    "# Median JavaScript Developer Salaries by Age\n",
    "js_dev_y = [37810, 43515, 46823, 49293, 53437,\n",
    "            56373, 62375, 66674, 68745, 68746, 74583]"
   ]
  },
  {
   "cell_type": "code",
   "execution_count": null,
   "id": "80a4c023-3c5a-40f6-a9a0-4ede74627644",
   "metadata": {
    "tags": []
   },
   "outputs": [],
   "source": [
    "# Plotting both lines on the same graph\n",
    "plt.plot(ages_x, py_dev_y, color=\"#5a7d9a\", marker=\"o\", linewidth = 3, label='Python Devs')\n",
    "plt.plot(ages_x, js_dev_y, color=\"#adad3b\", marker=\"v\", linewidth = 3, label='Java Script Devs')\n",
    "plt.plot(ages_x, dev_y, color=\"#444444\", linestyle=\"--\", marker = \"1\",label='All Devs')\n",
    "\n",
    "# Using fmt string\n",
    "# plt.plot(ages_x, dev_y, \"k--\", label='All Devs')\n",
    "# plt.plot(ages_x, py_dev_y, \"b\", label='Python Devs')\n",
    "\n",
    "# Adding labels and title\n",
    "plt.title(\"Median Salary by Age\")\n",
    "plt.xlabel(\"Ages\")\n",
    "plt.ylabel(\"Median Salary (USD)\")\n",
    "\n",
    "# Displaying legend to differentiate lines\n",
    "plt.legend()\n",
    "\n",
    "# Adding a grid\n",
    "plt.grid(True)\n",
    "\n",
    "plt.tight_layout()\n",
    "\n",
    "# Save the plot as an image file\n",
    "plt.savefig(\"../../../Plots/median_salary_plot.png\")\n",
    "\n",
    "# Show the plot\n",
    "plt.show()"
   ]
  },
  {
   "cell_type": "markdown",
   "id": "9971e1cf-1f26-4e29-8501-b4dfdf75cd8c",
   "metadata": {},
   "source": [
    "### Using styles"
   ]
  },
  {
   "cell_type": "code",
   "execution_count": null,
   "id": "b109aa27-e7c3-423c-8fbe-355fb41febc8",
   "metadata": {
    "tags": []
   },
   "outputs": [],
   "source": [
    "plt.style.use(\"ggplot\")\n",
    "\n",
    "# Plotting both lines on the same graph\n",
    "plt.plot(ages_x, py_dev_y, linewidth = 3, label='Python Devs')\n",
    "plt.plot(ages_x, js_dev_y, linewidth = 3, label='Java Script Devs')\n",
    "plt.plot(ages_x, dev_y, color=\"#444444\", linestyle=\"--\", marker = \"1\",label='All Devs')\n",
    "\n",
    "# Using fmt string\n",
    "# plt.plot(ages_x, dev_y, \"k--\", label='All Devs')\n",
    "# plt.plot(ages_x, py_dev_y, \"b\", label='Python Devs')\n",
    "\n",
    "# Adding labels and title\n",
    "plt.title(\"Median Salary by Age\")\n",
    "plt.xlabel(\"Ages\")\n",
    "plt.ylabel(\"Median Salary (USD)\")\n",
    "\n",
    "# Displaying legend to differentiate lines\n",
    "plt.legend()\n",
    "\n",
    "# Adding a grid\n",
    "plt.grid(True)\n",
    "\n",
    "plt.tight_layout()\n",
    "\n",
    "# Save the plot as an image file\n",
    "plt.savefig(\"../../../Plots/median_salary_plot.png\")\n",
    "\n",
    "# Show the plot\n",
    "plt.show()"
   ]
  },
  {
   "cell_type": "markdown",
   "id": "7910a1c3-2061-4617-b575-b8ddae0842f1",
   "metadata": {},
   "source": [
    "## Prepping Dataset 2"
   ]
  },
  {
   "cell_type": "code",
   "execution_count": null,
   "id": "84e3a974-04e6-49da-a312-22be60150491",
   "metadata": {
    "tags": []
   },
   "outputs": [],
   "source": [
    "# # Ages 18 to 55\n",
    "ages_x = [18, 19, 20, 21, 22, 23, 24, 25, 26, 27, 28, 29, 30, 31, 32, 33, 34, 35,\n",
    "          36, 37, 38, 39, 40, 41, 42, 43, 44, 45, 46, 47, 48, 49, 50, 51, 52, 53, 54, 55]\n",
    "\n",
    "py_dev_y = [20046, 17100, 20000, 24744, 30500, 37732, 41247, 45372, 48876, 53850, 57287, 63016, 65998, 70003, 70000, 71496, 75370, 83640, 84666,\n",
    "            84392, 78254, 85000, 87038, 91991, 100000, 94796, 97962, 93302, 99240, 102736, 112285, 100771, 104708, 108423, 101407, 112542, 122870, 120000]\n",
    "\n",
    "js_dev_y = [16446, 16791, 18942, 21780, 25704, 29000, 34372, 37810, 43515, 46823, 49293, 53437, 56373, 62375, 66674, 68745, 68746, 74583, 79000,\n",
    "            78508, 79996, 80403, 83820, 88833, 91660, 87892, 96243, 90000, 99313, 91660, 102264, 100000, 100000, 91660, 99240, 108000, 105000, 104000]\n",
    "\n",
    "dev_y = [17784, 16500, 18012, 20628, 25206, 30252, 34368, 38496, 42000, 46752, 49320, 53200, 56000, 62316, 64928, 67317, 68748, 73752, 77232,\n",
    "         78000, 78508, 79536, 82488, 88935, 90000, 90056, 95000, 90000, 91633, 91660, 98150, 98964, 100000, 98988, 100000, 108923, 105000, 103117]"
   ]
  },
  {
   "cell_type": "code",
   "execution_count": null,
   "id": "009cafbc-32aa-470e-a539-8f7e1f372181",
   "metadata": {
    "tags": []
   },
   "outputs": [],
   "source": [
    "plt.style.use(\"fivethirtyeight\")\n",
    "\n",
    "# Plotting both lines on the same graph\n",
    "plt.plot(ages_x, py_dev_y, linewidth = 3, label='Python Devs')\n",
    "plt.plot(ages_x, js_dev_y, linewidth = 3, label='Java Script Devs')\n",
    "plt.plot(ages_x, dev_y, color=\"#444444\", linestyle=\"--\", marker = \"1\",label='All Devs')\n",
    "\n",
    "# Using fmt string\n",
    "# plt.plot(ages_x, dev_y, \"k--\", label='All Devs')\n",
    "# plt.plot(ages_x, py_dev_y, \"b\", label='Python Devs')\n",
    "\n",
    "# Adding labels and title\n",
    "plt.title(\"Median Salary by Age\")\n",
    "plt.xlabel(\"Ages\")\n",
    "plt.ylabel(\"Median Salary (USD)\")\n",
    "\n",
    "# Displaying legend to differentiate lines\n",
    "plt.legend()\n",
    "\n",
    "# Adding a grid\n",
    "plt.grid(True)\n",
    "\n",
    "plt.tight_layout()\n",
    "\n",
    "# Save the plot as an image file\n",
    "plt.savefig(\"../../../Plots/median_salary_plot.png\")\n",
    "\n",
    "# Show the plot\n",
    "plt.show()"
   ]
  },
  {
   "cell_type": "markdown",
   "id": "9884ca78-960d-451c-b29c-2910dcf6a200",
   "metadata": {},
   "source": [
    "### using bar chart"
   ]
  },
  {
   "cell_type": "code",
   "execution_count": null,
   "id": "abf0aee0-981f-4c8a-bede-887548467976",
   "metadata": {
    "tags": []
   },
   "outputs": [],
   "source": [
    "plt.style.use(\"fivethirtyeight\")\n",
    "\n",
    "x_indexes = np.arange(len(ages_x))\n",
    "width = 0.25\n",
    "\n",
    "# Plotting both lines on the same graph\n",
    "plt.bar(x_indexes - width, py_dev_y, width=width, label='Python Devs')\n",
    "plt.bar(x_indexes, js_dev_y, width=width, label='Java Script Devs')\n",
    "plt.bar(x_indexes + width, dev_y, width=width, color=\"#444444\", label='All Devs')\n",
    "\n",
    "plt.xticks(ticks= x_indexes, labels= ages_x)\n",
    "\n",
    "# Adding labels and title\n",
    "plt.title(\"Median Salary by Age\")\n",
    "plt.xlabel(\"Ages\")\n",
    "plt.ylabel(\"Median Salary (USD)\")\n",
    "\n",
    "# Displaying legend to differentiate lines\n",
    "plt.legend()\n",
    "\n",
    "# Adding a grid\n",
    "plt.grid(True)\n",
    "\n",
    "plt.tight_layout()\n",
    "\n",
    "# Save the plot as an image file\n",
    "plt.savefig(\"../../../Plots/median_salary_barplot.png\")\n",
    "\n",
    "# Show the plot\n",
    "plt.show()"
   ]
  },
  {
   "cell_type": "markdown",
   "id": "d18c513a-72ec-4cf6-b0af-ba84a971b65e",
   "metadata": {},
   "source": [
    "# Exploratory Data Analysis"
   ]
  },
  {
   "cell_type": "markdown",
   "id": "8b618f6d-612c-45ef-acf2-467b982819cd",
   "metadata": {},
   "source": [
    "## Analytics Vidhya\n",
    "\n",
    "[EDA Tutorial](https://www.analyticsvidhya.com/blog/2022/07/step-by-step-exploratory-data-analysis-eda-using-python/)"
   ]
  },
  {
   "cell_type": "markdown",
   "id": "005a9ff7-7647-4e67-97f8-b8d4893f1002",
   "metadata": {
    "tags": []
   },
   "source": [
    "## importing necessary libraries"
   ]
  },
  {
   "cell_type": "code",
   "execution_count": 1,
   "id": "db65464e-608a-4c0b-83fe-1a525d9f742b",
   "metadata": {
    "tags": []
   },
   "outputs": [],
   "source": [
    "import pandas as pd\n",
    "import numpy as np\n",
    "import matplotlib.pyplot as plt\n",
    "import seaborn as sns"
   ]
  },
  {
   "cell_type": "code",
   "execution_count": 2,
   "id": "2131a3ca-03d6-44bf-8bde-20da121cb06e",
   "metadata": {
    "tags": []
   },
   "outputs": [],
   "source": [
    "#to ignore warnings\n",
    "# import warnings\n",
    "# warnings.filterwarnings('ignore')"
   ]
  },
  {
   "cell_type": "markdown",
   "id": "4b96f4a6-3285-40bb-8c0d-76abc661639f",
   "metadata": {},
   "source": [
    "## Importing Data Set"
   ]
  },
  {
   "cell_type": "code",
   "execution_count": null,
   "id": "59eff60a-ce7c-4081-a287-eea1017750a4",
   "metadata": {},
   "outputs": [],
   "source": [
    "df = pd.read_csv(\"../../../Datasets/used_cars_data.csv\")"
   ]
  },
  {
   "cell_type": "code",
   "execution_count": null,
   "id": "4d5bf23d-0efb-4147-827b-d0023b5b9e39",
   "metadata": {},
   "outputs": [],
   "source": []
  },
  {
   "cell_type": "code",
   "execution_count": null,
   "id": "8c78b5f5-3349-4cab-92b0-aa67c174b7b0",
   "metadata": {},
   "outputs": [],
   "source": []
  },
  {
   "cell_type": "code",
   "execution_count": null,
   "id": "4a184adc-47af-4c5f-a91a-44e7f863c06d",
   "metadata": {},
   "outputs": [],
   "source": []
  },
  {
   "cell_type": "code",
   "execution_count": null,
   "id": "67f38b26-38c6-411e-8b58-4a5ce30d8e5c",
   "metadata": {},
   "outputs": [],
   "source": []
  },
  {
   "cell_type": "code",
   "execution_count": null,
   "id": "4f778db1-8980-4835-a7c2-c13eac70538c",
   "metadata": {},
   "outputs": [],
   "source": []
  },
  {
   "cell_type": "code",
   "execution_count": null,
   "id": "8d83676a-8a68-435b-a620-c954cc3aa436",
   "metadata": {},
   "outputs": [],
   "source": []
  },
  {
   "cell_type": "code",
   "execution_count": null,
   "id": "e2ceeee5-d400-4fa3-85c4-5b8ff73e90fb",
   "metadata": {},
   "outputs": [],
   "source": []
  },
  {
   "cell_type": "code",
   "execution_count": null,
   "id": "1003c768-3618-43ed-9b58-6038bc00ab6e",
   "metadata": {},
   "outputs": [],
   "source": []
  },
  {
   "cell_type": "markdown",
   "id": "8df7180b-a548-4b38-9a56-e9dffc40e4af",
   "metadata": {},
   "source": [
    "# Learn EDA in Python\n",
    "\n",
    "[Mark Keith Youtube Playlist](https://www.youtube.com/playlist?list=PLe9UEU4oeAuV7RtCbL76hca5ELO_IELk4)"
   ]
  }
 ],
 "metadata": {
  "kernelspec": {
   "display_name": "Python 3 (ipykernel)",
   "language": "python",
   "name": "python3"
  },
  "language_info": {
   "codemirror_mode": {
    "name": "ipython",
    "version": 3
   },
   "file_extension": ".py",
   "mimetype": "text/x-python",
   "name": "python",
   "nbconvert_exporter": "python",
   "pygments_lexer": "ipython3",
   "version": "3.11.5"
  }
 },
 "nbformat": 4,
 "nbformat_minor": 5
}
