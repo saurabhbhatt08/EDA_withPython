








import pandas as pd
import numpy as np
import matplotlib.pyplot as plt
import seaborn as sns
import os


#to ignore warnings
# import warnings
# warnings.filterwarnings('ignore')


pd.set_option("display.max_columns", 85)
pd.set_option("display.max_rows", 30)





df = pd.read_csv("data/used_cars_data.csv")





print(f"The data set has {df.shape[0]} rows and {df.shape[1]} columns.")


df.head()


df.tail()


# Checking data types, missing values and number of records in each column
df.info()





# Visualizing missing records
sns.heatmap(df.isnull(), cbar= False)
plt.show()

# Checking for number of missing values in each column
print(df.isnull().sum())


# Checking percentage of missing values in each column
round((df.isnull().mean()*100),2)





# Checking for duplication
df.nunique()





df["Fuel_Type"].unique()


df["Transmission"].unique()


df["Owner_Type"].unique()





# Could also drop S.No. as pre-defined index provides same accessibility
df.set_index("S.No.", inplace=True)
df.head()








from datetime import date


df["Car_Age"] = date.today().year - df["Year"]
df.head()





df["Brand"] = df["Name"].str.split().str.get(0)
df["Model"] = df["Name"].str.split().str.get(1)
df[["Name", "Brand", "Model"]]








print(("Current Data set has {0} unique brand names \n").format(df["Brand"].nunique()))
print(df["Brand"].unique())





# Filtering the records for which Brand name needs to be cleaned
incorrect_model_name = ["Land", "Mini", "ISUZU", "Isuzu"]
filt = df["Brand"].str.contains("|".join(incorrect_model_name), case= False)
df.loc[filt, ["Name", "Brand", "Model"]]


# Replacing incorrect brand names with correct name
df["Brand"].replace({"ISUZU": "Isuzu", "Mini": "Mini Cooper", "Land": "Land Rover"}, inplace= True)
df.loc[filt, ["Name", "Brand", "Model"]]





# Splitting numeric value of Mileage from its unit
df["Mileage_Unit"] = df["Mileage"].str.split().str.get(1)
df["Mileage"] = df["Mileage"].str.split().str.get(0)
df["Mileage"] = df["Mileage"].astype(float)
df.head()





print(f'Mileage is specified in {df["Mileage_Unit"].unique()} units with below frequency:\n')
print(df["Mileage_Unit"].value_counts())





# replacing null with np.nan
df["Engine"].replace("null", np.nan, inplace=True)


# Splitting numeric value of Engine from its unit
df["Engine_Unit"] = df["Engine"].str.split().str.get(1)
df["Engine"] = df["Engine"].str.split().str.get(0)
df["Engine"] = df["Engine"].astype(float)
df.head()


print(f'Engine Capcity is expressed in {df["Engine_Unit"].unique()} units')





df.drop("Engine_Unit", axis = "columns", inplace=True)
df.head()





# Splitting numeric value of Power from its unit
df["Power_Unit"] = df["Power"].str.split().str.get(1)
df["Power"] = df["Power"].str.split().str.get(0)
df.head()


print(f'Power is expressed in {df["Power_Unit"].unique()} units')





df.drop("Power_Unit", axis = "columns", inplace=True)
df.head()





# replacing null with np.nan
df["Power"].replace("null", np.nan, inplace=True)


# Converting power to float type for analysis as continuous distribution
df["Power"] = df["Power"].astype(float)
df.head()





# replacing null with np.nan
df["New_Price"].replace("null", np.nan, inplace=True)


df["New_Price_Unit"] = df["New_Price"].str.split().str.get(1)
df["New_Price"] = df["New_Price"].str.split().str.get(0)
df["New_Price"] = df["New_Price"].astype(float)
df.head()


print(f'New_Price coulmn has {df["New_Price_Unit"].unique()} units')





filt = (df["New_Price_Unit"] == "Cr")
df.loc[filt, "New_Price"] *=100





df.drop("New_Price_Unit", axis="columns", inplace=True)
df.head(n=4)





df.rename(columns={"Price":"Resale_Price"}, inplace=True)
df.head(n=4)





categorical_col_list = df.select_dtypes(include=[object]).columns.to_list()
numerical_col_list = df.select_dtypes(include=[np.number]).columns.to_list()

print(f"Categorical Variables: {categorical_col_list}")
print(f"Numerical Variables: {numerical_col_list}")





df.isnull().sum()


round(df.isnull().mean()*100,2)





print(f"Mileage has {df.loc[(df['Mileage'].isnull()),'Mileage'].isnull().sum()} null values")


# Assuming "kmpl" as common unit for mileage
df["Mileage_Unit"] = df["Mileage_Unit"].fillna("kmpl")
df.loc[df["Mileage_Unit"].isnull()]


print(df["Mileage"].describe())
print(df["Mileage"].skew())





# using median at Brand and Model level granularity to impute
medians = df.groupby(["Brand", "Model"])["Mileage"].transform("median")
df["Mileage"] = df["Mileage"].fillna(medians)
print(f"Data has {df['Mileage'].isnull().sum()} rows with null values for Mileage")


# using median at Fuel Type, Power and Engine Capacity level granularity to impute as they impact Mileage
medians = df.groupby(["Fuel_Type", "Power", "Engine"])["Mileage"].transform("median")
df["Mileage"] = df["Mileage"].fillna(medians)
print(f"Data has {df['Mileage'].isnull().sum()} rows with null values for Mileage")


# Grouping by Brand, Transmission, Fuel_Type for imputing remaining values for Mileage
medians = df.groupby(["Brand", "Transmission", "Seats"])["Mileage"].transform("median")
df["Mileage"] = df["Mileage"].fillna(medians)
print(f"Data has {df['Mileage'].isnull().sum()} rows with null values for Mileage")


df.isnull().sum()





print(f"Power has {df['Power'].isnull().sum()} null values")


print(df["Power"].describe())
print(df["Power"].skew())





df.loc[df["Power"].isnull(), "Name"].value_counts()


# using median at Name & Year level granularity to impute
medians = df.groupby(["Name", "Year"])["Power"].transform("median")
df["Power"] = df["Power"].fillna(medians)
print(f"Data has {df['Power'].isnull().sum()} rows with null values for Power")


# using median at Model & Year level granularity to impute
medians = df.groupby(["Model", "Year"])["Power"].transform("median")
df["Power"] = df["Power"].fillna(medians)
print(f"Data has {df['Power'].isnull().sum()} rows with null values for Power")


# using median at Brand & Model level granularity to impute
median = df.groupby(["Brand", "Model"])["Power"].transform("median")
df["Power"] = df["Power"].fillna(median)
print(f"Data has {df['Power'].isnull().sum()} rows with null values for Power")


# using median at Fuel type, transmission & Engine level granularity to impute as they impact Power
median = df.groupby(["Fuel_Type", "Transmission", "Engine"])["Power"].transform("median")
df["Power"] = df["Power"].fillna(median)
print(f"Data has {df['Power'].isnull().sum()} rows with null values for Power")


df.isnull().sum()





print(f"Engine has {df['Engine'].isnull().sum()} null values")


print(df["Engine"].describe())
print(df["Engine"].skew())





df.loc[df["Engine"].isnull(), ["Name", "Year"]].value_counts()


# using median at Name & Year level granularity to impute
medians = df.groupby(["Name", "Year"])["Engine"].transform("median")
df["Engine"] = df["Engine"].fillna(medians)
print(f"Data has {df['Engine'].isnull().sum()} rows with null values for Engine")


df.groupby(["Model", "Year"])["Engine"].median()


# Engine capacity for a model remained broadly stable across release years, 
# hence imputing with median at granularity of Model and Year
medians = df.groupby(["Model", "Year"])["Engine"].transform("median")
df["Engine"] = df["Engine"].fillna(medians)
print(f"Data has {df['Engine'].isnull().sum()} rows with null values for Engine")


# using median at Brand & Model level granularity to impute
medians = df.groupby(["Brand", "Model"])["Engine"].transform("median")
df["Engine"] = df["Engine"].fillna(medians)
print(f"Data has {df['Engine'].isnull().sum()} rows with null values for Engine")


df.isnull().sum()





print(f"Seats has {df['Seats'].isnull().sum()} null values")


print(df["Seats"].describe())
print(df["Seats"].skew())





df[df["Seats"]==10]





# using median at Name level granularity to impute
medians = df.groupby(["Name"])["Seats"].transform("median")
df["Seats"] = df["Seats"].fillna(medians)
print(f"Data has {df['Seats'].isnull().sum()} rows with null values for Seats")


# using median at Brand & Model level granularity to impute
medians = df.groupby(["Brand", "Model"])["Seats"].transform("median")
df["Seats"] = df["Seats"].fillna(medians)
print(f"Data has {df['Seats'].isnull().sum()} rows with null values for Seats")


df[df["Seats"].isnull()]





df["Seats"] = df["Seats"].fillna(5)
print(f"Data has {df['Seats'].isnull().sum()} rows with null values for Seats")


df.isnull().sum()





print(f"New_Price column has {df['New_Price'].isnull().sum()} null values")


print(df["New_Price"].describe())
print(df["New_Price"].skew())





df.groupby(["Name", "Year"])["New_Price"].median()


# using median at Name & Year level granularity to impute
medians = df.groupby(["Name", "Year"])["New_Price"].transform("median")
df["New_Price"] = df["New_Price"].fillna(medians)
print(f"Data has {df['New_Price'].isnull().sum()} rows with null values for New_Price")


# using median at Brand, Model & Year level granularity to impute
medians = df.groupby(["Brand", "Model", "Year"])["New_Price"].transform("median")
df["New_Price"] = df["New_Price"].fillna(medians)
print(f"Data has {df['New_Price'].isnull().sum()} rows with null values for New_Price")


# using median at Brand, Model level granularity to impute
medians = df.groupby(["Brand", "Model"])["New_Price"].transform("median")
df["New_Price"] = df["New_Price"].fillna(medians)
print(f"Data has {df['New_Price'].isnull().sum()} rows with null values for New_Price")


# using median at Model level granularity to impute
median = df.groupby(["Model"])["New_Price"].transform("median")
df["New_Price"] = df["New_Price"].fillna(medians)
print(f"Data has {df['New_Price'].isnull().sum()} rows with null values for New_Price")


# using medians at Model level granularity to impute
medians = df.groupby(["Brand"])["New_Price"].transform("median")
df["New_Price"] = df["New_Price"].fillna(medians)
print(f"Data has {df['New_Price'].isnull().sum()} rows with null values for New_Price")


missing_brand_list = df.loc[df["New_Price"].isnull(), "Brand"].unique()
print(df.loc[df["Brand"].isin(missing_brand_list), "New_Price"].unique())
print(f'[{",".join(missing_brand_list)}] have no non-null rows of New_price"')


# using means at Seats, Fuel_Type, Transmission & Engine level granularity to impute for these cars for closest approximation
means = df.groupby(["Seats", "Fuel_Type", "Transmission", "Engine"])["New_Price"].transform("mean")
df["New_Price"] = df["New_Price"].fillna(means)
print(f"Data has {df['New_Price'].isnull().sum()} rows with null values for New_Price")


df.loc[df["Brand"].isin(missing_brand_list)]


df.isnull().sum()








df.dropna(subset=["Mileage", "Power", "New_Price"], inplace=True)
df.head()





df_test = df[df["Resale_Price"].isnull()].copy()
print(df_test.shape)
df_test.head()





df.dropna(inplace=True)
df.isnull().sum()


print(df.shape)
print(df_test.shape)








df.describe().T


df.describe(include="all").T








# Creating directory to save plots
os.makedirs("plots/univariate", exist_ok=True)





numerical_col_list


excluded_cols = ["Year", "New_Price"]
excluded_cols


filtered_list_numerical = [col for col in numerical_col_list if col not in excluded_cols]
filtered_list_numerical


for num_variable in filtered_list_numerical:
    if num_variable == "Mileage":
        unit = "(kmpl - km/kg)"
    elif num_variable == "Engine":
        unit = "(CC)"
    elif num_variable == "Power":
        unit = "(bhp)"
    elif num_variable == "Car_Age":
        unit = "(years)"
    elif num_variable == "Resale_price":
        unit = "(lakh)"
    else:
        unit = ""
    print(f'Skewness of "{num_variable}" is :', round(df[num_variable].skew(), 2))
    plt.style.use("_mpl-gallery")
    plt.figure(figsize=(15,4))
    plt.subplot(1,2,1)
    plt.title(f"Histogram")
    df[num_variable].hist(grid=False)
    plt.ylabel("Frequency")
    plt.xlabel(f"{num_variable} {unit}")
    plt.subplot(1,2,2)
    plt.title(f"Boxplot")
    sns.boxplot(x=df[num_variable])
    plt.xlabel(f"{num_variable} {unit}")
    plt.savefig(f"plots/univariate/{num_variable}.png", bbox_inches = "tight")
    plt.show()








df.drop(df[df["Kilometers_Driven"]>=1000000].index, inplace= True)
df.drop(df[df["Engine"]>=5500].index, inplace= True)
df.drop(df[df["Power"]>550].index, inplace= True)
df.drop(df[df["Resale_Price"]>100].index, inplace= True)
df.drop(df[df["Car_Age"]>25].index, inplace= True)


df.loc[df["Mileage"] == 0, "Mileage"] = np.nan























df.loc[df["Mileage"].isnull(), "Name"].value_counts().index.tolist()


df["Mileage"].describe()





medians = df.groupby(["Brand", "Model"])["Mileage"].transform("median")
df["Mileage"] = df["Mileage"].fillna(medians)


df["Mileage"].isnull().sum()





# Grouping by Fuel Type, Power and Engine Capacity as they impact Mileage
medians = df.groupby(["Fuel_Type", "Power", "Engine"])["Mileage"].transform("median")
df["Mileage"] = df["Mileage"].fillna(medians)
df["Mileage"].isnull().sum()





# Grouping by Transmission, Brand for imputing remaining values for Mileage
medians = df.groupby(["Transmission", "Brand"])["Mileage"].transform("median")
df["Mileage"] = df["Mileage"].fillna(medians)
df["Mileage"].isnull().sum()





df.head()





df.groupby(["Brand", "Model"])[["Mileage", "Power", "Engine"]].agg(["mean", "median"])


df.groupby(["Brand", "Model"])["Mileage"]





%who





df.loc[df["Seats"].isnull(), "Name"].value_counts()


df.dropna(how= "all", subset=["Mileage", "Power", "Engine"], inplace = True)
df.head()





df.shape


filt2 = (df["Seats"]==0)
print(df.loc[filt2].shape)
df.loc[filt2]








df.head()


date.today().year














df2 = pd.read_csv("data/used_cars_data.csv", index_col= "S.No.")

filt2 = df2["Kilometers_Driven"]>=500000
df2.loc[filt2]


df2.shape
