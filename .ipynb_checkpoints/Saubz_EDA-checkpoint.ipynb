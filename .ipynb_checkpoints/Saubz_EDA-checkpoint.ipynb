{
 "cells": [
  {
   "cell_type": "markdown",
   "id": "d18c513a-72ec-4cf6-b0af-ba84a971b65e",
   "metadata": {},
   "source": [
    "# Importing and Pre-processing Data"
   ]
  },
  {
   "cell_type": "markdown",
   "id": "8b618f6d-612c-45ef-acf2-467b982819cd",
   "metadata": {},
   "source": [
    "## Data Source\n",
    "\n",
    "[Used Car sets Data - Kaggle](https://www.kaggle.com/datasets/sukhmanibedi/cars4u)"
   ]
  },
  {
   "cell_type": "markdown",
   "id": "005a9ff7-7647-4e67-97f8-b8d4893f1002",
   "metadata": {
    "tags": []
   },
   "source": [
    "## Importing necessary libraries"
   ]
  },
  {
   "cell_type": "code",
   "execution_count": null,
   "id": "db65464e-608a-4c0b-83fe-1a525d9f742b",
   "metadata": {
    "tags": []
   },
   "outputs": [],
   "source": [
    "import pandas as pd\n",
    "import numpy as np\n",
    "import matplotlib.pyplot as plt\n",
    "import seaborn as sns\n",
    "import os"
   ]
  },
  {
   "cell_type": "code",
   "execution_count": null,
   "id": "2131a3ca-03d6-44bf-8bde-20da121cb06e",
   "metadata": {
    "tags": []
   },
   "outputs": [],
   "source": [
    "#to ignore warnings\n",
    "# import warnings\n",
    "# warnings.filterwarnings('ignore')"
   ]
  },
  {
   "cell_type": "code",
   "execution_count": null,
   "id": "6ebed716-f13d-4754-9a4e-a9583b24ba22",
   "metadata": {
    "tags": []
   },
   "outputs": [],
   "source": [
    "pd.set_option(\"display.max_columns\", 85)\n",
    "pd.set_option(\"display.max_rows\", 30)"
   ]
  },
  {
   "cell_type": "markdown",
   "id": "4b96f4a6-3285-40bb-8c0d-76abc661639f",
   "metadata": {},
   "source": [
    "## Importing Data Set"
   ]
  },
  {
   "cell_type": "code",
   "execution_count": null,
   "id": "59eff60a-ce7c-4081-a287-eea1017750a4",
   "metadata": {},
   "outputs": [],
   "source": [
    "df = pd.read_csv(\"data/used_cars_data.csv\")"
   ]
  },
  {
   "cell_type": "markdown",
   "id": "155d2dc5-0058-470b-96c2-d691967717d0",
   "metadata": {},
   "source": [
    "## Checking information about data"
   ]
  },
  {
   "cell_type": "code",
   "execution_count": null,
   "id": "fe6e1f14-4504-4322-b513-c368976f5543",
   "metadata": {
    "tags": []
   },
   "outputs": [],
   "source": [
    "print(f\"The data set has {df.shape[0]} rows and {df.shape[1]} columns.\")"
   ]
  },
  {
   "cell_type": "code",
   "execution_count": null,
   "id": "0cb72f72-ad0f-45a1-82ce-173bdfa29354",
   "metadata": {
    "tags": []
   },
   "outputs": [],
   "source": [
    "df.head()"
   ]
  },
  {
   "cell_type": "code",
   "execution_count": null,
   "id": "47c73233-076e-441a-a32c-b76354b967e7",
   "metadata": {
    "tags": []
   },
   "outputs": [],
   "source": [
    "df.tail()"
   ]
  },
  {
   "cell_type": "code",
   "execution_count": null,
   "id": "579d87d8-54f9-4878-8397-4a8c7c8a51bd",
   "metadata": {
    "tags": []
   },
   "outputs": [],
   "source": [
    "# Checking data types, missing values and number of records in each column\n",
    "df.info()"
   ]
  },
  {
   "cell_type": "markdown",
   "id": "ab7d6c83-c3d8-423e-995e-d8f6a3485b99",
   "metadata": {},
   "source": [
    "__Data has missing values in Mileage, Engine, Poer, Seats, New_Price & Price__"
   ]
  },
  {
   "cell_type": "code",
   "execution_count": null,
   "id": "f76221f4-7510-4413-84be-c4c026591de5",
   "metadata": {
    "tags": []
   },
   "outputs": [],
   "source": [
    "# Visualizing missing records\n",
    "sns.heatmap(df.isnull(), cbar= False)\n",
    "plt.show()\n",
    "\n",
    "# Checking for number of missing values in each column\n",
    "print(df.isnull().sum())"
   ]
  },
  {
   "cell_type": "code",
   "execution_count": null,
   "id": "ba4b41aa-c3b3-4876-a801-7e89f902aa8a",
   "metadata": {
    "tags": []
   },
   "outputs": [],
   "source": [
    "# Checking percentage of missing values in each column\n",
    "round((df.isnull().mean()*100),2)"
   ]
  },
  {
   "cell_type": "markdown",
   "id": "223fe4ab-c778-4b1b-b6dc-ae78036eefa8",
   "metadata": {},
   "source": [
    "<a id='missing-values'></a>\n",
    "86% missing values in __New Price__ <br>\n",
    "17% missing values in __Price__ <br>\n",
    "<1% missing values in __Mileage, Engine, Power and Seats__ "
   ]
  },
  {
   "cell_type": "code",
   "execution_count": null,
   "id": "eedf59d4-c515-42ac-924a-80a588e34d03",
   "metadata": {
    "tags": []
   },
   "outputs": [],
   "source": [
    "# Checking for duplication\n",
    "df.nunique()"
   ]
  },
  {
   "cell_type": "markdown",
   "id": "29699007-c762-4169-a679-c6caf3901c0d",
   "metadata": {},
   "source": [
    "__Fuel_Type, Transmission, Owner_Type__ could as well be categorical variables since they have limited values and can specify specifying a category of vehicle by virtue of features or ownership"
   ]
  },
  {
   "cell_type": "code",
   "execution_count": null,
   "id": "9af480b2-6e3f-4cb0-8cda-40809f5d0700",
   "metadata": {
    "tags": []
   },
   "outputs": [],
   "source": [
    "df[\"Fuel_Type\"].unique()"
   ]
  },
  {
   "cell_type": "code",
   "execution_count": null,
   "id": "1fe7e501-8b5d-4d15-a6be-e31a01c1ba8e",
   "metadata": {
    "tags": []
   },
   "outputs": [],
   "source": [
    "df[\"Transmission\"].unique()"
   ]
  },
  {
   "cell_type": "code",
   "execution_count": null,
   "id": "4a184adc-47af-4c5f-a91a-44e7f863c06d",
   "metadata": {},
   "outputs": [],
   "source": [
    "df[\"Owner_Type\"].unique()"
   ]
  },
  {
   "cell_type": "markdown",
   "id": "7c033f5e-f413-4d9a-874c-f1fbc90d8104",
   "metadata": {},
   "source": [
    "## Defining Index"
   ]
  },
  {
   "cell_type": "code",
   "execution_count": null,
   "id": "8d83676a-8a68-435b-a620-c954cc3aa436",
   "metadata": {},
   "outputs": [],
   "source": [
    "# Could also drop S.No. as pre-defined index provides same accessibility\n",
    "df.set_index(\"S.No.\", inplace=True)\n",
    "df.head()"
   ]
  },
  {
   "cell_type": "markdown",
   "id": "0534f7fd-78b0-4be3-8a12-c499410b32a0",
   "metadata": {},
   "source": [
    "## Feature Engineering\n",
    "*Creating Custom features basis available data*"
   ]
  },
  {
   "cell_type": "markdown",
   "id": "18c3d6c4-9e48-442d-97e4-7367d91b36f1",
   "metadata": {},
   "source": [
    "### Creating Age of the car"
   ]
  },
  {
   "cell_type": "code",
   "execution_count": null,
   "id": "84d96151-c5de-48cf-9114-c2de3d226576",
   "metadata": {
    "tags": []
   },
   "outputs": [],
   "source": [
    "from datetime import date"
   ]
  },
  {
   "cell_type": "code",
   "execution_count": null,
   "id": "b29a514f-bd24-465e-a9e0-8710758af311",
   "metadata": {
    "tags": []
   },
   "outputs": [],
   "source": [
    "df[\"Car_Age\"] = date.today().year - df[\"Year\"]\n",
    "df.head()"
   ]
  },
  {
   "cell_type": "markdown",
   "id": "5d8d3e28-6e90-43e9-a59e-b5ef7146231c",
   "metadata": {},
   "source": [
    "### Extracting Brand & Model of Car"
   ]
  },
  {
   "cell_type": "code",
   "execution_count": null,
   "id": "5193111d-d2cf-4aeb-956a-fd6e52e0108f",
   "metadata": {
    "tags": []
   },
   "outputs": [],
   "source": [
    "df[\"Brand\"] = df[\"Name\"].str.split().str.get(0)\n",
    "df[\"Model\"] = df[\"Name\"].str.split().str.get(1)\n",
    "df[[\"Name\", \"Brand\", \"Model\"]]"
   ]
  },
  {
   "cell_type": "markdown",
   "id": "5249019f-aaf9-48a6-b202-c4c5d5bb8143",
   "metadata": {},
   "source": [
    "## Cleaning data"
   ]
  },
  {
   "cell_type": "markdown",
   "id": "32fbee5c-262a-40a8-9133-4ea52cb58367",
   "metadata": {},
   "source": [
    "### Cleaning Brand Name"
   ]
  },
  {
   "cell_type": "code",
   "execution_count": null,
   "id": "c3768ecb-33c8-4a0c-8770-e56f01ce8324",
   "metadata": {
    "tags": []
   },
   "outputs": [],
   "source": [
    "print((\"Current Data set has {0} unique brand names \\n\").format(df[\"Brand\"].nunique()))\n",
    "print(df[\"Brand\"].unique())"
   ]
  },
  {
   "cell_type": "markdown",
   "id": "158bcf20-4dba-4f62-b931-52678245b916",
   "metadata": {},
   "source": [
    "- __\"Land\", \"Mini\" appear to be incorrect as there are no brands by these names__\n",
    "- __\"ISUZU/Isuzu\" is the same Brand with typo difference__"
   ]
  },
  {
   "cell_type": "code",
   "execution_count": null,
   "id": "b008ce98-ca08-4ee7-9f7a-a1ba02c1898f",
   "metadata": {
    "tags": []
   },
   "outputs": [],
   "source": [
    "# Filtering the records for which Brand name needs to be cleaned\n",
    "incorrect_model_name = [\"Land\", \"Mini\", \"ISUZU\", \"Isuzu\"]\n",
    "filt = df[\"Brand\"].str.contains(\"|\".join(incorrect_model_name), case= False)\n",
    "df.loc[filt, [\"Name\", \"Brand\", \"Model\"]]"
   ]
  },
  {
   "cell_type": "code",
   "execution_count": null,
   "id": "3149f145-80c6-4854-b54a-7e21f119fbc8",
   "metadata": {
    "tags": []
   },
   "outputs": [],
   "source": [
    "# Replacing incorrect brand names with correct name\n",
    "df[\"Brand\"].replace({\"ISUZU\": \"Isuzu\", \"Mini\": \"Mini Cooper\", \"Land\": \"Land Rover\"}, inplace= True)\n",
    "df.loc[filt, [\"Name\", \"Brand\", \"Model\"]]"
   ]
  },
  {
   "cell_type": "markdown",
   "id": "073c9c8a-72e0-4507-bb05-bc8b671b85fb",
   "metadata": {},
   "source": [
    "### Extracting numeric value of Mileage"
   ]
  },
  {
   "cell_type": "code",
   "execution_count": null,
   "id": "012230ed-6a00-4651-b183-ba414aaf2094",
   "metadata": {
    "tags": []
   },
   "outputs": [],
   "source": [
    "# Splitting numeric value of Mileage from its unit\n",
    "df[\"Mileage_Unit\"] = df[\"Mileage\"].str.split().str.get(1)\n",
    "df[\"Mileage\"] = df[\"Mileage\"].str.split().str.get(0)\n",
    "df[\"Mileage\"] = df[\"Mileage\"].astype(float)\n",
    "df.head()"
   ]
  },
  {
   "cell_type": "markdown",
   "id": "45e32073-581b-442f-b3eb-42b3d45f4dc7",
   "metadata": {},
   "source": [
    "#### Checking different units of mileage and its frequency\n",
    "<a id='mileage-units'></a>"
   ]
  },
  {
   "cell_type": "code",
   "execution_count": null,
   "id": "207166ea-75fc-4321-beae-cb77a272f8bd",
   "metadata": {
    "tags": []
   },
   "outputs": [],
   "source": [
    "print(f'Mileage is specified in {df[\"Mileage_Unit\"].unique()} units with below frequency:\\n')\n",
    "print(df[\"Mileage_Unit\"].value_counts())"
   ]
  },
  {
   "cell_type": "markdown",
   "id": "0ff9cbce-adc1-4549-9840-870be557330a",
   "metadata": {},
   "source": [
    "### Extracting numeric value of Engine"
   ]
  },
  {
   "cell_type": "code",
   "execution_count": null,
   "id": "dccaf61c-cab7-4572-9ccd-0a7db8d6a9ee",
   "metadata": {
    "tags": []
   },
   "outputs": [],
   "source": [
    "# replacing null with np.nan\n",
    "df[\"Engine\"].replace(\"null\", np.nan, inplace=True)"
   ]
  },
  {
   "cell_type": "code",
   "execution_count": null,
   "id": "959ba8ae-598a-4fea-bbe6-8986cc54a5d2",
   "metadata": {
    "tags": []
   },
   "outputs": [],
   "source": [
    "# Splitting numeric value of Engine from its unit\n",
    "df[\"Engine_Unit\"] = df[\"Engine\"].str.split().str.get(1)\n",
    "df[\"Engine\"] = df[\"Engine\"].str.split().str.get(0)\n",
    "df[\"Engine\"] = df[\"Engine\"].astype(float)\n",
    "df.head()"
   ]
  },
  {
   "cell_type": "code",
   "execution_count": null,
   "id": "89a5dc78-5ed0-49d3-9763-1aa5191ad857",
   "metadata": {
    "tags": []
   },
   "outputs": [],
   "source": [
    "print(f'Engine Capcity is expressed in {df[\"Engine_Unit\"].unique()} units')"
   ]
  },
  {
   "cell_type": "markdown",
   "id": "245dd0e5-2db9-45c3-a3ca-e45ef44cc690",
   "metadata": {},
   "source": [
    "<a id='engine-units'></a>\n",
    "__Dropping column \"Engine_Unit\" since all values are in CC__ (Ignoring na values)"
   ]
  },
  {
   "cell_type": "code",
   "execution_count": null,
   "id": "2c6b7824-a457-400a-a3cc-62e5bc74e185",
   "metadata": {
    "tags": []
   },
   "outputs": [],
   "source": [
    "df.drop(\"Engine_Unit\", axis = \"columns\", inplace=True)\n",
    "df.head()"
   ]
  },
  {
   "cell_type": "markdown",
   "id": "3fce7f86-473b-4249-88ac-ae9ee0f70607",
   "metadata": {},
   "source": [
    "### Extracting numeric value of Power"
   ]
  },
  {
   "cell_type": "code",
   "execution_count": null,
   "id": "2bbdc8a2-092b-4d1e-9a5e-c036c49137d9",
   "metadata": {
    "tags": []
   },
   "outputs": [],
   "source": [
    "# Splitting numeric value of Power from its unit\n",
    "df[\"Power_Unit\"] = df[\"Power\"].str.split().str.get(1)\n",
    "df[\"Power\"] = df[\"Power\"].str.split().str.get(0)\n",
    "df.head()"
   ]
  },
  {
   "cell_type": "code",
   "execution_count": null,
   "id": "66562ee1-3cd0-4043-b2c1-59c788dfa2ff",
   "metadata": {
    "tags": []
   },
   "outputs": [],
   "source": [
    "print(f'Power is expressed in {df[\"Power_Unit\"].unique()} units')"
   ]
  },
  {
   "cell_type": "markdown",
   "id": "372efa1f-07f2-4f27-867a-58f15cb34011",
   "metadata": {},
   "source": [
    "<a id='Power-units'></a>\n",
    "__Dropping column \"Power\" since all values are in bhp__ (Ignoring na values)"
   ]
  },
  {
   "cell_type": "code",
   "execution_count": null,
   "id": "e2927e02-2a8a-4573-92d4-8290ef9acac7",
   "metadata": {
    "tags": []
   },
   "outputs": [],
   "source": [
    "df.drop(\"Power_Unit\", axis = \"columns\", inplace=True)\n",
    "df.head()"
   ]
  },
  {
   "cell_type": "markdown",
   "id": "8b5706f7-cf76-4c10-98c8-7d2cff1726bb",
   "metadata": {},
   "source": [
    "*\"Power\" column contains some null values and cannot be directly coerced to float datatype*"
   ]
  },
  {
   "cell_type": "code",
   "execution_count": null,
   "id": "c1697fbc-27e9-4015-a463-947c96d4e153",
   "metadata": {
    "tags": []
   },
   "outputs": [],
   "source": [
    "# replacing null with np.nan\n",
    "df[\"Power\"].replace(\"null\", np.nan, inplace=True)"
   ]
  },
  {
   "cell_type": "code",
   "execution_count": null,
   "id": "36eed5e2-6c2a-42a8-a449-ec3522f4c550",
   "metadata": {
    "tags": []
   },
   "outputs": [],
   "source": [
    "# Converting power to float type for analysis as continuous distribution\n",
    "df[\"Power\"] = df[\"Power\"].astype(float)\n",
    "df.head()"
   ]
  },
  {
   "cell_type": "markdown",
   "id": "81d8a924-f1a0-4ed1-a373-9dd0e5ade3f0",
   "metadata": {},
   "source": [
    "### Extracting numeric value of \"New_Price\""
   ]
  },
  {
   "cell_type": "code",
   "execution_count": null,
   "id": "3cc12ea7-8a7f-4ab2-abfb-aeb69dc8f73d",
   "metadata": {
    "tags": []
   },
   "outputs": [],
   "source": [
    "# replacing null with np.nan\n",
    "df[\"New_Price\"].replace(\"null\", np.nan, inplace=True)"
   ]
  },
  {
   "cell_type": "code",
   "execution_count": null,
   "id": "a2cc7de0-d0ef-4a21-98fa-b6d93c88646b",
   "metadata": {
    "tags": []
   },
   "outputs": [],
   "source": [
    "df[\"New_Price_Unit\"] = df[\"New_Price\"].str.split().str.get(1)\n",
    "df[\"New_Price\"] = df[\"New_Price\"].str.split().str.get(0)\n",
    "df[\"New_Price\"] = df[\"New_Price\"].astype(float)\n",
    "df.head()"
   ]
  },
  {
   "cell_type": "code",
   "execution_count": null,
   "id": "ee45d198-80a7-4e08-b025-148a1f280632",
   "metadata": {
    "tags": []
   },
   "outputs": [],
   "source": [
    "print(f'New_Price coulmn has {df[\"New_Price_Unit\"].unique()} units')"
   ]
  },
  {
   "cell_type": "markdown",
   "id": "2fd50220-c4d1-4fa0-bf01-b5729e2c5220",
   "metadata": {},
   "source": [
    "<a id='price-units'></a>\n",
    "__Units of New Price are in Lakh and Crore, hence converting all values to Lakhs to standardise units__ (Ignoring na)"
   ]
  },
  {
   "cell_type": "code",
   "execution_count": null,
   "id": "b48d4bec-7bbe-4dfa-9241-7374a8687190",
   "metadata": {
    "tags": []
   },
   "outputs": [],
   "source": [
    "filt = (df[\"New_Price_Unit\"] == \"Cr\")\n",
    "df.loc[filt, \"New_Price\"] *=100"
   ]
  },
  {
   "cell_type": "markdown",
   "id": "119535cf-fceb-4e07-9bb1-eea180dbf5c1",
   "metadata": {},
   "source": [
    "__Dropping column \"New_Price\" since all values are now in Lakh__ (Ignoring na values)"
   ]
  },
  {
   "cell_type": "code",
   "execution_count": null,
   "id": "652fdd79-e2b3-4e04-85c0-ad89f99d4ed1",
   "metadata": {
    "tags": []
   },
   "outputs": [],
   "source": [
    "df.drop(\"New_Price_Unit\", axis=\"columns\", inplace=True)\n",
    "df.head(n=4)"
   ]
  },
  {
   "cell_type": "markdown",
   "id": "ba846d0a-3fa0-427a-a102-4219f5e5f463",
   "metadata": {},
   "source": [
    "<a id='resale-price'></a>\n",
    "- __\"Price\" column refers to resale price of the car__<br>\n",
    "- Renaming the column accordingly<br>\n",
    "- Unit for resale price not given, assuming it is in lakh"
   ]
  },
  {
   "cell_type": "code",
   "execution_count": null,
   "id": "f73d5f1a-d203-4940-81e5-b2ed4dca8d0c",
   "metadata": {
    "tags": []
   },
   "outputs": [],
   "source": [
    "df.rename(columns={\"Price\":\"Resale_Price\"}, inplace=True)\n",
    "df.head(n=4)"
   ]
  },
  {
   "cell_type": "markdown",
   "id": "dc4e70c9-2d66-4c87-a458-1a52d439a6ce",
   "metadata": {},
   "source": [
    "### Separating Numerical and Categorical variables"
   ]
  },
  {
   "cell_type": "code",
   "execution_count": null,
   "id": "162db714-7533-4d1e-bb57-cec633c332e5",
   "metadata": {
    "tags": []
   },
   "outputs": [],
   "source": [
    "categorical_col_list = df.select_dtypes(include=[object]).columns.to_list()\n",
    "numerical_col_list = df.select_dtypes(include=[np.number]).columns.to_list()\n",
    "\n",
    "print(f\"Categorical Variables: {categorical_col_list}\")\n",
    "print(f\"Numerical Variables: {numerical_col_list}\")"
   ]
  },
  {
   "cell_type": "markdown",
   "id": "b374713b-9df5-4cd2-93c1-a22ef4ad956c",
   "metadata": {
    "tags": []
   },
   "source": [
    "### Imputing rows with Missing Values"
   ]
  },
  {
   "cell_type": "code",
   "execution_count": null,
   "id": "5072b2a6-e3ee-4f59-8f93-1df5afa7a832",
   "metadata": {
    "tags": []
   },
   "outputs": [],
   "source": [
    "df.isnull().sum()"
   ]
  },
  {
   "cell_type": "code",
   "execution_count": null,
   "id": "14d64084-7613-4886-bae0-cd1e92d2ef6c",
   "metadata": {
    "tags": []
   },
   "outputs": [],
   "source": [
    "round(df.isnull().mean()*100,2)"
   ]
  },
  {
   "cell_type": "markdown",
   "id": "72c3a033-b0b4-4cde-8fd8-5fb9ef107676",
   "metadata": {},
   "source": [
    "#### Mileage"
   ]
  },
  {
   "cell_type": "code",
   "execution_count": null,
   "id": "fa6ab5cb-80a6-4735-9537-4274bfeb1a6e",
   "metadata": {
    "tags": []
   },
   "outputs": [],
   "source": [
    "print(f\"Mileage has {df.loc[(df['Mileage'].isnull()),'Mileage'].isnull().sum()} null values\")"
   ]
  },
  {
   "cell_type": "code",
   "execution_count": null,
   "id": "fbbecfc6-1385-4a87-b509-4e76e0761d68",
   "metadata": {
    "tags": []
   },
   "outputs": [],
   "source": [
    "# Assuming \"kmpl\" as common unit for mileage\n",
    "df[\"Mileage_Unit\"] = df[\"Mileage_Unit\"].fillna(\"kmpl\")\n",
    "df.loc[df[\"Mileage_Unit\"].isnull()]"
   ]
  },
  {
   "cell_type": "code",
   "execution_count": null,
   "id": "936031cf-b12e-44a8-b4fc-0bc9cfcd6682",
   "metadata": {
    "tags": []
   },
   "outputs": [],
   "source": [
    "print(df[\"Mileage\"].describe())\n",
    "print(df[\"Mileage\"].skew())"
   ]
  },
  {
   "cell_type": "markdown",
   "id": "5536057c-d749-4c68-b2b6-a961ebeed37a",
   "metadata": {},
   "source": [
    "*__Mileage distribution is slightly left skewed, hence choosing Median as central tendency for imputation__*"
   ]
  },
  {
   "cell_type": "code",
   "execution_count": null,
   "id": "f7e5645d-84a6-4f5c-b336-fc6f9d70794a",
   "metadata": {
    "tags": []
   },
   "outputs": [],
   "source": [
    "# using median at Brand and Model level granularity to impute\n",
    "medians = df.groupby([\"Brand\", \"Model\"])[\"Mileage\"].transform(\"median\")\n",
    "df[\"Mileage\"] = df[\"Mileage\"].fillna(medians)\n",
    "print(f\"Data has {df['Mileage'].isnull().sum()} rows with null values for Mileage\")"
   ]
  },
  {
   "cell_type": "code",
   "execution_count": null,
   "id": "ab2ac137-e058-45cc-ad11-51c9222a457f",
   "metadata": {
    "tags": []
   },
   "outputs": [],
   "source": [
    "# using median at Fuel Type, Power and Engine Capacity level granularity to impute as they impact Mileage\n",
    "medians = df.groupby([\"Fuel_Type\", \"Power\", \"Engine\"])[\"Mileage\"].transform(\"median\")\n",
    "df[\"Mileage\"] = df[\"Mileage\"].fillna(medians)\n",
    "print(f\"Data has {df['Mileage'].isnull().sum()} rows with null values for Mileage\")"
   ]
  },
  {
   "cell_type": "code",
   "execution_count": null,
   "id": "0af9ae70-262d-41d6-b27b-c7942ec80296",
   "metadata": {
    "tags": []
   },
   "outputs": [],
   "source": [
    "# Grouping by Brand, Transmission, Fuel_Type for imputing remaining values for Mileage\n",
    "medians = df.groupby([\"Brand\", \"Transmission\", \"Seats\"])[\"Mileage\"].transform(\"median\")\n",
    "df[\"Mileage\"] = df[\"Mileage\"].fillna(medians)\n",
    "print(f\"Data has {df['Mileage'].isnull().sum()} rows with null values for Mileage\")"
   ]
  },
  {
   "cell_type": "code",
   "execution_count": null,
   "id": "222391fa-f36d-4d05-945c-db0e29695543",
   "metadata": {
    "tags": []
   },
   "outputs": [],
   "source": [
    "df.isnull().sum()"
   ]
  },
  {
   "cell_type": "markdown",
   "id": "398464e8-6920-492d-91cb-11ee0c354135",
   "metadata": {},
   "source": [
    "#### Power"
   ]
  },
  {
   "cell_type": "code",
   "execution_count": null,
   "id": "8a870973-7149-453c-b080-f9fc66ac61ab",
   "metadata": {
    "tags": []
   },
   "outputs": [],
   "source": [
    "print(f\"Power has {df['Power'].isnull().sum()} null values\")"
   ]
  },
  {
   "cell_type": "code",
   "execution_count": null,
   "id": "63cd3469-4c5b-47a6-8c6d-0105ebc30ff2",
   "metadata": {
    "tags": []
   },
   "outputs": [],
   "source": [
    "print(df[\"Power\"].describe())\n",
    "print(df[\"Power\"].skew())"
   ]
  },
  {
   "cell_type": "markdown",
   "id": "09e3d09d-f797-42e2-b61b-4822691348a2",
   "metadata": {},
   "source": [
    "*__Power distribution is moderately right skewed, hence choosing Median as central tendency for imputation__*"
   ]
  },
  {
   "cell_type": "code",
   "execution_count": null,
   "id": "a89704c6-96b5-4d4c-83a9-4d2287917c6b",
   "metadata": {
    "tags": []
   },
   "outputs": [],
   "source": [
    "df.loc[df[\"Power\"].isnull(), \"Name\"].value_counts()"
   ]
  },
  {
   "cell_type": "code",
   "execution_count": null,
   "id": "727bbfa9-0e97-4019-adb5-27e05a0714d8",
   "metadata": {
    "tags": []
   },
   "outputs": [],
   "source": [
    "# using median at Name & Year level granularity to impute\n",
    "medians = df.groupby([\"Name\", \"Year\"])[\"Power\"].transform(\"median\")\n",
    "df[\"Power\"] = df[\"Power\"].fillna(medians)\n",
    "print(f\"Data has {df['Power'].isnull().sum()} rows with null values for Power\")"
   ]
  },
  {
   "cell_type": "code",
   "execution_count": null,
   "id": "3ed2ae29-43e4-443e-a211-1abdfe31ead9",
   "metadata": {},
   "outputs": [],
   "source": [
    "# using median at Model & Year level granularity to impute\n",
    "medians = df.groupby([\"Model\", \"Year\"])[\"Power\"].transform(\"median\")\n",
    "df[\"Power\"] = df[\"Power\"].fillna(medians)\n",
    "print(f\"Data has {df['Power'].isnull().sum()} rows with null values for Power\")"
   ]
  },
  {
   "cell_type": "code",
   "execution_count": null,
   "id": "dd79459e-97e5-4f7a-8988-235fc4fc2654",
   "metadata": {
    "tags": []
   },
   "outputs": [],
   "source": [
    "# using median at Brand & Model level granularity to impute\n",
    "median = df.groupby([\"Brand\", \"Model\"])[\"Power\"].transform(\"median\")\n",
    "df[\"Power\"] = df[\"Power\"].fillna(median)\n",
    "print(f\"Data has {df['Power'].isnull().sum()} rows with null values for Power\")"
   ]
  },
  {
   "cell_type": "code",
   "execution_count": null,
   "id": "edd7702c-a99d-4518-a237-db8501afc03d",
   "metadata": {
    "tags": []
   },
   "outputs": [],
   "source": [
    "# using median at Fuel type, transmission & Engine level granularity to impute as they impact Power\n",
    "median = df.groupby([\"Fuel_Type\", \"Transmission\", \"Engine\"])[\"Power\"].transform(\"median\")\n",
    "df[\"Power\"] = df[\"Power\"].fillna(median)\n",
    "print(f\"Data has {df['Power'].isnull().sum()} rows with null values for Power\")"
   ]
  },
  {
   "cell_type": "code",
   "execution_count": null,
   "id": "543e2fa1-8d30-427f-847e-0b76b79a77e5",
   "metadata": {
    "tags": []
   },
   "outputs": [],
   "source": [
    "df.isnull().sum()"
   ]
  },
  {
   "cell_type": "markdown",
   "id": "27d0035e-3147-4464-9538-f36d5f5b69e6",
   "metadata": {},
   "source": [
    "#### Engine"
   ]
  },
  {
   "cell_type": "code",
   "execution_count": null,
   "id": "f6456968-7580-44af-8151-d62ff40e6e1e",
   "metadata": {
    "tags": []
   },
   "outputs": [],
   "source": [
    "print(f\"Engine has {df['Engine'].isnull().sum()} null values\")"
   ]
  },
  {
   "cell_type": "code",
   "execution_count": null,
   "id": "3ad1a067-04c1-4123-9f45-e4e379544684",
   "metadata": {
    "tags": []
   },
   "outputs": [],
   "source": [
    "print(df[\"Engine\"].describe())\n",
    "print(df[\"Engine\"].skew())"
   ]
  },
  {
   "cell_type": "markdown",
   "id": "11f99a3e-47b7-4830-9607-81e8cfcd8cbb",
   "metadata": {},
   "source": [
    "*__Engine distribution is moderately right skewed, hence choosing Median as central tendency for imputation__*"
   ]
  },
  {
   "cell_type": "code",
   "execution_count": null,
   "id": "3ba04563-ecb0-4544-b680-25c46d6f887a",
   "metadata": {
    "tags": []
   },
   "outputs": [],
   "source": [
    "df.loc[df[\"Engine\"].isnull(), [\"Name\", \"Year\"]].value_counts()"
   ]
  },
  {
   "cell_type": "code",
   "execution_count": null,
   "id": "06e6379a-1ab3-4724-b3db-cd8406c0a7e8",
   "metadata": {
    "tags": []
   },
   "outputs": [],
   "source": [
    "# using median at Name & Year level granularity to impute\n",
    "medians = df.groupby([\"Name\", \"Year\"])[\"Engine\"].transform(\"median\")\n",
    "df[\"Engine\"] = df[\"Engine\"].fillna(medians)\n",
    "print(f\"Data has {df['Engine'].isnull().sum()} rows with null values for Engine\")"
   ]
  },
  {
   "cell_type": "code",
   "execution_count": null,
   "id": "bb18604b-5aef-4630-b307-c305a577765b",
   "metadata": {
    "tags": []
   },
   "outputs": [],
   "source": [
    "df.groupby([\"Model\", \"Year\"])[\"Engine\"].median()"
   ]
  },
  {
   "cell_type": "code",
   "execution_count": null,
   "id": "641fe6e9-adaf-48c2-9294-9c13386e7b26",
   "metadata": {
    "tags": []
   },
   "outputs": [],
   "source": [
    "# Engine capacity for a model remained broadly stable across release years, \n",
    "# hence imputing with median at granularity of Model and Year\n",
    "medians = df.groupby([\"Model\", \"Year\"])[\"Engine\"].transform(\"median\")\n",
    "df[\"Engine\"] = df[\"Engine\"].fillna(medians)\n",
    "print(f\"Data has {df['Engine'].isnull().sum()} rows with null values for Engine\")"
   ]
  },
  {
   "cell_type": "code",
   "execution_count": null,
   "id": "87e0cae1-bc9c-4503-aedf-13fc7e323d9d",
   "metadata": {
    "tags": []
   },
   "outputs": [],
   "source": [
    "# using median at Brand & Model level granularity to impute\n",
    "medians = df.groupby([\"Brand\", \"Model\"])[\"Engine\"].transform(\"median\")\n",
    "df[\"Engine\"] = df[\"Engine\"].fillna(medians)\n",
    "print(f\"Data has {df['Engine'].isnull().sum()} rows with null values for Engine\")"
   ]
  },
  {
   "cell_type": "code",
   "execution_count": null,
   "id": "ac7b79be-6bbc-422f-8583-6a9d3c4c71e5",
   "metadata": {
    "tags": []
   },
   "outputs": [],
   "source": [
    "df.isnull().sum()"
   ]
  },
  {
   "cell_type": "markdown",
   "id": "f8302c49-8ad7-4094-9af4-f9b61eac06cf",
   "metadata": {},
   "source": [
    "#### Seats"
   ]
  },
  {
   "cell_type": "code",
   "execution_count": null,
   "id": "993ff98f-b629-4b29-8cd6-643823f586e3",
   "metadata": {
    "tags": []
   },
   "outputs": [],
   "source": [
    "print(f\"Seats has {df['Seats'].isnull().sum()} null values\")"
   ]
  },
  {
   "cell_type": "code",
   "execution_count": null,
   "id": "cd16f64f-aa37-4daa-9340-d62fe3b26726",
   "metadata": {
    "tags": []
   },
   "outputs": [],
   "source": [
    "print(df[\"Seats\"].describe())\n",
    "print(df[\"Seats\"].skew())"
   ]
  },
  {
   "cell_type": "markdown",
   "id": "89ccb3bd-de80-4307-9131-e633681a3a00",
   "metadata": {},
   "source": [
    "*__Seats distribution is moderately right skewed<br>\n",
    "For imputation we shall use median value since seats anyways can't be in decimals__*"
   ]
  },
  {
   "cell_type": "code",
   "execution_count": null,
   "id": "cadc03f2-2976-474e-bb12-7e8ba2f464a9",
   "metadata": {
    "tags": []
   },
   "outputs": [],
   "source": [
    "df[df[\"Seats\"]==10]"
   ]
  },
  {
   "cell_type": "markdown",
   "id": "6fd8b76f-0907-4582-8327-c4970a3e1ad4",
   "metadata": {},
   "source": [
    "10 Seats, despite being a outlier, is not a data entry issue on account of specific high end SUVs support 10 seats <br>"
   ]
  },
  {
   "cell_type": "code",
   "execution_count": null,
   "id": "43e617ef-4dd5-4799-b3c3-ec93303cbfae",
   "metadata": {
    "tags": []
   },
   "outputs": [],
   "source": [
    "# using median at Name level granularity to impute\n",
    "medians = df.groupby([\"Name\"])[\"Seats\"].transform(\"median\")\n",
    "df[\"Seats\"] = df[\"Seats\"].fillna(medians)\n",
    "print(f\"Data has {df['Seats'].isnull().sum()} rows with null values for Seats\")"
   ]
  },
  {
   "cell_type": "code",
   "execution_count": null,
   "id": "75f66bad-fdec-4109-b3f7-ac2f5aa148df",
   "metadata": {
    "tags": []
   },
   "outputs": [],
   "source": [
    "# using median at Brand & Model level granularity to impute\n",
    "medians = df.groupby([\"Brand\", \"Model\"])[\"Seats\"].transform(\"median\")\n",
    "df[\"Seats\"] = df[\"Seats\"].fillna(medians)\n",
    "print(f\"Data has {df['Seats'].isnull().sum()} rows with null values for Seats\")"
   ]
  },
  {
   "cell_type": "code",
   "execution_count": null,
   "id": "5dc8b053-f8be-4ae1-b768-b9c0394960bd",
   "metadata": {
    "tags": []
   },
   "outputs": [],
   "source": [
    "df[df[\"Seats\"].isnull()]"
   ]
  },
  {
   "cell_type": "markdown",
   "id": "cc049a00-3dac-4ddd-9fac-0c9317962f3f",
   "metadata": {},
   "source": [
    "- All remaining null rows belong to Maruti Estilo <br>\n",
    "- By domain info we know that Maruti Estilo is 5 seater car; Imputing values accordingly"
   ]
  },
  {
   "cell_type": "code",
   "execution_count": null,
   "id": "ed8d8a93-3da7-46b0-8bc6-afe416161852",
   "metadata": {
    "tags": []
   },
   "outputs": [],
   "source": [
    "df[\"Seats\"] = df[\"Seats\"].fillna(5)\n",
    "print(f\"Data has {df['Seats'].isnull().sum()} rows with null values for Seats\")"
   ]
  },
  {
   "cell_type": "code",
   "execution_count": null,
   "id": "a28e9fd4-71c8-4ea0-bef0-43bd449c23de",
   "metadata": {
    "tags": []
   },
   "outputs": [],
   "source": [
    "df.isnull().sum()"
   ]
  },
  {
   "cell_type": "markdown",
   "id": "2705f175-0342-473a-83eb-2954e1c44055",
   "metadata": {},
   "source": [
    "#### New Price"
   ]
  },
  {
   "cell_type": "code",
   "execution_count": null,
   "id": "10751a4b-4be6-4523-bedb-4c84ca6747f0",
   "metadata": {
    "tags": []
   },
   "outputs": [],
   "source": [
    "print(f\"New_Price column has {df['New_Price'].isnull().sum()} null values\")"
   ]
  },
  {
   "cell_type": "code",
   "execution_count": null,
   "id": "17b4ad45-74e9-481b-93d2-6d4bc009d48a",
   "metadata": {
    "tags": []
   },
   "outputs": [],
   "source": [
    "print(df[\"New_Price\"].describe())\n",
    "print(df[\"New_Price\"].skew())"
   ]
  },
  {
   "cell_type": "markdown",
   "id": "393cdfe9-8030-4cde-a068-96a854404aee",
   "metadata": {},
   "source": [
    "*__New Price is heavily right skewed, probably because of an outlier; choosing Median as central tendency to impute*__"
   ]
  },
  {
   "cell_type": "code",
   "execution_count": null,
   "id": "320ee2ac-9b9a-45b9-b510-ecee84e44b46",
   "metadata": {
    "tags": []
   },
   "outputs": [],
   "source": [
    "df.groupby([\"Name\", \"Year\"])[\"New_Price\"].median()"
   ]
  },
  {
   "cell_type": "code",
   "execution_count": null,
   "id": "430d5a4e-d26e-422d-a003-cfde83214df3",
   "metadata": {
    "tags": []
   },
   "outputs": [],
   "source": [
    "# using median at Name & Year level granularity to impute\n",
    "medians = df.groupby([\"Name\", \"Year\"])[\"New_Price\"].transform(\"median\")\n",
    "df[\"New_Price\"] = df[\"New_Price\"].fillna(medians)\n",
    "print(f\"Data has {df['New_Price'].isnull().sum()} rows with null values for New_Price\")"
   ]
  },
  {
   "cell_type": "code",
   "execution_count": null,
   "id": "995e4570-03ec-4276-968e-e4b54a8880c8",
   "metadata": {
    "tags": []
   },
   "outputs": [],
   "source": [
    "# using median at Brand, Model & Year level granularity to impute\n",
    "medians = df.groupby([\"Brand\", \"Model\", \"Year\"])[\"New_Price\"].transform(\"median\")\n",
    "df[\"New_Price\"] = df[\"New_Price\"].fillna(medians)\n",
    "print(f\"Data has {df['New_Price'].isnull().sum()} rows with null values for New_Price\")"
   ]
  },
  {
   "cell_type": "code",
   "execution_count": null,
   "id": "ffab9f26-5ff2-4302-8b19-5d6b45ab72d5",
   "metadata": {
    "tags": []
   },
   "outputs": [],
   "source": [
    "# using median at Brand, Model level granularity to impute\n",
    "medians = df.groupby([\"Brand\", \"Model\"])[\"New_Price\"].transform(\"median\")\n",
    "df[\"New_Price\"] = df[\"New_Price\"].fillna(medians)\n",
    "print(f\"Data has {df['New_Price'].isnull().sum()} rows with null values for New_Price\")"
   ]
  },
  {
   "cell_type": "code",
   "execution_count": null,
   "id": "cd8f6709-901e-448f-bf2f-91341afb0259",
   "metadata": {
    "tags": []
   },
   "outputs": [],
   "source": [
    "# using median at Model level granularity to impute\n",
    "median = df.groupby([\"Model\"])[\"New_Price\"].transform(\"median\")\n",
    "df[\"New_Price\"] = df[\"New_Price\"].fillna(medians)\n",
    "print(f\"Data has {df['New_Price'].isnull().sum()} rows with null values for New_Price\")"
   ]
  },
  {
   "cell_type": "code",
   "execution_count": null,
   "id": "7438261f-6309-4aeb-a0c7-1de00d831b1b",
   "metadata": {
    "tags": []
   },
   "outputs": [],
   "source": [
    "# using medians at Model level granularity to impute\n",
    "medians = df.groupby([\"Brand\"])[\"New_Price\"].transform(\"median\")\n",
    "df[\"New_Price\"] = df[\"New_Price\"].fillna(medians)\n",
    "print(f\"Data has {df['New_Price'].isnull().sum()} rows with null values for New_Price\")"
   ]
  },
  {
   "cell_type": "code",
   "execution_count": null,
   "id": "b489532b-8ca6-46b0-954b-f4ec289388fe",
   "metadata": {
    "tags": []
   },
   "outputs": [],
   "source": [
    "missing_brand_list = df.loc[df[\"New_Price\"].isnull(), \"Brand\"].unique()\n",
    "print(df.loc[df[\"Brand\"].isin(missing_brand_list), \"New_Price\"].unique())\n",
    "print(f'[{\",\".join(missing_brand_list)}] have no non-null rows of New_price\"')"
   ]
  },
  {
   "cell_type": "code",
   "execution_count": null,
   "id": "bad8ed9b-0f59-4f69-b1e8-92df0568d21c",
   "metadata": {
    "tags": []
   },
   "outputs": [],
   "source": [
    "# using means at Seats, Fuel_Type, Transmission & Engine level granularity to impute for these cars for closest approximation\n",
    "means = df.groupby([\"Seats\", \"Fuel_Type\", \"Transmission\", \"Engine\"])[\"New_Price\"].transform(\"mean\")\n",
    "df[\"New_Price\"] = df[\"New_Price\"].fillna(means)\n",
    "print(f\"Data has {df['New_Price'].isnull().sum()} rows with null values for New_Price\")"
   ]
  },
  {
   "cell_type": "code",
   "execution_count": null,
   "id": "109f158d-ca56-42bf-9f14-49a98d54a149",
   "metadata": {
    "tags": []
   },
   "outputs": [],
   "source": [
    "df.loc[df[\"Brand\"].isin(missing_brand_list)]"
   ]
  },
  {
   "cell_type": "code",
   "execution_count": null,
   "id": "9f3c4977-cd59-4fb3-ba6c-1b4e002c18f3",
   "metadata": {
    "tags": []
   },
   "outputs": [],
   "source": [
    "df.isnull().sum()"
   ]
  },
  {
   "cell_type": "markdown",
   "id": "85db7146-dcf5-48e3-bd46-f754673f83df",
   "metadata": {},
   "source": [
    "### Dropping Remaining rows with null values"
   ]
  },
  {
   "cell_type": "markdown",
   "id": "3a53121c-c97d-48cb-bec6-2ad39fe2edb1",
   "metadata": {},
   "source": [
    "__Dropping remaining rows where mileage, power, new_price is null since they at max 1% null values__"
   ]
  },
  {
   "cell_type": "code",
   "execution_count": null,
   "id": "a009fdc7-2126-4520-9fcf-37534c9bf463",
   "metadata": {
    "tags": []
   },
   "outputs": [],
   "source": [
    "df.dropna(subset=[\"Mileage\", \"Power\", \"New_Price\"], inplace=True)\n",
    "df.head()"
   ]
  },
  {
   "cell_type": "markdown",
   "id": "b8cd6b38-33f3-4f41-8d7f-18881200c22c",
   "metadata": {},
   "source": [
    "__Creating a dataframe with null values of Resale Price to be used as for test data__"
   ]
  },
  {
   "cell_type": "code",
   "execution_count": null,
   "id": "c4e2c859-ec9e-405d-ab86-b2a92657b424",
   "metadata": {
    "tags": []
   },
   "outputs": [],
   "source": [
    "df_test = df[df[\"Resale_Price\"].isnull()].copy()\n",
    "print(df_test.shape)\n",
    "df_test.head()"
   ]
  },
  {
   "cell_type": "markdown",
   "id": "6ff00a22-61dc-4e13-9e11-29cdcff65244",
   "metadata": {},
   "source": [
    "dropping null rows from original dataset"
   ]
  },
  {
   "cell_type": "code",
   "execution_count": null,
   "id": "0898f02d-1746-45e0-b4c5-76cadd4c49a6",
   "metadata": {
    "tags": []
   },
   "outputs": [],
   "source": [
    "df.dropna(inplace=True)\n",
    "df.isnull().sum()"
   ]
  },
  {
   "cell_type": "code",
   "execution_count": null,
   "id": "a62d0afa-e8ba-4bdd-b752-27a57011689c",
   "metadata": {
    "tags": []
   },
   "outputs": [],
   "source": [
    "print(df.shape)\n",
    "print(df_test.shape)"
   ]
  },
  {
   "cell_type": "markdown",
   "id": "0b219c56-b5be-4f11-8970-a3a2e72c7c22",
   "metadata": {},
   "source": [
    "# Exploratory Data Analysis (EDA)"
   ]
  },
  {
   "cell_type": "markdown",
   "id": "ca98fdcb-d79c-4bd8-b1cb-867aa194b5dd",
   "metadata": {},
   "source": [
    "## Statistics Summary"
   ]
  },
  {
   "cell_type": "code",
   "execution_count": null,
   "id": "cd8d4673-05a3-403a-bcab-ec7c1b1f1cf6",
   "metadata": {
    "tags": []
   },
   "outputs": [],
   "source": [
    "df.describe().T"
   ]
  },
  {
   "cell_type": "code",
   "execution_count": null,
   "id": "3447df61-a578-41ef-b9f8-4a22126c7462",
   "metadata": {
    "tags": []
   },
   "outputs": [],
   "source": [
    "df.describe(include=\"all\").T"
   ]
  },
  {
   "cell_type": "markdown",
   "id": "04ff63cb-3b50-407a-8a3f-ce23205cd08f",
   "metadata": {},
   "source": [
    "<a id=\"summary-stats\"></a>\n",
    "__Key Information from Summary Stats__\n",
    "- __Year:__ Dataset contains mdoels from __1996-2019__ i.e. ranging over 23 years\n",
    "  - 75% of the used cars sold are models post 2011 (25 percentile is 2011)\n",
    "- __Km-driven:__ 75% of used cars are driven below 73,000 km\n",
    "  -  Avg km-driven of used cars is 58,700 km\n",
    "  - maximum km-driven is 65lakh km, suggesting it is an outlier i.e. could be removed before predictive modelling: <span style='color:red'>needs more validation</span>\n",
    "- __Mileage:__ On an average Mileage of used cars is 18 kmpl\n",
    "  - mileage comprises of both kmpl and km/kg\n",
    "  - for the sake of analysis will treat both as same since number of rows of km/kg is very less [Mileage Units](#mileage-units)\n",
    "  - Min value is 0, needs validation for probable data-entry issue or outlier for removal\n",
    "- __Engine capacity:__ Engine capcity(in CC - [Engine Unit](#engine-units)) averages around 1616 cc\n",
    "  - Max engine capcity at 5998 CC appears to be an outlier, <span style='color:red'>needs more validation</span>\n",
    "- __Power:__ Power (in bhp) averages around 113 bhp\n",
    "  - Similar to Engine capacity, the max value of 616 bhp suggests outlier, <span style='color:red'>needs more validation</span>\n",
    "- __New Price:__ Original price of used car averages around 22 lakhs [Price Units](#price-units)\n",
    "  - 75% of cars have original price below 26 lakh\n",
    "  - Probable outlier with original price of 3.75Cr (375 lakh)\n",
    "  - Note that over 86% entries do not have original price [Missing Values Info](#missing-values)\n",
    "- __Resale Price:__ Resale price of used car averages around 11 lakhs [Price Units](#resale-price)\n",
    "  - 75% of cars have resale price below 10 lakh\n",
    "  - Probable outlier with resale price of 1.6Cr (160 lakh)\n",
    "  - Note 17% cars do not have a resale price [Missing Values Info](#missing-values)\n",
    "- __Car Age:__ Avg age of cars is ~9.5 years\n",
    "  - 50% used cars are between 7-12 years of age\n",
    "  - few outliers since max Age of used car at 27 years; <span style='color:red'>needs more validation</span>"
   ]
  },
  {
   "cell_type": "markdown",
   "id": "0786e65c-4f22-438e-96e6-8be0b5244cc9",
   "metadata": {},
   "source": [
    "## Univariate Analysis - One step at a time"
   ]
  },
  {
   "cell_type": "code",
   "execution_count": null,
   "id": "98e8e9b4-be72-407c-8b7c-0f8c6d53ecb9",
   "metadata": {
    "tags": []
   },
   "outputs": [],
   "source": [
    "# Creating directory to save plots\n",
    "os.makedirs(\"plots/univariate\", exist_ok=True)"
   ]
  },
  {
   "cell_type": "markdown",
   "id": "9dcf7620-631f-40b6-b5bb-03ac3f627fd8",
   "metadata": {},
   "source": [
    "### Numerical Variables"
   ]
  },
  {
   "cell_type": "code",
   "execution_count": null,
   "id": "8a20a61d-6487-4b6e-ad20-5774721324ca",
   "metadata": {
    "tags": []
   },
   "outputs": [],
   "source": [
    "numerical_col_list"
   ]
  },
  {
   "cell_type": "code",
   "execution_count": null,
   "id": "ba4d340a-f027-4215-97de-6c5a5fc20dd6",
   "metadata": {
    "tags": []
   },
   "outputs": [],
   "source": [
    "excluded_cols = [\"Year\", \"New_Price\"]\n",
    "excluded_cols"
   ]
  },
  {
   "cell_type": "code",
   "execution_count": null,
   "id": "15b2b5a3-b3ac-466a-b578-46feea712a62",
   "metadata": {
    "tags": []
   },
   "outputs": [],
   "source": [
    "filtered_list_numerical = [col for col in numerical_col_list if col not in excluded_cols]\n",
    "filtered_list_numerical"
   ]
  },
  {
   "cell_type": "code",
   "execution_count": null,
   "id": "390000fc-a471-4218-978f-71191cd83350",
   "metadata": {
    "tags": []
   },
   "outputs": [],
   "source": [
    "for num_variable in filtered_list_numerical:\n",
    "    if num_variable == \"Mileage\":\n",
    "        unit = \"(kmpl - km/kg)\"\n",
    "    elif num_variable == \"Engine\":\n",
    "        unit = \"(CC)\"\n",
    "    elif num_variable == \"Power\":\n",
    "        unit = \"(bhp)\"\n",
    "    elif num_variable == \"Car_Age\":\n",
    "        unit = \"(years)\"\n",
    "    elif num_variable == \"Resale_price\":\n",
    "        unit = \"(lakh)\"\n",
    "    else:\n",
    "        unit = \"\"\n",
    "    print(f'Skewness of \"{num_variable}\" is :', round(df[num_variable].skew(), 2))\n",
    "    plt.style.use(\"_mpl-gallery\")\n",
    "    plt.figure(figsize=(15,4))\n",
    "    plt.subplot(1,2,1)\n",
    "    plt.title(f\"Histogram\")\n",
    "    df[num_variable].hist(grid=False)\n",
    "    plt.ylabel(\"Frequency\")\n",
    "    plt.xlabel(f\"{num_variable} {unit}\")\n",
    "    plt.subplot(1,2,2)\n",
    "    plt.title(f\"Boxplot\")\n",
    "    sns.boxplot(x=df[num_variable])\n",
    "    plt.xlabel(f\"{num_variable} {unit}\")\n",
    "    plt.savefig(f\"plots/univariate/{num_variable}.png\", bbox_inches = \"tight\")\n",
    "    plt.show()"
   ]
  },
  {
   "cell_type": "markdown",
   "id": "2da097d7-4b1b-42a8-803b-b3dc0b922b3e",
   "metadata": {},
   "source": [
    "__Numerical Data - Univariate Analysis Observation__ (Further to [Stats Summary](#summary-stats))\n",
    "- __Km Driven:__ All values below 1Lakh km, data is heavily right skewed (Skewness = 61.58) <span style='color:green'>remove outliers over 10L km</span>\n",
    "- __Mileage:__ Mileage is fairly symmetrical with few outliers below 5 <span style='color:green'>Impute outliers with 0.0 Value</span>\n",
    "- __Engine:__ Engine capacity is moderately right skewed; few outliers over 5500cc <span style='color:green'>remove outliers above 5500 cc</span>\n",
    "- __Power:__ Power is moderately right skewed;  outliers over 500 bhp <span style='color:green'>remove outliers above 550 bbhp</span>\n",
    "- __Resale_Price:__ Heavily right skewed, 2 outliers above 1Cr value <span style='color:green'>remove outliers above 1Cr</span>\n",
    "- __Car_Age:__ Fairly symmetrical in distribution; 1 model over 25 years of age <span style='color:green'>remove outliers above 25 Years</span>"
   ]
  },
  {
   "cell_type": "markdown",
   "id": "dd0ae9f1-8f55-4882-9b0e-302d75dfd9f8",
   "metadata": {},
   "source": [
    "### Dropping outlier rows"
   ]
  },
  {
   "cell_type": "code",
   "execution_count": null,
   "id": "87983c9a-c402-4b20-823e-cd36a74fe640",
   "metadata": {
    "tags": []
   },
   "outputs": [],
   "source": [
    "df.drop(df[df[\"Kilometers_Driven\"]>=1000000].index, inplace= True)\n",
    "df.drop(df[df[\"Engine\"]>=5500].index, inplace= True)\n",
    "df.drop(df[df[\"Power\"]>550].index, inplace= True)\n",
    "df.drop(df[df[\"Resale_Price\"]>100].index, inplace= True)\n",
    "df.drop(df[df[\"Car_Age\"]>25].index, inplace= True)"
   ]
  },
  {
   "cell_type": "code",
   "execution_count": null,
   "id": "b1d23e52-b38d-4e7c-8b3b-5afae727613d",
   "metadata": {},
   "outputs": [],
   "source": [
    "df.loc[df[\"Mileage\"] == 0, \"Mileage\"] = np.nan"
   ]
  },
  {
   "cell_type": "markdown",
   "id": "99a6d61a-aec5-4b10-b029-f8eedd39afbf",
   "metadata": {},
   "source": [
    "## Dropping rows"
   ]
  },
  {
   "cell_type": "code",
   "execution_count": null,
   "id": "201cab11-b18f-4a30-aad5-a969747fc40e",
   "metadata": {},
   "outputs": [],
   "source": []
  },
  {
   "cell_type": "code",
   "execution_count": null,
   "id": "2a2d0d6a-a1fb-4636-9f8c-c163715bba23",
   "metadata": {},
   "outputs": [],
   "source": []
  },
  {
   "cell_type": "code",
   "execution_count": null,
   "id": "38af9786-a622-443e-9313-aeb300185c75",
   "metadata": {},
   "outputs": [],
   "source": []
  },
  {
   "cell_type": "code",
   "execution_count": null,
   "id": "02c80a6b-7967-4a09-b298-f19c21b66133",
   "metadata": {},
   "outputs": [],
   "source": []
  },
  {
   "cell_type": "code",
   "execution_count": null,
   "id": "f5a8a85b-25a1-44e3-a9c2-010229ad3f9e",
   "metadata": {
    "tags": []
   },
   "outputs": [],
   "source": []
  },
  {
   "cell_type": "markdown",
   "id": "4c5537fc-cafb-47b7-82a9-33d7dc528bc0",
   "metadata": {},
   "source": [
    "# Handling 0 value of Mileage"
   ]
  },
  {
   "cell_type": "code",
   "execution_count": null,
   "id": "39a990a6-33d8-45b4-a7b1-1ac2f33d27e7",
   "metadata": {
    "tags": []
   },
   "outputs": [],
   "source": [
    "df.loc[df[\"Mileage\"].isnull(), \"Name\"].value_counts().index.tolist()"
   ]
  },
  {
   "cell_type": "code",
   "execution_count": null,
   "id": "d02fef67-ee2b-4e90-9885-ae8a6b89277f",
   "metadata": {
    "tags": []
   },
   "outputs": [],
   "source": [
    "df[\"Mileage\"].describe()"
   ]
  },
  {
   "cell_type": "markdown",
   "id": "45443f10-17c8-4bc7-83b4-2c90ee2d99d3",
   "metadata": {},
   "source": [
    "Mean and Median are broadly same, but fraught with outliers hence imputing null values with median <br>\n",
    "using granular median at Brand and Model level to "
   ]
  },
  {
   "cell_type": "code",
   "execution_count": null,
   "id": "aff0d6bf-160f-48ed-b3d4-559dcd1fb92c",
   "metadata": {
    "tags": []
   },
   "outputs": [],
   "source": [
    "medians = df.groupby([\"Brand\", \"Model\"])[\"Mileage\"].transform(\"median\")\n",
    "df[\"Mileage\"] = df[\"Mileage\"].fillna(medians)"
   ]
  },
  {
   "cell_type": "code",
   "execution_count": null,
   "id": "8fb7e593-6f1d-4114-ab18-1408b33749a8",
   "metadata": {
    "tags": []
   },
   "outputs": [],
   "source": [
    "df[\"Mileage\"].isnull().sum()"
   ]
  },
  {
   "cell_type": "markdown",
   "id": "6b970a76-de0e-4d66-b315-2d251f406a6a",
   "metadata": {},
   "source": [
    "There are 9 rows which still have Mileage as null"
   ]
  },
  {
   "cell_type": "code",
   "execution_count": null,
   "id": "6fd1d811-6cf1-4a03-b227-87e807275d12",
   "metadata": {
    "tags": []
   },
   "outputs": [],
   "source": [
    "# Grouping by Fuel Type, Power and Engine Capacity as they impact Mileage\n",
    "medians = df.groupby([\"Fuel_Type\", \"Power\", \"Engine\"])[\"Mileage\"].transform(\"median\")\n",
    "df[\"Mileage\"] = df[\"Mileage\"].fillna(medians)\n",
    "df[\"Mileage\"].isnull().sum()"
   ]
  },
  {
   "cell_type": "markdown",
   "id": "ac488f1e-7b26-4273-a63c-b427b6300f13",
   "metadata": {},
   "source": [
    "There are 6 rows which still have Mileage as null"
   ]
  },
  {
   "cell_type": "code",
   "execution_count": null,
   "id": "6b32e64e-868b-4528-a3ca-32dcee10e230",
   "metadata": {
    "tags": []
   },
   "outputs": [],
   "source": [
    "# Grouping by Transmission, Brand for imputing remaining values for Mileage\n",
    "medians = df.groupby([\"Transmission\", \"Brand\"])[\"Mileage\"].transform(\"median\")\n",
    "df[\"Mileage\"] = df[\"Mileage\"].fillna(medians)\n",
    "df[\"Mileage\"].isnull().sum()"
   ]
  },
  {
   "cell_type": "markdown",
   "id": "afa90559-63b3-4e93-86e3-994bf685f1df",
   "metadata": {},
   "source": [
    "Leaves us with 1 missing values which may be dropped"
   ]
  },
  {
   "cell_type": "code",
   "execution_count": null,
   "id": "b6d9f799-bbb4-4d0d-95da-f994315a277e",
   "metadata": {
    "tags": []
   },
   "outputs": [],
   "source": [
    "df.head()"
   ]
  },
  {
   "cell_type": "code",
   "execution_count": null,
   "id": "cf4fbdf9-075e-4d8c-bf8d-39e4f6828f87",
   "metadata": {},
   "outputs": [],
   "source": []
  },
  {
   "cell_type": "code",
   "execution_count": null,
   "id": "f62a6e1f-c53d-4579-9fa1-e036e8548837",
   "metadata": {
    "tags": []
   },
   "outputs": [],
   "source": [
    "df.groupby([\"Brand\", \"Model\"])[[\"Mileage\", \"Power\", \"Engine\"]].agg([\"mean\", \"median\"])"
   ]
  },
  {
   "cell_type": "code",
   "execution_count": null,
   "id": "0dfa688a-ca32-41ba-a687-d2704774cdf3",
   "metadata": {
    "tags": []
   },
   "outputs": [],
   "source": [
    "df.groupby([\"Brand\", \"Model\"])[\"Mileage\"]"
   ]
  },
  {
   "cell_type": "code",
   "execution_count": null,
   "id": "31f1ab9b-2414-4a98-9644-424eb425394e",
   "metadata": {},
   "outputs": [],
   "source": []
  },
  {
   "cell_type": "code",
   "execution_count": null,
   "id": "a2d1d281-adf3-4168-8b85-93d6330ab4a2",
   "metadata": {},
   "outputs": [],
   "source": [
    "%who"
   ]
  },
  {
   "cell_type": "markdown",
   "id": "828d97b9-1722-4e0c-8bdb-bd863522d55c",
   "metadata": {},
   "source": [
    "Dropping rows with null values acros all Mileage, Power, Seats, Engine<br>\n",
    "All these features have less than 1% missing values [Missing Value Info](#missing-values)"
   ]
  },
  {
   "cell_type": "code",
   "execution_count": null,
   "id": "59534bd3-6012-4eb8-8f83-a55b0884896b",
   "metadata": {
    "tags": []
   },
   "outputs": [],
   "source": [
    "df.loc[df[\"Seats\"].isnull(), \"Name\"].value_counts()"
   ]
  },
  {
   "cell_type": "code",
   "execution_count": null,
   "id": "0ceadd10-16da-4f20-a827-78c8295d5fe9",
   "metadata": {
    "tags": []
   },
   "outputs": [],
   "source": [
    "df.dropna(how= \"all\", subset=[\"Mileage\", \"Power\", \"Engine\"], inplace = True)\n",
    "df.head()"
   ]
  },
  {
   "cell_type": "markdown",
   "id": "33c9cdd6-c5db-43ff-8106-7d465f01ab0d",
   "metadata": {},
   "source": [
    "### Imputing with mean/median "
   ]
  },
  {
   "cell_type": "code",
   "execution_count": null,
   "id": "4147e5b1-2a16-4dc4-9847-cb872204f81e",
   "metadata": {
    "tags": []
   },
   "outputs": [],
   "source": [
    "df.shape"
   ]
  },
  {
   "cell_type": "code",
   "execution_count": null,
   "id": "0f7f1507-a591-4fd4-816f-d326904c6098",
   "metadata": {
    "tags": []
   },
   "outputs": [],
   "source": [
    "filt2 = (df[\"Seats\"]==0)\n",
    "print(df.loc[filt2].shape)\n",
    "df.loc[filt2]"
   ]
  },
  {
   "cell_type": "code",
   "execution_count": null,
   "id": "0484196e-03e5-4ac3-9b17-f30d3858cec6",
   "metadata": {},
   "outputs": [],
   "source": []
  },
  {
   "cell_type": "code",
   "execution_count": null,
   "id": "7bc018f9-6f24-4f8a-b732-7e5ec606b678",
   "metadata": {},
   "outputs": [],
   "source": []
  },
  {
   "cell_type": "code",
   "execution_count": null,
   "id": "0ad8f692-99bd-4ebc-a52a-149faa439cce",
   "metadata": {},
   "outputs": [],
   "source": []
  },
  {
   "cell_type": "code",
   "execution_count": null,
   "id": "adb69fa0-7faa-4c78-952b-065d636f3fbb",
   "metadata": {},
   "outputs": [],
   "source": []
  },
  {
   "cell_type": "code",
   "execution_count": null,
   "id": "b9962568-8e82-4ca8-8683-eb75871f6239",
   "metadata": {},
   "outputs": [],
   "source": []
  },
  {
   "cell_type": "code",
   "execution_count": null,
   "id": "98c407f8-affc-4565-bf32-7cf850fc003d",
   "metadata": {
    "tags": []
   },
   "outputs": [],
   "source": [
    "df.head()"
   ]
  },
  {
   "cell_type": "code",
   "execution_count": null,
   "id": "689c2d6c-9c56-44e6-b956-d923307f6894",
   "metadata": {},
   "outputs": [],
   "source": []
  },
  {
   "cell_type": "code",
   "execution_count": null,
   "id": "794c65eb-e870-4e26-9d62-a6ad18366e72",
   "metadata": {
    "tags": []
   },
   "outputs": [],
   "source": [
    "date.today().year"
   ]
  },
  {
   "cell_type": "code",
   "execution_count": null,
   "id": "607f9451-f4ba-4e1b-b17b-a33e234bc4d1",
   "metadata": {
    "tags": []
   },
   "outputs": [],
   "source": []
  },
  {
   "cell_type": "code",
   "execution_count": null,
   "id": "e2ceeee5-d400-4fa3-85c4-5b8ff73e90fb",
   "metadata": {},
   "outputs": [],
   "source": []
  },
  {
   "cell_type": "code",
   "execution_count": null,
   "id": "1003c768-3618-43ed-9b58-6038bc00ab6e",
   "metadata": {},
   "outputs": [],
   "source": []
  },
  {
   "cell_type": "markdown",
   "id": "43d7cd21-8ba6-4e6d-aa77-2aba8b2c9a79",
   "metadata": {},
   "source": [
    "# Original DF"
   ]
  },
  {
   "cell_type": "code",
   "execution_count": null,
   "id": "8df33c30-cc4e-4262-a127-78c002153d59",
   "metadata": {
    "tags": []
   },
   "outputs": [],
   "source": [
    "df2 = pd.read_csv(\"data/used_cars_data.csv\", index_col= \"S.No.\")\n",
    "\n",
    "filt2 = df2[\"Kilometers_Driven\"]>=500000\n",
    "df2.loc[filt2]"
   ]
  },
  {
   "cell_type": "code",
   "execution_count": null,
   "id": "286ff680-fda3-4e2c-9474-7007acb01820",
   "metadata": {
    "tags": []
   },
   "outputs": [],
   "source": [
    "df2.shape"
   ]
  }
 ],
 "metadata": {
  "kernelspec": {
   "display_name": "Python 3 (ipykernel)",
   "language": "python",
   "name": "python3"
  },
  "language_info": {
   "codemirror_mode": {
    "name": "ipython",
    "version": 3
   },
   "file_extension": ".py",
   "mimetype": "text/x-python",
   "name": "python",
   "nbconvert_exporter": "python",
   "pygments_lexer": "ipython3",
   "version": "3.11.5"
  },
  "toc-autonumbering": true,
  "toc-showcode": false,
  "toc-showmarkdowntxt": false
 },
 "nbformat": 4,
 "nbformat_minor": 5
}
