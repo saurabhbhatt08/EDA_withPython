{
 "cells": [
  {
   "cell_type": "markdown",
   "id": "d18c513a-72ec-4cf6-b0af-ba84a971b65e",
   "metadata": {},
   "source": [
    "# Importing and Pre-processing Data"
   ]
  },
  {
   "cell_type": "markdown",
   "id": "8b618f6d-612c-45ef-acf2-467b982819cd",
   "metadata": {},
   "source": [
    "## Data Source\n",
    "\n",
    "[Used Car sets Data - Kaggle](https://www.kaggle.com/datasets/sukhmanibedi/cars4u)"
   ]
  },
  {
   "cell_type": "markdown",
   "id": "005a9ff7-7647-4e67-97f8-b8d4893f1002",
   "metadata": {
    "tags": []
   },
   "source": [
    "## Importing necessary libraries"
   ]
  },
  {
   "cell_type": "code",
   "execution_count": 1,
   "id": "db65464e-608a-4c0b-83fe-1a525d9f742b",
   "metadata": {
    "tags": []
   },
   "outputs": [],
   "source": [
    "import pandas as pd\n",
    "import numpy as np\n",
    "import matplotlib.pyplot as plt\n",
    "import seaborn as sns\n",
    "import os"
   ]
  },
  {
   "cell_type": "code",
   "execution_count": 2,
   "id": "2131a3ca-03d6-44bf-8bde-20da121cb06e",
   "metadata": {
    "tags": []
   },
   "outputs": [],
   "source": [
    "#to ignore warnings\n",
    "# import warnings\n",
    "# warnings.filterwarnings('ignore')"
   ]
  },
  {
   "cell_type": "code",
   "execution_count": 3,
   "id": "6ebed716-f13d-4754-9a4e-a9583b24ba22",
   "metadata": {
    "tags": []
   },
   "outputs": [],
   "source": [
    "pd.set_option(\"display.max_columns\", 85)\n",
    "pd.set_option(\"display.max_rows\", 30)"
   ]
  },
  {
   "cell_type": "markdown",
   "id": "4b96f4a6-3285-40bb-8c0d-76abc661639f",
   "metadata": {},
   "source": [
    "## Importing Data Set"
   ]
  },
  {
   "cell_type": "code",
   "execution_count": 4,
   "id": "59eff60a-ce7c-4081-a287-eea1017750a4",
   "metadata": {},
   "outputs": [],
   "source": [
    "df = pd.read_csv(\"data/used_cars_data.csv\")"
   ]
  },
  {
   "cell_type": "markdown",
   "id": "155d2dc5-0058-470b-96c2-d691967717d0",
   "metadata": {},
   "source": [
    "## Checking information about data"
   ]
  },
  {
   "cell_type": "code",
   "execution_count": 5,
   "id": "fe6e1f14-4504-4322-b513-c368976f5543",
   "metadata": {
    "tags": []
   },
   "outputs": [
    {
     "name": "stdout",
     "output_type": "stream",
     "text": [
      "The data set has 7253 rows and 14 columns.\n"
     ]
    }
   ],
   "source": [
    "print(f\"The data set has {df.shape[0]} rows and {df.shape[1]} columns.\")"
   ]
  },
  {
   "cell_type": "code",
   "execution_count": 6,
   "id": "0cb72f72-ad0f-45a1-82ce-173bdfa29354",
   "metadata": {
    "tags": []
   },
   "outputs": [
    {
     "data": {
      "text/html": [
       "<div>\n",
       "<style scoped>\n",
       "    .dataframe tbody tr th:only-of-type {\n",
       "        vertical-align: middle;\n",
       "    }\n",
       "\n",
       "    .dataframe tbody tr th {\n",
       "        vertical-align: top;\n",
       "    }\n",
       "\n",
       "    .dataframe thead th {\n",
       "        text-align: right;\n",
       "    }\n",
       "</style>\n",
       "<table border=\"1\" class=\"dataframe\">\n",
       "  <thead>\n",
       "    <tr style=\"text-align: right;\">\n",
       "      <th></th>\n",
       "      <th>S.No.</th>\n",
       "      <th>Name</th>\n",
       "      <th>Location</th>\n",
       "      <th>Year</th>\n",
       "      <th>Kilometers_Driven</th>\n",
       "      <th>Fuel_Type</th>\n",
       "      <th>Transmission</th>\n",
       "      <th>Owner_Type</th>\n",
       "      <th>Mileage</th>\n",
       "      <th>Engine</th>\n",
       "      <th>Power</th>\n",
       "      <th>Seats</th>\n",
       "      <th>New_Price</th>\n",
       "      <th>Price</th>\n",
       "    </tr>\n",
       "  </thead>\n",
       "  <tbody>\n",
       "    <tr>\n",
       "      <th>0</th>\n",
       "      <td>0</td>\n",
       "      <td>Maruti Wagon R LXI CNG</td>\n",
       "      <td>Mumbai</td>\n",
       "      <td>2010</td>\n",
       "      <td>72000</td>\n",
       "      <td>CNG</td>\n",
       "      <td>Manual</td>\n",
       "      <td>First</td>\n",
       "      <td>26.6 km/kg</td>\n",
       "      <td>998 CC</td>\n",
       "      <td>58.16 bhp</td>\n",
       "      <td>5.0</td>\n",
       "      <td>NaN</td>\n",
       "      <td>1.75</td>\n",
       "    </tr>\n",
       "    <tr>\n",
       "      <th>1</th>\n",
       "      <td>1</td>\n",
       "      <td>Hyundai Creta 1.6 CRDi SX Option</td>\n",
       "      <td>Pune</td>\n",
       "      <td>2015</td>\n",
       "      <td>41000</td>\n",
       "      <td>Diesel</td>\n",
       "      <td>Manual</td>\n",
       "      <td>First</td>\n",
       "      <td>19.67 kmpl</td>\n",
       "      <td>1582 CC</td>\n",
       "      <td>126.2 bhp</td>\n",
       "      <td>5.0</td>\n",
       "      <td>NaN</td>\n",
       "      <td>12.50</td>\n",
       "    </tr>\n",
       "    <tr>\n",
       "      <th>2</th>\n",
       "      <td>2</td>\n",
       "      <td>Honda Jazz V</td>\n",
       "      <td>Chennai</td>\n",
       "      <td>2011</td>\n",
       "      <td>46000</td>\n",
       "      <td>Petrol</td>\n",
       "      <td>Manual</td>\n",
       "      <td>First</td>\n",
       "      <td>18.2 kmpl</td>\n",
       "      <td>1199 CC</td>\n",
       "      <td>88.7 bhp</td>\n",
       "      <td>5.0</td>\n",
       "      <td>8.61 Lakh</td>\n",
       "      <td>4.50</td>\n",
       "    </tr>\n",
       "    <tr>\n",
       "      <th>3</th>\n",
       "      <td>3</td>\n",
       "      <td>Maruti Ertiga VDI</td>\n",
       "      <td>Chennai</td>\n",
       "      <td>2012</td>\n",
       "      <td>87000</td>\n",
       "      <td>Diesel</td>\n",
       "      <td>Manual</td>\n",
       "      <td>First</td>\n",
       "      <td>20.77 kmpl</td>\n",
       "      <td>1248 CC</td>\n",
       "      <td>88.76 bhp</td>\n",
       "      <td>7.0</td>\n",
       "      <td>NaN</td>\n",
       "      <td>6.00</td>\n",
       "    </tr>\n",
       "    <tr>\n",
       "      <th>4</th>\n",
       "      <td>4</td>\n",
       "      <td>Audi A4 New 2.0 TDI Multitronic</td>\n",
       "      <td>Coimbatore</td>\n",
       "      <td>2013</td>\n",
       "      <td>40670</td>\n",
       "      <td>Diesel</td>\n",
       "      <td>Automatic</td>\n",
       "      <td>Second</td>\n",
       "      <td>15.2 kmpl</td>\n",
       "      <td>1968 CC</td>\n",
       "      <td>140.8 bhp</td>\n",
       "      <td>5.0</td>\n",
       "      <td>NaN</td>\n",
       "      <td>17.74</td>\n",
       "    </tr>\n",
       "  </tbody>\n",
       "</table>\n",
       "</div>"
      ],
      "text/plain": [
       "   S.No.                              Name    Location  Year  \\\n",
       "0      0            Maruti Wagon R LXI CNG      Mumbai  2010   \n",
       "1      1  Hyundai Creta 1.6 CRDi SX Option        Pune  2015   \n",
       "2      2                      Honda Jazz V     Chennai  2011   \n",
       "3      3                 Maruti Ertiga VDI     Chennai  2012   \n",
       "4      4   Audi A4 New 2.0 TDI Multitronic  Coimbatore  2013   \n",
       "\n",
       "   Kilometers_Driven Fuel_Type Transmission Owner_Type     Mileage   Engine  \\\n",
       "0              72000       CNG       Manual      First  26.6 km/kg   998 CC   \n",
       "1              41000    Diesel       Manual      First  19.67 kmpl  1582 CC   \n",
       "2              46000    Petrol       Manual      First   18.2 kmpl  1199 CC   \n",
       "3              87000    Diesel       Manual      First  20.77 kmpl  1248 CC   \n",
       "4              40670    Diesel    Automatic     Second   15.2 kmpl  1968 CC   \n",
       "\n",
       "       Power  Seats  New_Price  Price  \n",
       "0  58.16 bhp    5.0        NaN   1.75  \n",
       "1  126.2 bhp    5.0        NaN  12.50  \n",
       "2   88.7 bhp    5.0  8.61 Lakh   4.50  \n",
       "3  88.76 bhp    7.0        NaN   6.00  \n",
       "4  140.8 bhp    5.0        NaN  17.74  "
      ]
     },
     "execution_count": 6,
     "metadata": {},
     "output_type": "execute_result"
    }
   ],
   "source": [
    "df.head()"
   ]
  },
  {
   "cell_type": "code",
   "execution_count": 7,
   "id": "47c73233-076e-441a-a32c-b76354b967e7",
   "metadata": {
    "tags": []
   },
   "outputs": [
    {
     "data": {
      "text/html": [
       "<div>\n",
       "<style scoped>\n",
       "    .dataframe tbody tr th:only-of-type {\n",
       "        vertical-align: middle;\n",
       "    }\n",
       "\n",
       "    .dataframe tbody tr th {\n",
       "        vertical-align: top;\n",
       "    }\n",
       "\n",
       "    .dataframe thead th {\n",
       "        text-align: right;\n",
       "    }\n",
       "</style>\n",
       "<table border=\"1\" class=\"dataframe\">\n",
       "  <thead>\n",
       "    <tr style=\"text-align: right;\">\n",
       "      <th></th>\n",
       "      <th>S.No.</th>\n",
       "      <th>Name</th>\n",
       "      <th>Location</th>\n",
       "      <th>Year</th>\n",
       "      <th>Kilometers_Driven</th>\n",
       "      <th>Fuel_Type</th>\n",
       "      <th>Transmission</th>\n",
       "      <th>Owner_Type</th>\n",
       "      <th>Mileage</th>\n",
       "      <th>Engine</th>\n",
       "      <th>Power</th>\n",
       "      <th>Seats</th>\n",
       "      <th>New_Price</th>\n",
       "      <th>Price</th>\n",
       "    </tr>\n",
       "  </thead>\n",
       "  <tbody>\n",
       "    <tr>\n",
       "      <th>7248</th>\n",
       "      <td>7248</td>\n",
       "      <td>Volkswagen Vento Diesel Trendline</td>\n",
       "      <td>Hyderabad</td>\n",
       "      <td>2011</td>\n",
       "      <td>89411</td>\n",
       "      <td>Diesel</td>\n",
       "      <td>Manual</td>\n",
       "      <td>First</td>\n",
       "      <td>20.54 kmpl</td>\n",
       "      <td>1598 CC</td>\n",
       "      <td>103.6 bhp</td>\n",
       "      <td>5.0</td>\n",
       "      <td>NaN</td>\n",
       "      <td>NaN</td>\n",
       "    </tr>\n",
       "    <tr>\n",
       "      <th>7249</th>\n",
       "      <td>7249</td>\n",
       "      <td>Volkswagen Polo GT TSI</td>\n",
       "      <td>Mumbai</td>\n",
       "      <td>2015</td>\n",
       "      <td>59000</td>\n",
       "      <td>Petrol</td>\n",
       "      <td>Automatic</td>\n",
       "      <td>First</td>\n",
       "      <td>17.21 kmpl</td>\n",
       "      <td>1197 CC</td>\n",
       "      <td>103.6 bhp</td>\n",
       "      <td>5.0</td>\n",
       "      <td>NaN</td>\n",
       "      <td>NaN</td>\n",
       "    </tr>\n",
       "    <tr>\n",
       "      <th>7250</th>\n",
       "      <td>7250</td>\n",
       "      <td>Nissan Micra Diesel XV</td>\n",
       "      <td>Kolkata</td>\n",
       "      <td>2012</td>\n",
       "      <td>28000</td>\n",
       "      <td>Diesel</td>\n",
       "      <td>Manual</td>\n",
       "      <td>First</td>\n",
       "      <td>23.08 kmpl</td>\n",
       "      <td>1461 CC</td>\n",
       "      <td>63.1 bhp</td>\n",
       "      <td>5.0</td>\n",
       "      <td>NaN</td>\n",
       "      <td>NaN</td>\n",
       "    </tr>\n",
       "    <tr>\n",
       "      <th>7251</th>\n",
       "      <td>7251</td>\n",
       "      <td>Volkswagen Polo GT TSI</td>\n",
       "      <td>Pune</td>\n",
       "      <td>2013</td>\n",
       "      <td>52262</td>\n",
       "      <td>Petrol</td>\n",
       "      <td>Automatic</td>\n",
       "      <td>Third</td>\n",
       "      <td>17.2 kmpl</td>\n",
       "      <td>1197 CC</td>\n",
       "      <td>103.6 bhp</td>\n",
       "      <td>5.0</td>\n",
       "      <td>NaN</td>\n",
       "      <td>NaN</td>\n",
       "    </tr>\n",
       "    <tr>\n",
       "      <th>7252</th>\n",
       "      <td>7252</td>\n",
       "      <td>Mercedes-Benz E-Class 2009-2013 E 220 CDI Avan...</td>\n",
       "      <td>Kochi</td>\n",
       "      <td>2014</td>\n",
       "      <td>72443</td>\n",
       "      <td>Diesel</td>\n",
       "      <td>Automatic</td>\n",
       "      <td>First</td>\n",
       "      <td>10.0 kmpl</td>\n",
       "      <td>2148 CC</td>\n",
       "      <td>170 bhp</td>\n",
       "      <td>5.0</td>\n",
       "      <td>NaN</td>\n",
       "      <td>NaN</td>\n",
       "    </tr>\n",
       "  </tbody>\n",
       "</table>\n",
       "</div>"
      ],
      "text/plain": [
       "      S.No.                                               Name   Location  \\\n",
       "7248   7248                  Volkswagen Vento Diesel Trendline  Hyderabad   \n",
       "7249   7249                             Volkswagen Polo GT TSI     Mumbai   \n",
       "7250   7250                             Nissan Micra Diesel XV    Kolkata   \n",
       "7251   7251                             Volkswagen Polo GT TSI       Pune   \n",
       "7252   7252  Mercedes-Benz E-Class 2009-2013 E 220 CDI Avan...      Kochi   \n",
       "\n",
       "      Year  Kilometers_Driven Fuel_Type Transmission Owner_Type     Mileage  \\\n",
       "7248  2011              89411    Diesel       Manual      First  20.54 kmpl   \n",
       "7249  2015              59000    Petrol    Automatic      First  17.21 kmpl   \n",
       "7250  2012              28000    Diesel       Manual      First  23.08 kmpl   \n",
       "7251  2013              52262    Petrol    Automatic      Third   17.2 kmpl   \n",
       "7252  2014              72443    Diesel    Automatic      First   10.0 kmpl   \n",
       "\n",
       "       Engine      Power  Seats New_Price  Price  \n",
       "7248  1598 CC  103.6 bhp    5.0       NaN    NaN  \n",
       "7249  1197 CC  103.6 bhp    5.0       NaN    NaN  \n",
       "7250  1461 CC   63.1 bhp    5.0       NaN    NaN  \n",
       "7251  1197 CC  103.6 bhp    5.0       NaN    NaN  \n",
       "7252  2148 CC    170 bhp    5.0       NaN    NaN  "
      ]
     },
     "execution_count": 7,
     "metadata": {},
     "output_type": "execute_result"
    }
   ],
   "source": [
    "df.tail()"
   ]
  },
  {
   "cell_type": "code",
   "execution_count": 8,
   "id": "579d87d8-54f9-4878-8397-4a8c7c8a51bd",
   "metadata": {
    "tags": []
   },
   "outputs": [
    {
     "name": "stdout",
     "output_type": "stream",
     "text": [
      "<class 'pandas.core.frame.DataFrame'>\n",
      "RangeIndex: 7253 entries, 0 to 7252\n",
      "Data columns (total 14 columns):\n",
      " #   Column             Non-Null Count  Dtype  \n",
      "---  ------             --------------  -----  \n",
      " 0   S.No.              7253 non-null   int64  \n",
      " 1   Name               7253 non-null   object \n",
      " 2   Location           7253 non-null   object \n",
      " 3   Year               7253 non-null   int64  \n",
      " 4   Kilometers_Driven  7253 non-null   int64  \n",
      " 5   Fuel_Type          7253 non-null   object \n",
      " 6   Transmission       7253 non-null   object \n",
      " 7   Owner_Type         7253 non-null   object \n",
      " 8   Mileage            7251 non-null   object \n",
      " 9   Engine             7207 non-null   object \n",
      " 10  Power              7207 non-null   object \n",
      " 11  Seats              7200 non-null   float64\n",
      " 12  New_Price          1006 non-null   object \n",
      " 13  Price              6019 non-null   float64\n",
      "dtypes: float64(2), int64(3), object(9)\n",
      "memory usage: 793.4+ KB\n"
     ]
    }
   ],
   "source": [
    "# Checking data types, missing values and number of records in each column\n",
    "df.info()"
   ]
  },
  {
   "cell_type": "markdown",
   "id": "ab7d6c83-c3d8-423e-995e-d8f6a3485b99",
   "metadata": {},
   "source": [
    "__Data has missing values in Mileage, Engine, Poer, Seats, New_Price & Price__"
   ]
  },
  {
   "cell_type": "code",
   "execution_count": 9,
   "id": "f76221f4-7510-4413-84be-c4c026591de5",
   "metadata": {
    "tags": []
   },
   "outputs": [
    {
     "data": {
      "image/png": "[encoded data removed]",
      "text/plain": [
       "<Figure size 640x480 with 1 Axes>"
      ]
     },
     "metadata": {},
     "output_type": "display_data"
    },
    {
     "name": "stdout",
     "output_type": "stream",
     "text": [
      "S.No.                   0\n",
      "Name                    0\n",
      "Location                0\n",
      "Year                    0\n",
      "Kilometers_Driven       0\n",
      "Fuel_Type               0\n",
      "Transmission            0\n",
      "Owner_Type              0\n",
      "Mileage                 2\n",
      "Engine                 46\n",
      "Power                  46\n",
      "Seats                  53\n",
      "New_Price            6247\n",
      "Price                1234\n",
      "dtype: int64\n"
     ]
    }
   ],
   "source": [
    "# Visualizing missing records\n",
    "sns.heatmap(df.isnull(), cbar= False)\n",
    "plt.show()\n",
    "\n",
    "# Checking for number of missing values in each column\n",
    "print(df.isnull().sum())"
   ]
  },
  {
   "cell_type": "code",
   "execution_count": 10,
   "id": "ba4b41aa-c3b3-4876-a801-7e89f902aa8a",
   "metadata": {
    "tags": []
   },
   "outputs": [
    {
     "data": {
      "text/plain": [
       "S.No.                 0.00\n",
       "Name                  0.00\n",
       "Location              0.00\n",
       "Year                  0.00\n",
       "Kilometers_Driven     0.00\n",
       "Fuel_Type             0.00\n",
       "Transmission          0.00\n",
       "Owner_Type            0.00\n",
       "Mileage               0.03\n",
       "Engine                0.63\n",
       "Power                 0.63\n",
       "Seats                 0.73\n",
       "New_Price            86.13\n",
       "Price                17.01\n",
       "dtype: float64"
      ]
     },
     "execution_count": 10,
     "metadata": {},
     "output_type": "execute_result"
    }
   ],
   "source": [
    "# Checking percentage of missing values in each column\n",
    "round((df.isnull().mean()*100),2)"
   ]
  },
  {
   "cell_type": "markdown",
   "id": "223fe4ab-c778-4b1b-b6dc-ae78036eefa8",
   "metadata": {},
   "source": [
    "<a id='missing-values'></a>\n",
    "86% missing values in __New Price__ <br>\n",
    "17% missing values in __Price__ <br>\n",
    "<1% missing values in __Mileage, Engine, Power and Seats__ "
   ]
  },
  {
   "cell_type": "code",
   "execution_count": 11,
   "id": "eedf59d4-c515-42ac-924a-80a588e34d03",
   "metadata": {
    "tags": []
   },
   "outputs": [
    {
     "data": {
      "text/plain": [
       "S.No.                7253\n",
       "Name                 2041\n",
       "Location               11\n",
       "Year                   23\n",
       "Kilometers_Driven    3660\n",
       "Fuel_Type               5\n",
       "Transmission            2\n",
       "Owner_Type              4\n",
       "Mileage               450\n",
       "Engine                150\n",
       "Power                 386\n",
       "Seats                   9\n",
       "New_Price             625\n",
       "Price                1373\n",
       "dtype: int64"
      ]
     },
     "execution_count": 11,
     "metadata": {},
     "output_type": "execute_result"
    }
   ],
   "source": [
    "# Checking for duplication\n",
    "df.nunique()"
   ]
  },
  {
   "cell_type": "markdown",
   "id": "29699007-c762-4169-a679-c6caf3901c0d",
   "metadata": {},
   "source": [
    "__Fuel_Type, Transmission, Owner_Type__ could as well be categorical variables since they have limited values and can specify specifying a category of vehicle by virtue of features or ownership"
   ]
  },
  {
   "cell_type": "code",
   "execution_count": 12,
   "id": "9af480b2-6e3f-4cb0-8cda-40809f5d0700",
   "metadata": {
    "tags": []
   },
   "outputs": [
    {
     "data": {
      "text/plain": [
       "array(['CNG', 'Diesel', 'Petrol', 'LPG', 'Electric'], dtype=object)"
      ]
     },
     "execution_count": 12,
     "metadata": {},
     "output_type": "execute_result"
    }
   ],
   "source": [
    "df[\"Fuel_Type\"].unique()"
   ]
  },
  {
   "cell_type": "code",
   "execution_count": 13,
   "id": "1fe7e501-8b5d-4d15-a6be-e31a01c1ba8e",
   "metadata": {
    "tags": []
   },
   "outputs": [
    {
     "data": {
      "text/plain": [
       "array(['Manual', 'Automatic'], dtype=object)"
      ]
     },
     "execution_count": 13,
     "metadata": {},
     "output_type": "execute_result"
    }
   ],
   "source": [
    "df[\"Transmission\"].unique()"
   ]
  },
  {
   "cell_type": "code",
   "execution_count": 14,
   "id": "4a184adc-47af-4c5f-a91a-44e7f863c06d",
   "metadata": {},
   "outputs": [
    {
     "data": {
      "text/plain": [
       "array(['First', 'Second', 'Fourth & Above', 'Third'], dtype=object)"
      ]
     },
     "execution_count": 14,
     "metadata": {},
     "output_type": "execute_result"
    }
   ],
   "source": [
    "df[\"Owner_Type\"].unique()"
   ]
  },
  {
   "cell_type": "markdown",
   "id": "7c033f5e-f413-4d9a-874c-f1fbc90d8104",
   "metadata": {},
   "source": [
    "## Defining Index"
   ]
  },
  {
   "cell_type": "code",
   "execution_count": 15,
   "id": "8d83676a-8a68-435b-a620-c954cc3aa436",
   "metadata": {},
   "outputs": [
    {
     "data": {
      "text/html": [
       "<div>\n",
       "<style scoped>\n",
       "    .dataframe tbody tr th:only-of-type {\n",
       "        vertical-align: middle;\n",
       "    }\n",
       "\n",
       "    .dataframe tbody tr th {\n",
       "        vertical-align: top;\n",
       "    }\n",
       "\n",
       "    .dataframe thead th {\n",
       "        text-align: right;\n",
       "    }\n",
       "</style>\n",
       "<table border=\"1\" class=\"dataframe\">\n",
       "  <thead>\n",
       "    <tr style=\"text-align: right;\">\n",
       "      <th></th>\n",
       "      <th>Name</th>\n",
       "      <th>Location</th>\n",
       "      <th>Year</th>\n",
       "      <th>Kilometers_Driven</th>\n",
       "      <th>Fuel_Type</th>\n",
       "      <th>Transmission</th>\n",
       "      <th>Owner_Type</th>\n",
       "      <th>Mileage</th>\n",
       "      <th>Engine</th>\n",
       "      <th>Power</th>\n",
       "      <th>Seats</th>\n",
       "      <th>New_Price</th>\n",
       "      <th>Price</th>\n",
       "    </tr>\n",
       "    <tr>\n",
       "      <th>S.No.</th>\n",
       "      <th></th>\n",
       "      <th></th>\n",
       "      <th></th>\n",
       "      <th></th>\n",
       "      <th></th>\n",
       "      <th></th>\n",
       "      <th></th>\n",
       "      <th></th>\n",
       "      <th></th>\n",
       "      <th></th>\n",
       "      <th></th>\n",
       "      <th></th>\n",
       "      <th></th>\n",
       "    </tr>\n",
       "  </thead>\n",
       "  <tbody>\n",
       "    <tr>\n",
       "      <th>0</th>\n",
       "      <td>Maruti Wagon R LXI CNG</td>\n",
       "      <td>Mumbai</td>\n",
       "      <td>2010</td>\n",
       "      <td>72000</td>\n",
       "      <td>CNG</td>\n",
       "      <td>Manual</td>\n",
       "      <td>First</td>\n",
       "      <td>26.6 km/kg</td>\n",
       "      <td>998 CC</td>\n",
       "      <td>58.16 bhp</td>\n",
       "      <td>5.0</td>\n",
       "      <td>NaN</td>\n",
       "      <td>1.75</td>\n",
       "    </tr>\n",
       "    <tr>\n",
       "      <th>1</th>\n",
       "      <td>Hyundai Creta 1.6 CRDi SX Option</td>\n",
       "      <td>Pune</td>\n",
       "      <td>2015</td>\n",
       "      <td>41000</td>\n",
       "      <td>Diesel</td>\n",
       "      <td>Manual</td>\n",
       "      <td>First</td>\n",
       "      <td>19.67 kmpl</td>\n",
       "      <td>1582 CC</td>\n",
       "      <td>126.2 bhp</td>\n",
       "      <td>5.0</td>\n",
       "      <td>NaN</td>\n",
       "      <td>12.50</td>\n",
       "    </tr>\n",
       "    <tr>\n",
       "      <th>2</th>\n",
       "      <td>Honda Jazz V</td>\n",
       "      <td>Chennai</td>\n",
       "      <td>2011</td>\n",
       "      <td>46000</td>\n",
       "      <td>Petrol</td>\n",
       "      <td>Manual</td>\n",
       "      <td>First</td>\n",
       "      <td>18.2 kmpl</td>\n",
       "      <td>1199 CC</td>\n",
       "      <td>88.7 bhp</td>\n",
       "      <td>5.0</td>\n",
       "      <td>8.61 Lakh</td>\n",
       "      <td>4.50</td>\n",
       "    </tr>\n",
       "    <tr>\n",
       "      <th>3</th>\n",
       "      <td>Maruti Ertiga VDI</td>\n",
       "      <td>Chennai</td>\n",
       "      <td>2012</td>\n",
       "      <td>87000</td>\n",
       "      <td>Diesel</td>\n",
       "      <td>Manual</td>\n",
       "      <td>First</td>\n",
       "      <td>20.77 kmpl</td>\n",
       "      <td>1248 CC</td>\n",
       "      <td>88.76 bhp</td>\n",
       "      <td>7.0</td>\n",
       "      <td>NaN</td>\n",
       "      <td>6.00</td>\n",
       "    </tr>\n",
       "    <tr>\n",
       "      <th>4</th>\n",
       "      <td>Audi A4 New 2.0 TDI Multitronic</td>\n",
       "      <td>Coimbatore</td>\n",
       "      <td>2013</td>\n",
       "      <td>40670</td>\n",
       "      <td>Diesel</td>\n",
       "      <td>Automatic</td>\n",
       "      <td>Second</td>\n",
       "      <td>15.2 kmpl</td>\n",
       "      <td>1968 CC</td>\n",
       "      <td>140.8 bhp</td>\n",
       "      <td>5.0</td>\n",
       "      <td>NaN</td>\n",
       "      <td>17.74</td>\n",
       "    </tr>\n",
       "  </tbody>\n",
       "</table>\n",
       "</div>"
      ],
      "text/plain": [
       "                                   Name    Location  Year  Kilometers_Driven  \\\n",
       "S.No.                                                                          \n",
       "0                Maruti Wagon R LXI CNG      Mumbai  2010              72000   \n",
       "1      Hyundai Creta 1.6 CRDi SX Option        Pune  2015              41000   \n",
       "2                          Honda Jazz V     Chennai  2011              46000   \n",
       "3                     Maruti Ertiga VDI     Chennai  2012              87000   \n",
       "4       Audi A4 New 2.0 TDI Multitronic  Coimbatore  2013              40670   \n",
       "\n",
       "      Fuel_Type Transmission Owner_Type     Mileage   Engine      Power  \\\n",
       "S.No.                                                                     \n",
       "0           CNG       Manual      First  26.6 km/kg   998 CC  58.16 bhp   \n",
       "1        Diesel       Manual      First  19.67 kmpl  1582 CC  126.2 bhp   \n",
       "2        Petrol       Manual      First   18.2 kmpl  1199 CC   88.7 bhp   \n",
       "3        Diesel       Manual      First  20.77 kmpl  1248 CC  88.76 bhp   \n",
       "4        Diesel    Automatic     Second   15.2 kmpl  1968 CC  140.8 bhp   \n",
       "\n",
       "       Seats  New_Price  Price  \n",
       "S.No.                           \n",
       "0        5.0        NaN   1.75  \n",
       "1        5.0        NaN  12.50  \n",
       "2        5.0  8.61 Lakh   4.50  \n",
       "3        7.0        NaN   6.00  \n",
       "4        5.0        NaN  17.74  "
      ]
     },
     "execution_count": 15,
     "metadata": {},
     "output_type": "execute_result"
    }
   ],
   "source": [
    "# Could also drop S.No. as pre-defined index provides same accessibility\n",
    "df.set_index(\"S.No.\", inplace=True)\n",
    "df.head()"
   ]
  },
  {
   "cell_type": "markdown",
   "id": "0534f7fd-78b0-4be3-8a12-c499410b32a0",
   "metadata": {},
   "source": [
    "## Feature Engineering\n",
    "*Creating Custom features basis available data*"
   ]
  },
  {
   "cell_type": "markdown",
   "id": "18c3d6c4-9e48-442d-97e4-7367d91b36f1",
   "metadata": {},
   "source": [
    "### Creating Age of the car"
   ]
  },
  {
   "cell_type": "code",
   "execution_count": 16,
   "id": "84d96151-c5de-48cf-9114-c2de3d226576",
   "metadata": {
    "tags": []
   },
   "outputs": [],
   "source": [
    "from datetime import date"
   ]
  },
  {
   "cell_type": "code",
   "execution_count": 17,
   "id": "b29a514f-bd24-465e-a9e0-8710758af311",
   "metadata": {
    "tags": []
   },
   "outputs": [
    {
     "data": {
      "text/html": [
       "<div>\n",
       "<style scoped>\n",
       "    .dataframe tbody tr th:only-of-type {\n",
       "        vertical-align: middle;\n",
       "    }\n",
       "\n",
       "    .dataframe tbody tr th {\n",
       "        vertical-align: top;\n",
       "    }\n",
       "\n",
       "    .dataframe thead th {\n",
       "        text-align: right;\n",
       "    }\n",
       "</style>\n",
       "<table border=\"1\" class=\"dataframe\">\n",
       "  <thead>\n",
       "    <tr style=\"text-align: right;\">\n",
       "      <th></th>\n",
       "      <th>Name</th>\n",
       "      <th>Location</th>\n",
       "      <th>Year</th>\n",
       "      <th>Kilometers_Driven</th>\n",
       "      <th>Fuel_Type</th>\n",
       "      <th>Transmission</th>\n",
       "      <th>Owner_Type</th>\n",
       "      <th>Mileage</th>\n",
       "      <th>Engine</th>\n",
       "      <th>Power</th>\n",
       "      <th>Seats</th>\n",
       "      <th>New_Price</th>\n",
       "      <th>Price</th>\n",
       "      <th>Car_Age</th>\n",
       "    </tr>\n",
       "    <tr>\n",
       "      <th>S.No.</th>\n",
       "      <th></th>\n",
       "      <th></th>\n",
       "      <th></th>\n",
       "      <th></th>\n",
       "      <th></th>\n",
       "      <th></th>\n",
       "      <th></th>\n",
       "      <th></th>\n",
       "      <th></th>\n",
       "      <th></th>\n",
       "      <th></th>\n",
       "      <th></th>\n",
       "      <th></th>\n",
       "      <th></th>\n",
       "    </tr>\n",
       "  </thead>\n",
       "  <tbody>\n",
       "    <tr>\n",
       "      <th>0</th>\n",
       "      <td>Maruti Wagon R LXI CNG</td>\n",
       "      <td>Mumbai</td>\n",
       "      <td>2010</td>\n",
       "      <td>72000</td>\n",
       "      <td>CNG</td>\n",
       "      <td>Manual</td>\n",
       "      <td>First</td>\n",
       "      <td>26.6 km/kg</td>\n",
       "      <td>998 CC</td>\n",
       "      <td>58.16 bhp</td>\n",
       "      <td>5.0</td>\n",
       "      <td>NaN</td>\n",
       "      <td>1.75</td>\n",
       "      <td>13</td>\n",
       "    </tr>\n",
       "    <tr>\n",
       "      <th>1</th>\n",
       "      <td>Hyundai Creta 1.6 CRDi SX Option</td>\n",
       "      <td>Pune</td>\n",
       "      <td>2015</td>\n",
       "      <td>41000</td>\n",
       "      <td>Diesel</td>\n",
       "      <td>Manual</td>\n",
       "      <td>First</td>\n",
       "      <td>19.67 kmpl</td>\n",
       "      <td>1582 CC</td>\n",
       "      <td>126.2 bhp</td>\n",
       "      <td>5.0</td>\n",
       "      <td>NaN</td>\n",
       "      <td>12.50</td>\n",
       "      <td>8</td>\n",
       "    </tr>\n",
       "    <tr>\n",
       "      <th>2</th>\n",
       "      <td>Honda Jazz V</td>\n",
       "      <td>Chennai</td>\n",
       "      <td>2011</td>\n",
       "      <td>46000</td>\n",
       "      <td>Petrol</td>\n",
       "      <td>Manual</td>\n",
       "      <td>First</td>\n",
       "      <td>18.2 kmpl</td>\n",
       "      <td>1199 CC</td>\n",
       "      <td>88.7 bhp</td>\n",
       "      <td>5.0</td>\n",
       "      <td>8.61 Lakh</td>\n",
       "      <td>4.50</td>\n",
       "      <td>12</td>\n",
       "    </tr>\n",
       "    <tr>\n",
       "      <th>3</th>\n",
       "      <td>Maruti Ertiga VDI</td>\n",
       "      <td>Chennai</td>\n",
       "      <td>2012</td>\n",
       "      <td>87000</td>\n",
       "      <td>Diesel</td>\n",
       "      <td>Manual</td>\n",
       "      <td>First</td>\n",
       "      <td>20.77 kmpl</td>\n",
       "      <td>1248 CC</td>\n",
       "      <td>88.76 bhp</td>\n",
       "      <td>7.0</td>\n",
       "      <td>NaN</td>\n",
       "      <td>6.00</td>\n",
       "      <td>11</td>\n",
       "    </tr>\n",
       "    <tr>\n",
       "      <th>4</th>\n",
       "      <td>Audi A4 New 2.0 TDI Multitronic</td>\n",
       "      <td>Coimbatore</td>\n",
       "      <td>2013</td>\n",
       "      <td>40670</td>\n",
       "      <td>Diesel</td>\n",
       "      <td>Automatic</td>\n",
       "      <td>Second</td>\n",
       "      <td>15.2 kmpl</td>\n",
       "      <td>1968 CC</td>\n",
       "      <td>140.8 bhp</td>\n",
       "      <td>5.0</td>\n",
       "      <td>NaN</td>\n",
       "      <td>17.74</td>\n",
       "      <td>10</td>\n",
       "    </tr>\n",
       "  </tbody>\n",
       "</table>\n",
       "</div>"
      ],
      "text/plain": [
       "                                   Name    Location  Year  Kilometers_Driven  \\\n",
       "S.No.                                                                          \n",
       "0                Maruti Wagon R LXI CNG      Mumbai  2010              72000   \n",
       "1      Hyundai Creta 1.6 CRDi SX Option        Pune  2015              41000   \n",
       "2                          Honda Jazz V     Chennai  2011              46000   \n",
       "3                     Maruti Ertiga VDI     Chennai  2012              87000   \n",
       "4       Audi A4 New 2.0 TDI Multitronic  Coimbatore  2013              40670   \n",
       "\n",
       "      Fuel_Type Transmission Owner_Type     Mileage   Engine      Power  \\\n",
       "S.No.                                                                     \n",
       "0           CNG       Manual      First  26.6 km/kg   998 CC  58.16 bhp   \n",
       "1        Diesel       Manual      First  19.67 kmpl  1582 CC  126.2 bhp   \n",
       "2        Petrol       Manual      First   18.2 kmpl  1199 CC   88.7 bhp   \n",
       "3        Diesel       Manual      First  20.77 kmpl  1248 CC  88.76 bhp   \n",
       "4        Diesel    Automatic     Second   15.2 kmpl  1968 CC  140.8 bhp   \n",
       "\n",
       "       Seats  New_Price  Price  Car_Age  \n",
       "S.No.                                    \n",
       "0        5.0        NaN   1.75       13  \n",
       "1        5.0        NaN  12.50        8  \n",
       "2        5.0  8.61 Lakh   4.50       12  \n",
       "3        7.0        NaN   6.00       11  \n",
       "4        5.0        NaN  17.74       10  "
      ]
     },
     "execution_count": 17,
     "metadata": {},
     "output_type": "execute_result"
    }
   ],
   "source": [
    "df[\"Car_Age\"] = date.today().year - df[\"Year\"]\n",
    "df.head()"
   ]
  },
  {
   "cell_type": "markdown",
   "id": "5d8d3e28-6e90-43e9-a59e-b5ef7146231c",
   "metadata": {},
   "source": [
    "### Extracting Brand & Model of Car"
   ]
  },
  {
   "cell_type": "code",
   "execution_count": 18,
   "id": "5193111d-d2cf-4aeb-956a-fd6e52e0108f",
   "metadata": {
    "tags": []
   },
   "outputs": [
    {
     "data": {
      "text/html": [
       "<div>\n",
       "<style scoped>\n",
       "    .dataframe tbody tr th:only-of-type {\n",
       "        vertical-align: middle;\n",
       "    }\n",
       "\n",
       "    .dataframe tbody tr th {\n",
       "        vertical-align: top;\n",
       "    }\n",
       "\n",
       "    .dataframe thead th {\n",
       "        text-align: right;\n",
       "    }\n",
       "</style>\n",
       "<table border=\"1\" class=\"dataframe\">\n",
       "  <thead>\n",
       "    <tr style=\"text-align: right;\">\n",
       "      <th></th>\n",
       "      <th>Name</th>\n",
       "      <th>Brand</th>\n",
       "      <th>Model</th>\n",
       "    </tr>\n",
       "    <tr>\n",
       "      <th>S.No.</th>\n",
       "      <th></th>\n",
       "      <th></th>\n",
       "      <th></th>\n",
       "    </tr>\n",
       "  </thead>\n",
       "  <tbody>\n",
       "    <tr>\n",
       "      <th>0</th>\n",
       "      <td>Maruti Wagon R LXI CNG</td>\n",
       "      <td>Maruti</td>\n",
       "      <td>Wagon</td>\n",
       "    </tr>\n",
       "    <tr>\n",
       "      <th>1</th>\n",
       "      <td>Hyundai Creta 1.6 CRDi SX Option</td>\n",
       "      <td>Hyundai</td>\n",
       "      <td>Creta</td>\n",
       "    </tr>\n",
       "    <tr>\n",
       "      <th>2</th>\n",
       "      <td>Honda Jazz V</td>\n",
       "      <td>Honda</td>\n",
       "      <td>Jazz</td>\n",
       "    </tr>\n",
       "    <tr>\n",
       "      <th>3</th>\n",
       "      <td>Maruti Ertiga VDI</td>\n",
       "      <td>Maruti</td>\n",
       "      <td>Ertiga</td>\n",
       "    </tr>\n",
       "    <tr>\n",
       "      <th>4</th>\n",
       "      <td>Audi A4 New 2.0 TDI Multitronic</td>\n",
       "      <td>Audi</td>\n",
       "      <td>A4</td>\n",
       "    </tr>\n",
       "    <tr>\n",
       "      <th>...</th>\n",
       "      <td>...</td>\n",
       "      <td>...</td>\n",
       "      <td>...</td>\n",
       "    </tr>\n",
       "    <tr>\n",
       "      <th>7248</th>\n",
       "      <td>Volkswagen Vento Diesel Trendline</td>\n",
       "      <td>Volkswagen</td>\n",
       "      <td>Vento</td>\n",
       "    </tr>\n",
       "    <tr>\n",
       "      <th>7249</th>\n",
       "      <td>Volkswagen Polo GT TSI</td>\n",
       "      <td>Volkswagen</td>\n",
       "      <td>Polo</td>\n",
       "    </tr>\n",
       "    <tr>\n",
       "      <th>7250</th>\n",
       "      <td>Nissan Micra Diesel XV</td>\n",
       "      <td>Nissan</td>\n",
       "      <td>Micra</td>\n",
       "    </tr>\n",
       "    <tr>\n",
       "      <th>7251</th>\n",
       "      <td>Volkswagen Polo GT TSI</td>\n",
       "      <td>Volkswagen</td>\n",
       "      <td>Polo</td>\n",
       "    </tr>\n",
       "    <tr>\n",
       "      <th>7252</th>\n",
       "      <td>Mercedes-Benz E-Class 2009-2013 E 220 CDI Avan...</td>\n",
       "      <td>Mercedes-Benz</td>\n",
       "      <td>E-Class</td>\n",
       "    </tr>\n",
       "  </tbody>\n",
       "</table>\n",
       "<p>7253 rows × 3 columns</p>\n",
       "</div>"
      ],
      "text/plain": [
       "                                                    Name          Brand  \\\n",
       "S.No.                                                                     \n",
       "0                                 Maruti Wagon R LXI CNG         Maruti   \n",
       "1                       Hyundai Creta 1.6 CRDi SX Option        Hyundai   \n",
       "2                                           Honda Jazz V          Honda   \n",
       "3                                      Maruti Ertiga VDI         Maruti   \n",
       "4                        Audi A4 New 2.0 TDI Multitronic           Audi   \n",
       "...                                                  ...            ...   \n",
       "7248                   Volkswagen Vento Diesel Trendline     Volkswagen   \n",
       "7249                              Volkswagen Polo GT TSI     Volkswagen   \n",
       "7250                              Nissan Micra Diesel XV         Nissan   \n",
       "7251                              Volkswagen Polo GT TSI     Volkswagen   \n",
       "7252   Mercedes-Benz E-Class 2009-2013 E 220 CDI Avan...  Mercedes-Benz   \n",
       "\n",
       "         Model  \n",
       "S.No.           \n",
       "0        Wagon  \n",
       "1        Creta  \n",
       "2         Jazz  \n",
       "3       Ertiga  \n",
       "4           A4  \n",
       "...        ...  \n",
       "7248     Vento  \n",
       "7249      Polo  \n",
       "7250     Micra  \n",
       "7251      Polo  \n",
       "7252   E-Class  \n",
       "\n",
       "[7253 rows x 3 columns]"
      ]
     },
     "execution_count": 18,
     "metadata": {},
     "output_type": "execute_result"
    }
   ],
   "source": [
    "df[\"Brand\"] = df[\"Name\"].str.split().str.get(0)\n",
    "df[\"Model\"] = df[\"Name\"].str.split().str.get(1)\n",
    "df[[\"Name\", \"Brand\", \"Model\"]]"
   ]
  },
  {
   "cell_type": "markdown",
   "id": "5249019f-aaf9-48a6-b202-c4c5d5bb8143",
   "metadata": {},
   "source": [
    "## Cleaning data"
   ]
  },
  {
   "cell_type": "markdown",
   "id": "32fbee5c-262a-40a8-9133-4ea52cb58367",
   "metadata": {},
   "source": [
    "### Cleaning Brand Name"
   ]
  },
  {
   "cell_type": "code",
   "execution_count": 19,
   "id": "c3768ecb-33c8-4a0c-8770-e56f01ce8324",
   "metadata": {
    "tags": []
   },
   "outputs": [
    {
     "name": "stdout",
     "output_type": "stream",
     "text": [
      "Current Data set has 33 unique brand names \n",
      "\n",
      "['Maruti' 'Hyundai' 'Honda' 'Audi' 'Nissan' 'Toyota' 'Volkswagen' 'Tata'\n",
      " 'Land' 'Mitsubishi' 'Renault' 'Mercedes-Benz' 'BMW' 'Mahindra' 'Ford'\n",
      " 'Porsche' 'Datsun' 'Jaguar' 'Volvo' 'Chevrolet' 'Skoda' 'Mini' 'Fiat'\n",
      " 'Jeep' 'Smart' 'Ambassador' 'Isuzu' 'ISUZU' 'Force' 'Bentley'\n",
      " 'Lamborghini' 'Hindustan' 'OpelCorsa']\n"
     ]
    }
   ],
   "source": [
    "print((\"Current Data set has {0} unique brand names \\n\").format(df[\"Brand\"].nunique()))\n",
    "print(df[\"Brand\"].unique())"
   ]
  },
  {
   "cell_type": "markdown",
   "id": "158bcf20-4dba-4f62-b931-52678245b916",
   "metadata": {},
   "source": [
    "- __\"Land\", \"Mini\" appear to be incorrect as there are no brands by these names__\n",
    "- __\"ISUZU/Isuzu\" is the same Brand with typo difference__"
   ]
  },
  {
   "cell_type": "code",
   "execution_count": 20,
   "id": "b008ce98-ca08-4ee7-9f7a-a1ba02c1898f",
   "metadata": {
    "tags": []
   },
   "outputs": [
    {
     "data": {
      "text/html": [
       "<div>\n",
       "<style scoped>\n",
       "    .dataframe tbody tr th:only-of-type {\n",
       "        vertical-align: middle;\n",
       "    }\n",
       "\n",
       "    .dataframe tbody tr th {\n",
       "        vertical-align: top;\n",
       "    }\n",
       "\n",
       "    .dataframe thead th {\n",
       "        text-align: right;\n",
       "    }\n",
       "</style>\n",
       "<table border=\"1\" class=\"dataframe\">\n",
       "  <thead>\n",
       "    <tr style=\"text-align: right;\">\n",
       "      <th></th>\n",
       "      <th>Name</th>\n",
       "      <th>Brand</th>\n",
       "      <th>Model</th>\n",
       "    </tr>\n",
       "    <tr>\n",
       "      <th>S.No.</th>\n",
       "      <th></th>\n",
       "      <th></th>\n",
       "      <th></th>\n",
       "    </tr>\n",
       "  </thead>\n",
       "  <tbody>\n",
       "    <tr>\n",
       "      <th>13</th>\n",
       "      <td>Land Rover Range Rover 2.2L Pure</td>\n",
       "      <td>Land</td>\n",
       "      <td>Rover</td>\n",
       "    </tr>\n",
       "    <tr>\n",
       "      <th>14</th>\n",
       "      <td>Land Rover Freelander 2 TD4 SE</td>\n",
       "      <td>Land</td>\n",
       "      <td>Rover</td>\n",
       "    </tr>\n",
       "    <tr>\n",
       "      <th>176</th>\n",
       "      <td>Mini Countryman Cooper D</td>\n",
       "      <td>Mini</td>\n",
       "      <td>Countryman</td>\n",
       "    </tr>\n",
       "    <tr>\n",
       "      <th>191</th>\n",
       "      <td>Land Rover Range Rover 2.2L Dynamic</td>\n",
       "      <td>Land</td>\n",
       "      <td>Rover</td>\n",
       "    </tr>\n",
       "    <tr>\n",
       "      <th>228</th>\n",
       "      <td>Mini Cooper Convertible S</td>\n",
       "      <td>Mini</td>\n",
       "      <td>Cooper</td>\n",
       "    </tr>\n",
       "    <tr>\n",
       "      <th>...</th>\n",
       "      <td>...</td>\n",
       "      <td>...</td>\n",
       "      <td>...</td>\n",
       "    </tr>\n",
       "    <tr>\n",
       "      <th>6919</th>\n",
       "      <td>ISUZU D-MAX V-Cross 4X4</td>\n",
       "      <td>ISUZU</td>\n",
       "      <td>D-MAX</td>\n",
       "    </tr>\n",
       "    <tr>\n",
       "      <th>7132</th>\n",
       "      <td>Mini Clubman Cooper S</td>\n",
       "      <td>Mini</td>\n",
       "      <td>Clubman</td>\n",
       "    </tr>\n",
       "    <tr>\n",
       "      <th>7157</th>\n",
       "      <td>Land Rover Range Rover 2.2L Pure</td>\n",
       "      <td>Land</td>\n",
       "      <td>Rover</td>\n",
       "    </tr>\n",
       "    <tr>\n",
       "      <th>7160</th>\n",
       "      <td>Mini Cooper Countryman D</td>\n",
       "      <td>Mini</td>\n",
       "      <td>Cooper</td>\n",
       "    </tr>\n",
       "    <tr>\n",
       "      <th>7198</th>\n",
       "      <td>Land Rover Discovery 4 TDV6 Auto Diesel</td>\n",
       "      <td>Land</td>\n",
       "      <td>Rover</td>\n",
       "    </tr>\n",
       "  </tbody>\n",
       "</table>\n",
       "<p>103 rows × 3 columns</p>\n",
       "</div>"
      ],
      "text/plain": [
       "                                          Name  Brand       Model\n",
       "S.No.                                                            \n",
       "13            Land Rover Range Rover 2.2L Pure   Land       Rover\n",
       "14              Land Rover Freelander 2 TD4 SE   Land       Rover\n",
       "176                   Mini Countryman Cooper D   Mini  Countryman\n",
       "191        Land Rover Range Rover 2.2L Dynamic   Land       Rover\n",
       "228                  Mini Cooper Convertible S   Mini      Cooper\n",
       "...                                        ...    ...         ...\n",
       "6919                   ISUZU D-MAX V-Cross 4X4  ISUZU       D-MAX\n",
       "7132                     Mini Clubman Cooper S   Mini     Clubman\n",
       "7157          Land Rover Range Rover 2.2L Pure   Land       Rover\n",
       "7160                  Mini Cooper Countryman D   Mini      Cooper\n",
       "7198   Land Rover Discovery 4 TDV6 Auto Diesel   Land       Rover\n",
       "\n",
       "[103 rows x 3 columns]"
      ]
     },
     "execution_count": 20,
     "metadata": {},
     "output_type": "execute_result"
    }
   ],
   "source": [
    "# Filtering the records for which Brand name needs to be cleaned\n",
    "incorrect_model_name = [\"Land\", \"Mini\", \"ISUZU\", \"Isuzu\"]\n",
    "filt = df[\"Brand\"].str.contains(\"|\".join(incorrect_model_name), case= False)\n",
    "df.loc[filt, [\"Name\", \"Brand\", \"Model\"]]"
   ]
  },
  {
   "cell_type": "code",
   "execution_count": 21,
   "id": "3149f145-80c6-4854-b54a-7e21f119fbc8",
   "metadata": {
    "tags": []
   },
   "outputs": [
    {
     "data": {
      "text/html": [
       "<div>\n",
       "<style scoped>\n",
       "    .dataframe tbody tr th:only-of-type {\n",
       "        vertical-align: middle;\n",
       "    }\n",
       "\n",
       "    .dataframe tbody tr th {\n",
       "        vertical-align: top;\n",
       "    }\n",
       "\n",
       "    .dataframe thead th {\n",
       "        text-align: right;\n",
       "    }\n",
       "</style>\n",
       "<table border=\"1\" class=\"dataframe\">\n",
       "  <thead>\n",
       "    <tr style=\"text-align: right;\">\n",
       "      <th></th>\n",
       "      <th>Name</th>\n",
       "      <th>Brand</th>\n",
       "      <th>Model</th>\n",
       "    </tr>\n",
       "    <tr>\n",
       "      <th>S.No.</th>\n",
       "      <th></th>\n",
       "      <th></th>\n",
       "      <th></th>\n",
       "    </tr>\n",
       "  </thead>\n",
       "  <tbody>\n",
       "    <tr>\n",
       "      <th>13</th>\n",
       "      <td>Land Rover Range Rover 2.2L Pure</td>\n",
       "      <td>Land Rover</td>\n",
       "      <td>Rover</td>\n",
       "    </tr>\n",
       "    <tr>\n",
       "      <th>14</th>\n",
       "      <td>Land Rover Freelander 2 TD4 SE</td>\n",
       "      <td>Land Rover</td>\n",
       "      <td>Rover</td>\n",
       "    </tr>\n",
       "    <tr>\n",
       "      <th>176</th>\n",
       "      <td>Mini Countryman Cooper D</td>\n",
       "      <td>Mini Cooper</td>\n",
       "      <td>Countryman</td>\n",
       "    </tr>\n",
       "    <tr>\n",
       "      <th>191</th>\n",
       "      <td>Land Rover Range Rover 2.2L Dynamic</td>\n",
       "      <td>Land Rover</td>\n",
       "      <td>Rover</td>\n",
       "    </tr>\n",
       "    <tr>\n",
       "      <th>228</th>\n",
       "      <td>Mini Cooper Convertible S</td>\n",
       "      <td>Mini Cooper</td>\n",
       "      <td>Cooper</td>\n",
       "    </tr>\n",
       "    <tr>\n",
       "      <th>...</th>\n",
       "      <td>...</td>\n",
       "      <td>...</td>\n",
       "      <td>...</td>\n",
       "    </tr>\n",
       "    <tr>\n",
       "      <th>6919</th>\n",
       "      <td>ISUZU D-MAX V-Cross 4X4</td>\n",
       "      <td>Isuzu</td>\n",
       "      <td>D-MAX</td>\n",
       "    </tr>\n",
       "    <tr>\n",
       "      <th>7132</th>\n",
       "      <td>Mini Clubman Cooper S</td>\n",
       "      <td>Mini Cooper</td>\n",
       "      <td>Clubman</td>\n",
       "    </tr>\n",
       "    <tr>\n",
       "      <th>7157</th>\n",
       "      <td>Land Rover Range Rover 2.2L Pure</td>\n",
       "      <td>Land Rover</td>\n",
       "      <td>Rover</td>\n",
       "    </tr>\n",
       "    <tr>\n",
       "      <th>7160</th>\n",
       "      <td>Mini Cooper Countryman D</td>\n",
       "      <td>Mini Cooper</td>\n",
       "      <td>Cooper</td>\n",
       "    </tr>\n",
       "    <tr>\n",
       "      <th>7198</th>\n",
       "      <td>Land Rover Discovery 4 TDV6 Auto Diesel</td>\n",
       "      <td>Land Rover</td>\n",
       "      <td>Rover</td>\n",
       "    </tr>\n",
       "  </tbody>\n",
       "</table>\n",
       "<p>103 rows × 3 columns</p>\n",
       "</div>"
      ],
      "text/plain": [
       "                                          Name        Brand       Model\n",
       "S.No.                                                                  \n",
       "13            Land Rover Range Rover 2.2L Pure   Land Rover       Rover\n",
       "14              Land Rover Freelander 2 TD4 SE   Land Rover       Rover\n",
       "176                   Mini Countryman Cooper D  Mini Cooper  Countryman\n",
       "191        Land Rover Range Rover 2.2L Dynamic   Land Rover       Rover\n",
       "228                  Mini Cooper Convertible S  Mini Cooper      Cooper\n",
       "...                                        ...          ...         ...\n",
       "6919                   ISUZU D-MAX V-Cross 4X4        Isuzu       D-MAX\n",
       "7132                     Mini Clubman Cooper S  Mini Cooper     Clubman\n",
       "7157          Land Rover Range Rover 2.2L Pure   Land Rover       Rover\n",
       "7160                  Mini Cooper Countryman D  Mini Cooper      Cooper\n",
       "7198   Land Rover Discovery 4 TDV6 Auto Diesel   Land Rover       Rover\n",
       "\n",
       "[103 rows x 3 columns]"
      ]
     },
     "execution_count": 21,
     "metadata": {},
     "output_type": "execute_result"
    }
   ],
   "source": [
    "# Replacing incorrect brand names with correct name\n",
    "df[\"Brand\"].replace({\"ISUZU\": \"Isuzu\", \"Mini\": \"Mini Cooper\", \"Land\": \"Land Rover\"}, inplace= True)\n",
    "df.loc[filt, [\"Name\", \"Brand\", \"Model\"]]"
   ]
  },
  {
   "cell_type": "markdown",
   "id": "073c9c8a-72e0-4507-bb05-bc8b671b85fb",
   "metadata": {},
   "source": [
    "### Extracting numeric value of Mileage"
   ]
  },
  {
   "cell_type": "code",
   "execution_count": 22,
   "id": "012230ed-6a00-4651-b183-ba414aaf2094",
   "metadata": {
    "tags": []
   },
   "outputs": [
    {
     "data": {
      "text/html": [
       "<div>\n",
       "<style scoped>\n",
       "    .dataframe tbody tr th:only-of-type {\n",
       "        vertical-align: middle;\n",
       "    }\n",
       "\n",
       "    .dataframe tbody tr th {\n",
       "        vertical-align: top;\n",
       "    }\n",
       "\n",
       "    .dataframe thead th {\n",
       "        text-align: right;\n",
       "    }\n",
       "</style>\n",
       "<table border=\"1\" class=\"dataframe\">\n",
       "  <thead>\n",
       "    <tr style=\"text-align: right;\">\n",
       "      <th></th>\n",
       "      <th>Name</th>\n",
       "      <th>Location</th>\n",
       "      <th>Year</th>\n",
       "      <th>Kilometers_Driven</th>\n",
       "      <th>Fuel_Type</th>\n",
       "      <th>Transmission</th>\n",
       "      <th>Owner_Type</th>\n",
       "      <th>Mileage</th>\n",
       "      <th>Engine</th>\n",
       "      <th>Power</th>\n",
       "      <th>Seats</th>\n",
       "      <th>New_Price</th>\n",
       "      <th>Price</th>\n",
       "      <th>Car_Age</th>\n",
       "      <th>Brand</th>\n",
       "      <th>Model</th>\n",
       "      <th>Mileage_Unit</th>\n",
       "    </tr>\n",
       "    <tr>\n",
       "      <th>S.No.</th>\n",
       "      <th></th>\n",
       "      <th></th>\n",
       "      <th></th>\n",
       "      <th></th>\n",
       "      <th></th>\n",
       "      <th></th>\n",
       "      <th></th>\n",
       "      <th></th>\n",
       "      <th></th>\n",
       "      <th></th>\n",
       "      <th></th>\n",
       "      <th></th>\n",
       "      <th></th>\n",
       "      <th></th>\n",
       "      <th></th>\n",
       "      <th></th>\n",
       "      <th></th>\n",
       "    </tr>\n",
       "  </thead>\n",
       "  <tbody>\n",
       "    <tr>\n",
       "      <th>0</th>\n",
       "      <td>Maruti Wagon R LXI CNG</td>\n",
       "      <td>Mumbai</td>\n",
       "      <td>2010</td>\n",
       "      <td>72000</td>\n",
       "      <td>CNG</td>\n",
       "      <td>Manual</td>\n",
       "      <td>First</td>\n",
       "      <td>26.60</td>\n",
       "      <td>998 CC</td>\n",
       "      <td>58.16 bhp</td>\n",
       "      <td>5.0</td>\n",
       "      <td>NaN</td>\n",
       "      <td>1.75</td>\n",
       "      <td>13</td>\n",
       "      <td>Maruti</td>\n",
       "      <td>Wagon</td>\n",
       "      <td>km/kg</td>\n",
       "    </tr>\n",
       "    <tr>\n",
       "      <th>1</th>\n",
       "      <td>Hyundai Creta 1.6 CRDi SX Option</td>\n",
       "      <td>Pune</td>\n",
       "      <td>2015</td>\n",
       "      <td>41000</td>\n",
       "      <td>Diesel</td>\n",
       "      <td>Manual</td>\n",
       "      <td>First</td>\n",
       "      <td>19.67</td>\n",
       "      <td>1582 CC</td>\n",
       "      <td>126.2 bhp</td>\n",
       "      <td>5.0</td>\n",
       "      <td>NaN</td>\n",
       "      <td>12.50</td>\n",
       "      <td>8</td>\n",
       "      <td>Hyundai</td>\n",
       "      <td>Creta</td>\n",
       "      <td>kmpl</td>\n",
       "    </tr>\n",
       "    <tr>\n",
       "      <th>2</th>\n",
       "      <td>Honda Jazz V</td>\n",
       "      <td>Chennai</td>\n",
       "      <td>2011</td>\n",
       "      <td>46000</td>\n",
       "      <td>Petrol</td>\n",
       "      <td>Manual</td>\n",
       "      <td>First</td>\n",
       "      <td>18.20</td>\n",
       "      <td>1199 CC</td>\n",
       "      <td>88.7 bhp</td>\n",
       "      <td>5.0</td>\n",
       "      <td>8.61 Lakh</td>\n",
       "      <td>4.50</td>\n",
       "      <td>12</td>\n",
       "      <td>Honda</td>\n",
       "      <td>Jazz</td>\n",
       "      <td>kmpl</td>\n",
       "    </tr>\n",
       "    <tr>\n",
       "      <th>3</th>\n",
       "      <td>Maruti Ertiga VDI</td>\n",
       "      <td>Chennai</td>\n",
       "      <td>2012</td>\n",
       "      <td>87000</td>\n",
       "      <td>Diesel</td>\n",
       "      <td>Manual</td>\n",
       "      <td>First</td>\n",
       "      <td>20.77</td>\n",
       "      <td>1248 CC</td>\n",
       "      <td>88.76 bhp</td>\n",
       "      <td>7.0</td>\n",
       "      <td>NaN</td>\n",
       "      <td>6.00</td>\n",
       "      <td>11</td>\n",
       "      <td>Maruti</td>\n",
       "      <td>Ertiga</td>\n",
       "      <td>kmpl</td>\n",
       "    </tr>\n",
       "    <tr>\n",
       "      <th>4</th>\n",
       "      <td>Audi A4 New 2.0 TDI Multitronic</td>\n",
       "      <td>Coimbatore</td>\n",
       "      <td>2013</td>\n",
       "      <td>40670</td>\n",
       "      <td>Diesel</td>\n",
       "      <td>Automatic</td>\n",
       "      <td>Second</td>\n",
       "      <td>15.20</td>\n",
       "      <td>1968 CC</td>\n",
       "      <td>140.8 bhp</td>\n",
       "      <td>5.0</td>\n",
       "      <td>NaN</td>\n",
       "      <td>17.74</td>\n",
       "      <td>10</td>\n",
       "      <td>Audi</td>\n",
       "      <td>A4</td>\n",
       "      <td>kmpl</td>\n",
       "    </tr>\n",
       "  </tbody>\n",
       "</table>\n",
       "</div>"
      ],
      "text/plain": [
       "                                   Name    Location  Year  Kilometers_Driven  \\\n",
       "S.No.                                                                          \n",
       "0                Maruti Wagon R LXI CNG      Mumbai  2010              72000   \n",
       "1      Hyundai Creta 1.6 CRDi SX Option        Pune  2015              41000   \n",
       "2                          Honda Jazz V     Chennai  2011              46000   \n",
       "3                     Maruti Ertiga VDI     Chennai  2012              87000   \n",
       "4       Audi A4 New 2.0 TDI Multitronic  Coimbatore  2013              40670   \n",
       "\n",
       "      Fuel_Type Transmission Owner_Type  Mileage   Engine      Power  Seats  \\\n",
       "S.No.                                                                         \n",
       "0           CNG       Manual      First    26.60   998 CC  58.16 bhp    5.0   \n",
       "1        Diesel       Manual      First    19.67  1582 CC  126.2 bhp    5.0   \n",
       "2        Petrol       Manual      First    18.20  1199 CC   88.7 bhp    5.0   \n",
       "3        Diesel       Manual      First    20.77  1248 CC  88.76 bhp    7.0   \n",
       "4        Diesel    Automatic     Second    15.20  1968 CC  140.8 bhp    5.0   \n",
       "\n",
       "       New_Price  Price  Car_Age    Brand   Model Mileage_Unit  \n",
       "S.No.                                                           \n",
       "0            NaN   1.75       13   Maruti   Wagon        km/kg  \n",
       "1            NaN  12.50        8  Hyundai   Creta         kmpl  \n",
       "2      8.61 Lakh   4.50       12    Honda    Jazz         kmpl  \n",
       "3            NaN   6.00       11   Maruti  Ertiga         kmpl  \n",
       "4            NaN  17.74       10     Audi      A4         kmpl  "
      ]
     },
     "execution_count": 22,
     "metadata": {},
     "output_type": "execute_result"
    }
   ],
   "source": [
    "# Splitting numeric value of Mileage from its unit\n",
    "df[\"Mileage_Unit\"] = df[\"Mileage\"].str.split().str.get(1)\n",
    "df[\"Mileage\"] = df[\"Mileage\"].str.split().str.get(0)\n",
    "df[\"Mileage\"] = df[\"Mileage\"].astype(float)\n",
    "df.head()"
   ]
  },
  {
   "cell_type": "markdown",
   "id": "45e32073-581b-442f-b3eb-42b3d45f4dc7",
   "metadata": {},
   "source": [
    "#### Checking different units of mileage and its frequency\n",
    "<a id='mileage-units'></a>"
   ]
  },
  {
   "cell_type": "code",
   "execution_count": 23,
   "id": "207166ea-75fc-4321-beae-cb77a272f8bd",
   "metadata": {
    "tags": []
   },
   "outputs": [
    {
     "name": "stdout",
     "output_type": "stream",
     "text": [
      "Mileage is specified in ['km/kg' 'kmpl' nan] units with below frequency:\n",
      "\n",
      "Mileage_Unit\n",
      "kmpl     7177\n",
      "km/kg      74\n",
      "Name: count, dtype: int64\n"
     ]
    }
   ],
   "source": [
    "print(f'Mileage is specified in {df[\"Mileage_Unit\"].unique()} units with below frequency:\\n')\n",
    "print(df[\"Mileage_Unit\"].value_counts())"
   ]
  },
  {
   "cell_type": "markdown",
   "id": "0ff9cbce-adc1-4549-9840-870be557330a",
   "metadata": {},
   "source": [
    "### Extracting numeric value of Engine"
   ]
  },
  {
   "cell_type": "code",
   "execution_count": 24,
   "id": "dccaf61c-cab7-4572-9ccd-0a7db8d6a9ee",
   "metadata": {
    "tags": []
   },
   "outputs": [],
   "source": [
    "# replacing null with np.nan\n",
    "df[\"Engine\"].replace(\"null\", np.nan, inplace=True)"
   ]
  },
  {
   "cell_type": "code",
   "execution_count": 25,
   "id": "959ba8ae-598a-4fea-bbe6-8986cc54a5d2",
   "metadata": {
    "tags": []
   },
   "outputs": [
    {
     "data": {
      "text/html": [
       "<div>\n",
       "<style scoped>\n",
       "    .dataframe tbody tr th:only-of-type {\n",
       "        vertical-align: middle;\n",
       "    }\n",
       "\n",
       "    .dataframe tbody tr th {\n",
       "        vertical-align: top;\n",
       "    }\n",
       "\n",
       "    .dataframe thead th {\n",
       "        text-align: right;\n",
       "    }\n",
       "</style>\n",
       "<table border=\"1\" class=\"dataframe\">\n",
       "  <thead>\n",
       "    <tr style=\"text-align: right;\">\n",
       "      <th></th>\n",
       "      <th>Name</th>\n",
       "      <th>Location</th>\n",
       "      <th>Year</th>\n",
       "      <th>Kilometers_Driven</th>\n",
       "      <th>Fuel_Type</th>\n",
       "      <th>Transmission</th>\n",
       "      <th>Owner_Type</th>\n",
       "      <th>Mileage</th>\n",
       "      <th>Engine</th>\n",
       "      <th>Power</th>\n",
       "      <th>Seats</th>\n",
       "      <th>New_Price</th>\n",
       "      <th>Price</th>\n",
       "      <th>Car_Age</th>\n",
       "      <th>Brand</th>\n",
       "      <th>Model</th>\n",
       "      <th>Mileage_Unit</th>\n",
       "      <th>Engine_Unit</th>\n",
       "    </tr>\n",
       "    <tr>\n",
       "      <th>S.No.</th>\n",
       "      <th></th>\n",
       "      <th></th>\n",
       "      <th></th>\n",
       "      <th></th>\n",
       "      <th></th>\n",
       "      <th></th>\n",
       "      <th></th>\n",
       "      <th></th>\n",
       "      <th></th>\n",
       "      <th></th>\n",
       "      <th></th>\n",
       "      <th></th>\n",
       "      <th></th>\n",
       "      <th></th>\n",
       "      <th></th>\n",
       "      <th></th>\n",
       "      <th></th>\n",
       "      <th></th>\n",
       "    </tr>\n",
       "  </thead>\n",
       "  <tbody>\n",
       "    <tr>\n",
       "      <th>0</th>\n",
       "      <td>Maruti Wagon R LXI CNG</td>\n",
       "      <td>Mumbai</td>\n",
       "      <td>2010</td>\n",
       "      <td>72000</td>\n",
       "      <td>CNG</td>\n",
       "      <td>Manual</td>\n",
       "      <td>First</td>\n",
       "      <td>26.60</td>\n",
       "      <td>998.0</td>\n",
       "      <td>58.16 bhp</td>\n",
       "      <td>5.0</td>\n",
       "      <td>NaN</td>\n",
       "      <td>1.75</td>\n",
       "      <td>13</td>\n",
       "      <td>Maruti</td>\n",
       "      <td>Wagon</td>\n",
       "      <td>km/kg</td>\n",
       "      <td>CC</td>\n",
       "    </tr>\n",
       "    <tr>\n",
       "      <th>1</th>\n",
       "      <td>Hyundai Creta 1.6 CRDi SX Option</td>\n",
       "      <td>Pune</td>\n",
       "      <td>2015</td>\n",
       "      <td>41000</td>\n",
       "      <td>Diesel</td>\n",
       "      <td>Manual</td>\n",
       "      <td>First</td>\n",
       "      <td>19.67</td>\n",
       "      <td>1582.0</td>\n",
       "      <td>126.2 bhp</td>\n",
       "      <td>5.0</td>\n",
       "      <td>NaN</td>\n",
       "      <td>12.50</td>\n",
       "      <td>8</td>\n",
       "      <td>Hyundai</td>\n",
       "      <td>Creta</td>\n",
       "      <td>kmpl</td>\n",
       "      <td>CC</td>\n",
       "    </tr>\n",
       "    <tr>\n",
       "      <th>2</th>\n",
       "      <td>Honda Jazz V</td>\n",
       "      <td>Chennai</td>\n",
       "      <td>2011</td>\n",
       "      <td>46000</td>\n",
       "      <td>Petrol</td>\n",
       "      <td>Manual</td>\n",
       "      <td>First</td>\n",
       "      <td>18.20</td>\n",
       "      <td>1199.0</td>\n",
       "      <td>88.7 bhp</td>\n",
       "      <td>5.0</td>\n",
       "      <td>8.61 Lakh</td>\n",
       "      <td>4.50</td>\n",
       "      <td>12</td>\n",
       "      <td>Honda</td>\n",
       "      <td>Jazz</td>\n",
       "      <td>kmpl</td>\n",
       "      <td>CC</td>\n",
       "    </tr>\n",
       "    <tr>\n",
       "      <th>3</th>\n",
       "      <td>Maruti Ertiga VDI</td>\n",
       "      <td>Chennai</td>\n",
       "      <td>2012</td>\n",
       "      <td>87000</td>\n",
       "      <td>Diesel</td>\n",
       "      <td>Manual</td>\n",
       "      <td>First</td>\n",
       "      <td>20.77</td>\n",
       "      <td>1248.0</td>\n",
       "      <td>88.76 bhp</td>\n",
       "      <td>7.0</td>\n",
       "      <td>NaN</td>\n",
       "      <td>6.00</td>\n",
       "      <td>11</td>\n",
       "      <td>Maruti</td>\n",
       "      <td>Ertiga</td>\n",
       "      <td>kmpl</td>\n",
       "      <td>CC</td>\n",
       "    </tr>\n",
       "    <tr>\n",
       "      <th>4</th>\n",
       "      <td>Audi A4 New 2.0 TDI Multitronic</td>\n",
       "      <td>Coimbatore</td>\n",
       "      <td>2013</td>\n",
       "      <td>40670</td>\n",
       "      <td>Diesel</td>\n",
       "      <td>Automatic</td>\n",
       "      <td>Second</td>\n",
       "      <td>15.20</td>\n",
       "      <td>1968.0</td>\n",
       "      <td>140.8 bhp</td>\n",
       "      <td>5.0</td>\n",
       "      <td>NaN</td>\n",
       "      <td>17.74</td>\n",
       "      <td>10</td>\n",
       "      <td>Audi</td>\n",
       "      <td>A4</td>\n",
       "      <td>kmpl</td>\n",
       "      <td>CC</td>\n",
       "    </tr>\n",
       "  </tbody>\n",
       "</table>\n",
       "</div>"
      ],
      "text/plain": [
       "                                   Name    Location  Year  Kilometers_Driven  \\\n",
       "S.No.                                                                          \n",
       "0                Maruti Wagon R LXI CNG      Mumbai  2010              72000   \n",
       "1      Hyundai Creta 1.6 CRDi SX Option        Pune  2015              41000   \n",
       "2                          Honda Jazz V     Chennai  2011              46000   \n",
       "3                     Maruti Ertiga VDI     Chennai  2012              87000   \n",
       "4       Audi A4 New 2.0 TDI Multitronic  Coimbatore  2013              40670   \n",
       "\n",
       "      Fuel_Type Transmission Owner_Type  Mileage  Engine      Power  Seats  \\\n",
       "S.No.                                                                        \n",
       "0           CNG       Manual      First    26.60   998.0  58.16 bhp    5.0   \n",
       "1        Diesel       Manual      First    19.67  1582.0  126.2 bhp    5.0   \n",
       "2        Petrol       Manual      First    18.20  1199.0   88.7 bhp    5.0   \n",
       "3        Diesel       Manual      First    20.77  1248.0  88.76 bhp    7.0   \n",
       "4        Diesel    Automatic     Second    15.20  1968.0  140.8 bhp    5.0   \n",
       "\n",
       "       New_Price  Price  Car_Age    Brand   Model Mileage_Unit Engine_Unit  \n",
       "S.No.                                                                       \n",
       "0            NaN   1.75       13   Maruti   Wagon        km/kg          CC  \n",
       "1            NaN  12.50        8  Hyundai   Creta         kmpl          CC  \n",
       "2      8.61 Lakh   4.50       12    Honda    Jazz         kmpl          CC  \n",
       "3            NaN   6.00       11   Maruti  Ertiga         kmpl          CC  \n",
       "4            NaN  17.74       10     Audi      A4         kmpl          CC  "
      ]
     },
     "execution_count": 25,
     "metadata": {},
     "output_type": "execute_result"
    }
   ],
   "source": [
    "# Splitting numeric value of Engine from its unit\n",
    "df[\"Engine_Unit\"] = df[\"Engine\"].str.split().str.get(1)\n",
    "df[\"Engine\"] = df[\"Engine\"].str.split().str.get(0)\n",
    "df[\"Engine\"] = df[\"Engine\"].astype(float)\n",
    "df.head()"
   ]
  },
  {
   "cell_type": "code",
   "execution_count": 26,
   "id": "89a5dc78-5ed0-49d3-9763-1aa5191ad857",
   "metadata": {
    "tags": []
   },
   "outputs": [
    {
     "name": "stdout",
     "output_type": "stream",
     "text": [
      "Engine Capcity is expressed in ['CC' nan] units\n"
     ]
    }
   ],
   "source": [
    "print(f'Engine Capcity is expressed in {df[\"Engine_Unit\"].unique()} units')"
   ]
  },
  {
   "cell_type": "markdown",
   "id": "245dd0e5-2db9-45c3-a3ca-e45ef44cc690",
   "metadata": {},
   "source": [
    "<a id='engine-units'></a>\n",
    "__Dropping column \"Engine_Unit\" since all values are in CC__ (Ignoring na values)"
   ]
  },
  {
   "cell_type": "code",
   "execution_count": 27,
   "id": "2c6b7824-a457-400a-a3cc-62e5bc74e185",
   "metadata": {
    "tags": []
   },
   "outputs": [
    {
     "data": {
      "text/html": [
       "<div>\n",
       "<style scoped>\n",
       "    .dataframe tbody tr th:only-of-type {\n",
       "        vertical-align: middle;\n",
       "    }\n",
       "\n",
       "    .dataframe tbody tr th {\n",
       "        vertical-align: top;\n",
       "    }\n",
       "\n",
       "    .dataframe thead th {\n",
       "        text-align: right;\n",
       "    }\n",
       "</style>\n",
       "<table border=\"1\" class=\"dataframe\">\n",
       "  <thead>\n",
       "    <tr style=\"text-align: right;\">\n",
       "      <th></th>\n",
       "      <th>Name</th>\n",
       "      <th>Location</th>\n",
       "      <th>Year</th>\n",
       "      <th>Kilometers_Driven</th>\n",
       "      <th>Fuel_Type</th>\n",
       "      <th>Transmission</th>\n",
       "      <th>Owner_Type</th>\n",
       "      <th>Mileage</th>\n",
       "      <th>Engine</th>\n",
       "      <th>Power</th>\n",
       "      <th>Seats</th>\n",
       "      <th>New_Price</th>\n",
       "      <th>Price</th>\n",
       "      <th>Car_Age</th>\n",
       "      <th>Brand</th>\n",
       "      <th>Model</th>\n",
       "      <th>Mileage_Unit</th>\n",
       "    </tr>\n",
       "    <tr>\n",
       "      <th>S.No.</th>\n",
       "      <th></th>\n",
       "      <th></th>\n",
       "      <th></th>\n",
       "      <th></th>\n",
       "      <th></th>\n",
       "      <th></th>\n",
       "      <th></th>\n",
       "      <th></th>\n",
       "      <th></th>\n",
       "      <th></th>\n",
       "      <th></th>\n",
       "      <th></th>\n",
       "      <th></th>\n",
       "      <th></th>\n",
       "      <th></th>\n",
       "      <th></th>\n",
       "      <th></th>\n",
       "    </tr>\n",
       "  </thead>\n",
       "  <tbody>\n",
       "    <tr>\n",
       "      <th>0</th>\n",
       "      <td>Maruti Wagon R LXI CNG</td>\n",
       "      <td>Mumbai</td>\n",
       "      <td>2010</td>\n",
       "      <td>72000</td>\n",
       "      <td>CNG</td>\n",
       "      <td>Manual</td>\n",
       "      <td>First</td>\n",
       "      <td>26.60</td>\n",
       "      <td>998.0</td>\n",
       "      <td>58.16 bhp</td>\n",
       "      <td>5.0</td>\n",
       "      <td>NaN</td>\n",
       "      <td>1.75</td>\n",
       "      <td>13</td>\n",
       "      <td>Maruti</td>\n",
       "      <td>Wagon</td>\n",
       "      <td>km/kg</td>\n",
       "    </tr>\n",
       "    <tr>\n",
       "      <th>1</th>\n",
       "      <td>Hyundai Creta 1.6 CRDi SX Option</td>\n",
       "      <td>Pune</td>\n",
       "      <td>2015</td>\n",
       "      <td>41000</td>\n",
       "      <td>Diesel</td>\n",
       "      <td>Manual</td>\n",
       "      <td>First</td>\n",
       "      <td>19.67</td>\n",
       "      <td>1582.0</td>\n",
       "      <td>126.2 bhp</td>\n",
       "      <td>5.0</td>\n",
       "      <td>NaN</td>\n",
       "      <td>12.50</td>\n",
       "      <td>8</td>\n",
       "      <td>Hyundai</td>\n",
       "      <td>Creta</td>\n",
       "      <td>kmpl</td>\n",
       "    </tr>\n",
       "    <tr>\n",
       "      <th>2</th>\n",
       "      <td>Honda Jazz V</td>\n",
       "      <td>Chennai</td>\n",
       "      <td>2011</td>\n",
       "      <td>46000</td>\n",
       "      <td>Petrol</td>\n",
       "      <td>Manual</td>\n",
       "      <td>First</td>\n",
       "      <td>18.20</td>\n",
       "      <td>1199.0</td>\n",
       "      <td>88.7 bhp</td>\n",
       "      <td>5.0</td>\n",
       "      <td>8.61 Lakh</td>\n",
       "      <td>4.50</td>\n",
       "      <td>12</td>\n",
       "      <td>Honda</td>\n",
       "      <td>Jazz</td>\n",
       "      <td>kmpl</td>\n",
       "    </tr>\n",
       "    <tr>\n",
       "      <th>3</th>\n",
       "      <td>Maruti Ertiga VDI</td>\n",
       "      <td>Chennai</td>\n",
       "      <td>2012</td>\n",
       "      <td>87000</td>\n",
       "      <td>Diesel</td>\n",
       "      <td>Manual</td>\n",
       "      <td>First</td>\n",
       "      <td>20.77</td>\n",
       "      <td>1248.0</td>\n",
       "      <td>88.76 bhp</td>\n",
       "      <td>7.0</td>\n",
       "      <td>NaN</td>\n",
       "      <td>6.00</td>\n",
       "      <td>11</td>\n",
       "      <td>Maruti</td>\n",
       "      <td>Ertiga</td>\n",
       "      <td>kmpl</td>\n",
       "    </tr>\n",
       "    <tr>\n",
       "      <th>4</th>\n",
       "      <td>Audi A4 New 2.0 TDI Multitronic</td>\n",
       "      <td>Coimbatore</td>\n",
       "      <td>2013</td>\n",
       "      <td>40670</td>\n",
       "      <td>Diesel</td>\n",
       "      <td>Automatic</td>\n",
       "      <td>Second</td>\n",
       "      <td>15.20</td>\n",
       "      <td>1968.0</td>\n",
       "      <td>140.8 bhp</td>\n",
       "      <td>5.0</td>\n",
       "      <td>NaN</td>\n",
       "      <td>17.74</td>\n",
       "      <td>10</td>\n",
       "      <td>Audi</td>\n",
       "      <td>A4</td>\n",
       "      <td>kmpl</td>\n",
       "    </tr>\n",
       "  </tbody>\n",
       "</table>\n",
       "</div>"
      ],
      "text/plain": [
       "                                   Name    Location  Year  Kilometers_Driven  \\\n",
       "S.No.                                                                          \n",
       "0                Maruti Wagon R LXI CNG      Mumbai  2010              72000   \n",
       "1      Hyundai Creta 1.6 CRDi SX Option        Pune  2015              41000   \n",
       "2                          Honda Jazz V     Chennai  2011              46000   \n",
       "3                     Maruti Ertiga VDI     Chennai  2012              87000   \n",
       "4       Audi A4 New 2.0 TDI Multitronic  Coimbatore  2013              40670   \n",
       "\n",
       "      Fuel_Type Transmission Owner_Type  Mileage  Engine      Power  Seats  \\\n",
       "S.No.                                                                        \n",
       "0           CNG       Manual      First    26.60   998.0  58.16 bhp    5.0   \n",
       "1        Diesel       Manual      First    19.67  1582.0  126.2 bhp    5.0   \n",
       "2        Petrol       Manual      First    18.20  1199.0   88.7 bhp    5.0   \n",
       "3        Diesel       Manual      First    20.77  1248.0  88.76 bhp    7.0   \n",
       "4        Diesel    Automatic     Second    15.20  1968.0  140.8 bhp    5.0   \n",
       "\n",
       "       New_Price  Price  Car_Age    Brand   Model Mileage_Unit  \n",
       "S.No.                                                           \n",
       "0            NaN   1.75       13   Maruti   Wagon        km/kg  \n",
       "1            NaN  12.50        8  Hyundai   Creta         kmpl  \n",
       "2      8.61 Lakh   4.50       12    Honda    Jazz         kmpl  \n",
       "3            NaN   6.00       11   Maruti  Ertiga         kmpl  \n",
       "4            NaN  17.74       10     Audi      A4         kmpl  "
      ]
     },
     "execution_count": 27,
     "metadata": {},
     "output_type": "execute_result"
    }
   ],
   "source": [
    "df.drop(\"Engine_Unit\", axis = \"columns\", inplace=True)\n",
    "df.head()"
   ]
  },
  {
   "cell_type": "markdown",
   "id": "3fce7f86-473b-4249-88ac-ae9ee0f70607",
   "metadata": {},
   "source": [
    "### Extracting numeric value of Power"
   ]
  },
  {
   "cell_type": "code",
   "execution_count": 28,
   "id": "2bbdc8a2-092b-4d1e-9a5e-c036c49137d9",
   "metadata": {
    "tags": []
   },
   "outputs": [
    {
     "data": {
      "text/html": [
       "<div>\n",
       "<style scoped>\n",
       "    .dataframe tbody tr th:only-of-type {\n",
       "        vertical-align: middle;\n",
       "    }\n",
       "\n",
       "    .dataframe tbody tr th {\n",
       "        vertical-align: top;\n",
       "    }\n",
       "\n",
       "    .dataframe thead th {\n",
       "        text-align: right;\n",
       "    }\n",
       "</style>\n",
       "<table border=\"1\" class=\"dataframe\">\n",
       "  <thead>\n",
       "    <tr style=\"text-align: right;\">\n",
       "      <th></th>\n",
       "      <th>Name</th>\n",
       "      <th>Location</th>\n",
       "      <th>Year</th>\n",
       "      <th>Kilometers_Driven</th>\n",
       "      <th>Fuel_Type</th>\n",
       "      <th>Transmission</th>\n",
       "      <th>Owner_Type</th>\n",
       "      <th>Mileage</th>\n",
       "      <th>Engine</th>\n",
       "      <th>Power</th>\n",
       "      <th>Seats</th>\n",
       "      <th>New_Price</th>\n",
       "      <th>Price</th>\n",
       "      <th>Car_Age</th>\n",
       "      <th>Brand</th>\n",
       "      <th>Model</th>\n",
       "      <th>Mileage_Unit</th>\n",
       "      <th>Power_Unit</th>\n",
       "    </tr>\n",
       "    <tr>\n",
       "      <th>S.No.</th>\n",
       "      <th></th>\n",
       "      <th></th>\n",
       "      <th></th>\n",
       "      <th></th>\n",
       "      <th></th>\n",
       "      <th></th>\n",
       "      <th></th>\n",
       "      <th></th>\n",
       "      <th></th>\n",
       "      <th></th>\n",
       "      <th></th>\n",
       "      <th></th>\n",
       "      <th></th>\n",
       "      <th></th>\n",
       "      <th></th>\n",
       "      <th></th>\n",
       "      <th></th>\n",
       "      <th></th>\n",
       "    </tr>\n",
       "  </thead>\n",
       "  <tbody>\n",
       "    <tr>\n",
       "      <th>0</th>\n",
       "      <td>Maruti Wagon R LXI CNG</td>\n",
       "      <td>Mumbai</td>\n",
       "      <td>2010</td>\n",
       "      <td>72000</td>\n",
       "      <td>CNG</td>\n",
       "      <td>Manual</td>\n",
       "      <td>First</td>\n",
       "      <td>26.60</td>\n",
       "      <td>998.0</td>\n",
       "      <td>58.16</td>\n",
       "      <td>5.0</td>\n",
       "      <td>NaN</td>\n",
       "      <td>1.75</td>\n",
       "      <td>13</td>\n",
       "      <td>Maruti</td>\n",
       "      <td>Wagon</td>\n",
       "      <td>km/kg</td>\n",
       "      <td>bhp</td>\n",
       "    </tr>\n",
       "    <tr>\n",
       "      <th>1</th>\n",
       "      <td>Hyundai Creta 1.6 CRDi SX Option</td>\n",
       "      <td>Pune</td>\n",
       "      <td>2015</td>\n",
       "      <td>41000</td>\n",
       "      <td>Diesel</td>\n",
       "      <td>Manual</td>\n",
       "      <td>First</td>\n",
       "      <td>19.67</td>\n",
       "      <td>1582.0</td>\n",
       "      <td>126.2</td>\n",
       "      <td>5.0</td>\n",
       "      <td>NaN</td>\n",
       "      <td>12.50</td>\n",
       "      <td>8</td>\n",
       "      <td>Hyundai</td>\n",
       "      <td>Creta</td>\n",
       "      <td>kmpl</td>\n",
       "      <td>bhp</td>\n",
       "    </tr>\n",
       "    <tr>\n",
       "      <th>2</th>\n",
       "      <td>Honda Jazz V</td>\n",
       "      <td>Chennai</td>\n",
       "      <td>2011</td>\n",
       "      <td>46000</td>\n",
       "      <td>Petrol</td>\n",
       "      <td>Manual</td>\n",
       "      <td>First</td>\n",
       "      <td>18.20</td>\n",
       "      <td>1199.0</td>\n",
       "      <td>88.7</td>\n",
       "      <td>5.0</td>\n",
       "      <td>8.61 Lakh</td>\n",
       "      <td>4.50</td>\n",
       "      <td>12</td>\n",
       "      <td>Honda</td>\n",
       "      <td>Jazz</td>\n",
       "      <td>kmpl</td>\n",
       "      <td>bhp</td>\n",
       "    </tr>\n",
       "    <tr>\n",
       "      <th>3</th>\n",
       "      <td>Maruti Ertiga VDI</td>\n",
       "      <td>Chennai</td>\n",
       "      <td>2012</td>\n",
       "      <td>87000</td>\n",
       "      <td>Diesel</td>\n",
       "      <td>Manual</td>\n",
       "      <td>First</td>\n",
       "      <td>20.77</td>\n",
       "      <td>1248.0</td>\n",
       "      <td>88.76</td>\n",
       "      <td>7.0</td>\n",
       "      <td>NaN</td>\n",
       "      <td>6.00</td>\n",
       "      <td>11</td>\n",
       "      <td>Maruti</td>\n",
       "      <td>Ertiga</td>\n",
       "      <td>kmpl</td>\n",
       "      <td>bhp</td>\n",
       "    </tr>\n",
       "    <tr>\n",
       "      <th>4</th>\n",
       "      <td>Audi A4 New 2.0 TDI Multitronic</td>\n",
       "      <td>Coimbatore</td>\n",
       "      <td>2013</td>\n",
       "      <td>40670</td>\n",
       "      <td>Diesel</td>\n",
       "      <td>Automatic</td>\n",
       "      <td>Second</td>\n",
       "      <td>15.20</td>\n",
       "      <td>1968.0</td>\n",
       "      <td>140.8</td>\n",
       "      <td>5.0</td>\n",
       "      <td>NaN</td>\n",
       "      <td>17.74</td>\n",
       "      <td>10</td>\n",
       "      <td>Audi</td>\n",
       "      <td>A4</td>\n",
       "      <td>kmpl</td>\n",
       "      <td>bhp</td>\n",
       "    </tr>\n",
       "  </tbody>\n",
       "</table>\n",
       "</div>"
      ],
      "text/plain": [
       "                                   Name    Location  Year  Kilometers_Driven  \\\n",
       "S.No.                                                                          \n",
       "0                Maruti Wagon R LXI CNG      Mumbai  2010              72000   \n",
       "1      Hyundai Creta 1.6 CRDi SX Option        Pune  2015              41000   \n",
       "2                          Honda Jazz V     Chennai  2011              46000   \n",
       "3                     Maruti Ertiga VDI     Chennai  2012              87000   \n",
       "4       Audi A4 New 2.0 TDI Multitronic  Coimbatore  2013              40670   \n",
       "\n",
       "      Fuel_Type Transmission Owner_Type  Mileage  Engine  Power  Seats  \\\n",
       "S.No.                                                                    \n",
       "0           CNG       Manual      First    26.60   998.0  58.16    5.0   \n",
       "1        Diesel       Manual      First    19.67  1582.0  126.2    5.0   \n",
       "2        Petrol       Manual      First    18.20  1199.0   88.7    5.0   \n",
       "3        Diesel       Manual      First    20.77  1248.0  88.76    7.0   \n",
       "4        Diesel    Automatic     Second    15.20  1968.0  140.8    5.0   \n",
       "\n",
       "       New_Price  Price  Car_Age    Brand   Model Mileage_Unit Power_Unit  \n",
       "S.No.                                                                      \n",
       "0            NaN   1.75       13   Maruti   Wagon        km/kg        bhp  \n",
       "1            NaN  12.50        8  Hyundai   Creta         kmpl        bhp  \n",
       "2      8.61 Lakh   4.50       12    Honda    Jazz         kmpl        bhp  \n",
       "3            NaN   6.00       11   Maruti  Ertiga         kmpl        bhp  \n",
       "4            NaN  17.74       10     Audi      A4         kmpl        bhp  "
      ]
     },
     "execution_count": 28,
     "metadata": {},
     "output_type": "execute_result"
    }
   ],
   "source": [
    "# Splitting numeric value of Power from its unit\n",
    "df[\"Power_Unit\"] = df[\"Power\"].str.split().str.get(1)\n",
    "df[\"Power\"] = df[\"Power\"].str.split().str.get(0)\n",
    "df.head()"
   ]
  },
  {
   "cell_type": "code",
   "execution_count": 29,
   "id": "66562ee1-3cd0-4043-b2c1-59c788dfa2ff",
   "metadata": {
    "tags": []
   },
   "outputs": [
    {
     "name": "stdout",
     "output_type": "stream",
     "text": [
      "Power is expressed in ['bhp' nan] units\n"
     ]
    }
   ],
   "source": [
    "print(f'Power is expressed in {df[\"Power_Unit\"].unique()} units')"
   ]
  },
  {
   "cell_type": "markdown",
   "id": "372efa1f-07f2-4f27-867a-58f15cb34011",
   "metadata": {},
   "source": [
    "<a id='Power-units'></a>\n",
    "__Dropping column \"Power\" since all values are in bhp__ (Ignoring na values)"
   ]
  },
  {
   "cell_type": "code",
   "execution_count": 30,
   "id": "e2927e02-2a8a-4573-92d4-8290ef9acac7",
   "metadata": {
    "tags": []
   },
   "outputs": [
    {
     "data": {
      "text/html": [
       "<div>\n",
       "<style scoped>\n",
       "    .dataframe tbody tr th:only-of-type {\n",
       "        vertical-align: middle;\n",
       "    }\n",
       "\n",
       "    .dataframe tbody tr th {\n",
       "        vertical-align: top;\n",
       "    }\n",
       "\n",
       "    .dataframe thead th {\n",
       "        text-align: right;\n",
       "    }\n",
       "</style>\n",
       "<table border=\"1\" class=\"dataframe\">\n",
       "  <thead>\n",
       "    <tr style=\"text-align: right;\">\n",
       "      <th></th>\n",
       "      <th>Name</th>\n",
       "      <th>Location</th>\n",
       "      <th>Year</th>\n",
       "      <th>Kilometers_Driven</th>\n",
       "      <th>Fuel_Type</th>\n",
       "      <th>Transmission</th>\n",
       "      <th>Owner_Type</th>\n",
       "      <th>Mileage</th>\n",
       "      <th>Engine</th>\n",
       "      <th>Power</th>\n",
       "      <th>Seats</th>\n",
       "      <th>New_Price</th>\n",
       "      <th>Price</th>\n",
       "      <th>Car_Age</th>\n",
       "      <th>Brand</th>\n",
       "      <th>Model</th>\n",
       "      <th>Mileage_Unit</th>\n",
       "    </tr>\n",
       "    <tr>\n",
       "      <th>S.No.</th>\n",
       "      <th></th>\n",
       "      <th></th>\n",
       "      <th></th>\n",
       "      <th></th>\n",
       "      <th></th>\n",
       "      <th></th>\n",
       "      <th></th>\n",
       "      <th></th>\n",
       "      <th></th>\n",
       "      <th></th>\n",
       "      <th></th>\n",
       "      <th></th>\n",
       "      <th></th>\n",
       "      <th></th>\n",
       "      <th></th>\n",
       "      <th></th>\n",
       "      <th></th>\n",
       "    </tr>\n",
       "  </thead>\n",
       "  <tbody>\n",
       "    <tr>\n",
       "      <th>0</th>\n",
       "      <td>Maruti Wagon R LXI CNG</td>\n",
       "      <td>Mumbai</td>\n",
       "      <td>2010</td>\n",
       "      <td>72000</td>\n",
       "      <td>CNG</td>\n",
       "      <td>Manual</td>\n",
       "      <td>First</td>\n",
       "      <td>26.60</td>\n",
       "      <td>998.0</td>\n",
       "      <td>58.16</td>\n",
       "      <td>5.0</td>\n",
       "      <td>NaN</td>\n",
       "      <td>1.75</td>\n",
       "      <td>13</td>\n",
       "      <td>Maruti</td>\n",
       "      <td>Wagon</td>\n",
       "      <td>km/kg</td>\n",
       "    </tr>\n",
       "    <tr>\n",
       "      <th>1</th>\n",
       "      <td>Hyundai Creta 1.6 CRDi SX Option</td>\n",
       "      <td>Pune</td>\n",
       "      <td>2015</td>\n",
       "      <td>41000</td>\n",
       "      <td>Diesel</td>\n",
       "      <td>Manual</td>\n",
       "      <td>First</td>\n",
       "      <td>19.67</td>\n",
       "      <td>1582.0</td>\n",
       "      <td>126.2</td>\n",
       "      <td>5.0</td>\n",
       "      <td>NaN</td>\n",
       "      <td>12.50</td>\n",
       "      <td>8</td>\n",
       "      <td>Hyundai</td>\n",
       "      <td>Creta</td>\n",
       "      <td>kmpl</td>\n",
       "    </tr>\n",
       "    <tr>\n",
       "      <th>2</th>\n",
       "      <td>Honda Jazz V</td>\n",
       "      <td>Chennai</td>\n",
       "      <td>2011</td>\n",
       "      <td>46000</td>\n",
       "      <td>Petrol</td>\n",
       "      <td>Manual</td>\n",
       "      <td>First</td>\n",
       "      <td>18.20</td>\n",
       "      <td>1199.0</td>\n",
       "      <td>88.7</td>\n",
       "      <td>5.0</td>\n",
       "      <td>8.61 Lakh</td>\n",
       "      <td>4.50</td>\n",
       "      <td>12</td>\n",
       "      <td>Honda</td>\n",
       "      <td>Jazz</td>\n",
       "      <td>kmpl</td>\n",
       "    </tr>\n",
       "    <tr>\n",
       "      <th>3</th>\n",
       "      <td>Maruti Ertiga VDI</td>\n",
       "      <td>Chennai</td>\n",
       "      <td>2012</td>\n",
       "      <td>87000</td>\n",
       "      <td>Diesel</td>\n",
       "      <td>Manual</td>\n",
       "      <td>First</td>\n",
       "      <td>20.77</td>\n",
       "      <td>1248.0</td>\n",
       "      <td>88.76</td>\n",
       "      <td>7.0</td>\n",
       "      <td>NaN</td>\n",
       "      <td>6.00</td>\n",
       "      <td>11</td>\n",
       "      <td>Maruti</td>\n",
       "      <td>Ertiga</td>\n",
       "      <td>kmpl</td>\n",
       "    </tr>\n",
       "    <tr>\n",
       "      <th>4</th>\n",
       "      <td>Audi A4 New 2.0 TDI Multitronic</td>\n",
       "      <td>Coimbatore</td>\n",
       "      <td>2013</td>\n",
       "      <td>40670</td>\n",
       "      <td>Diesel</td>\n",
       "      <td>Automatic</td>\n",
       "      <td>Second</td>\n",
       "      <td>15.20</td>\n",
       "      <td>1968.0</td>\n",
       "      <td>140.8</td>\n",
       "      <td>5.0</td>\n",
       "      <td>NaN</td>\n",
       "      <td>17.74</td>\n",
       "      <td>10</td>\n",
       "      <td>Audi</td>\n",
       "      <td>A4</td>\n",
       "      <td>kmpl</td>\n",
       "    </tr>\n",
       "  </tbody>\n",
       "</table>\n",
       "</div>"
      ],
      "text/plain": [
       "                                   Name    Location  Year  Kilometers_Driven  \\\n",
       "S.No.                                                                          \n",
       "0                Maruti Wagon R LXI CNG      Mumbai  2010              72000   \n",
       "1      Hyundai Creta 1.6 CRDi SX Option        Pune  2015              41000   \n",
       "2                          Honda Jazz V     Chennai  2011              46000   \n",
       "3                     Maruti Ertiga VDI     Chennai  2012              87000   \n",
       "4       Audi A4 New 2.0 TDI Multitronic  Coimbatore  2013              40670   \n",
       "\n",
       "      Fuel_Type Transmission Owner_Type  Mileage  Engine  Power  Seats  \\\n",
       "S.No.                                                                    \n",
       "0           CNG       Manual      First    26.60   998.0  58.16    5.0   \n",
       "1        Diesel       Manual      First    19.67  1582.0  126.2    5.0   \n",
       "2        Petrol       Manual      First    18.20  1199.0   88.7    5.0   \n",
       "3        Diesel       Manual      First    20.77  1248.0  88.76    7.0   \n",
       "4        Diesel    Automatic     Second    15.20  1968.0  140.8    5.0   \n",
       "\n",
       "       New_Price  Price  Car_Age    Brand   Model Mileage_Unit  \n",
       "S.No.                                                           \n",
       "0            NaN   1.75       13   Maruti   Wagon        km/kg  \n",
       "1            NaN  12.50        8  Hyundai   Creta         kmpl  \n",
       "2      8.61 Lakh   4.50       12    Honda    Jazz         kmpl  \n",
       "3            NaN   6.00       11   Maruti  Ertiga         kmpl  \n",
       "4            NaN  17.74       10     Audi      A4         kmpl  "
      ]
     },
     "execution_count": 30,
     "metadata": {},
     "output_type": "execute_result"
    }
   ],
   "source": [
    "df.drop(\"Power_Unit\", axis = \"columns\", inplace=True)\n",
    "df.head()"
   ]
  },
  {
   "cell_type": "markdown",
   "id": "8b5706f7-cf76-4c10-98c8-7d2cff1726bb",
   "metadata": {},
   "source": [
    "*\"Power\" column contains some null values and cannot be directly coerced to float datatype*"
   ]
  },
  {
   "cell_type": "code",
   "execution_count": 31,
   "id": "c1697fbc-27e9-4015-a463-947c96d4e153",
   "metadata": {
    "tags": []
   },
   "outputs": [],
   "source": [
    "# replacing null with np.nan\n",
    "df[\"Power\"].replace(\"null\", np.nan, inplace=True)"
   ]
  },
  {
   "cell_type": "code",
   "execution_count": 32,
   "id": "36eed5e2-6c2a-42a8-a449-ec3522f4c550",
   "metadata": {
    "tags": []
   },
   "outputs": [
    {
     "data": {
      "text/html": [
       "<div>\n",
       "<style scoped>\n",
       "    .dataframe tbody tr th:only-of-type {\n",
       "        vertical-align: middle;\n",
       "    }\n",
       "\n",
       "    .dataframe tbody tr th {\n",
       "        vertical-align: top;\n",
       "    }\n",
       "\n",
       "    .dataframe thead th {\n",
       "        text-align: right;\n",
       "    }\n",
       "</style>\n",
       "<table border=\"1\" class=\"dataframe\">\n",
       "  <thead>\n",
       "    <tr style=\"text-align: right;\">\n",
       "      <th></th>\n",
       "      <th>Name</th>\n",
       "      <th>Location</th>\n",
       "      <th>Year</th>\n",
       "      <th>Kilometers_Driven</th>\n",
       "      <th>Fuel_Type</th>\n",
       "      <th>Transmission</th>\n",
       "      <th>Owner_Type</th>\n",
       "      <th>Mileage</th>\n",
       "      <th>Engine</th>\n",
       "      <th>Power</th>\n",
       "      <th>Seats</th>\n",
       "      <th>New_Price</th>\n",
       "      <th>Price</th>\n",
       "      <th>Car_Age</th>\n",
       "      <th>Brand</th>\n",
       "      <th>Model</th>\n",
       "      <th>Mileage_Unit</th>\n",
       "    </tr>\n",
       "    <tr>\n",
       "      <th>S.No.</th>\n",
       "      <th></th>\n",
       "      <th></th>\n",
       "      <th></th>\n",
       "      <th></th>\n",
       "      <th></th>\n",
       "      <th></th>\n",
       "      <th></th>\n",
       "      <th></th>\n",
       "      <th></th>\n",
       "      <th></th>\n",
       "      <th></th>\n",
       "      <th></th>\n",
       "      <th></th>\n",
       "      <th></th>\n",
       "      <th></th>\n",
       "      <th></th>\n",
       "      <th></th>\n",
       "    </tr>\n",
       "  </thead>\n",
       "  <tbody>\n",
       "    <tr>\n",
       "      <th>0</th>\n",
       "      <td>Maruti Wagon R LXI CNG</td>\n",
       "      <td>Mumbai</td>\n",
       "      <td>2010</td>\n",
       "      <td>72000</td>\n",
       "      <td>CNG</td>\n",
       "      <td>Manual</td>\n",
       "      <td>First</td>\n",
       "      <td>26.60</td>\n",
       "      <td>998.0</td>\n",
       "      <td>58.16</td>\n",
       "      <td>5.0</td>\n",
       "      <td>NaN</td>\n",
       "      <td>1.75</td>\n",
       "      <td>13</td>\n",
       "      <td>Maruti</td>\n",
       "      <td>Wagon</td>\n",
       "      <td>km/kg</td>\n",
       "    </tr>\n",
       "    <tr>\n",
       "      <th>1</th>\n",
       "      <td>Hyundai Creta 1.6 CRDi SX Option</td>\n",
       "      <td>Pune</td>\n",
       "      <td>2015</td>\n",
       "      <td>41000</td>\n",
       "      <td>Diesel</td>\n",
       "      <td>Manual</td>\n",
       "      <td>First</td>\n",
       "      <td>19.67</td>\n",
       "      <td>1582.0</td>\n",
       "      <td>126.20</td>\n",
       "      <td>5.0</td>\n",
       "      <td>NaN</td>\n",
       "      <td>12.50</td>\n",
       "      <td>8</td>\n",
       "      <td>Hyundai</td>\n",
       "      <td>Creta</td>\n",
       "      <td>kmpl</td>\n",
       "    </tr>\n",
       "    <tr>\n",
       "      <th>2</th>\n",
       "      <td>Honda Jazz V</td>\n",
       "      <td>Chennai</td>\n",
       "      <td>2011</td>\n",
       "      <td>46000</td>\n",
       "      <td>Petrol</td>\n",
       "      <td>Manual</td>\n",
       "      <td>First</td>\n",
       "      <td>18.20</td>\n",
       "      <td>1199.0</td>\n",
       "      <td>88.70</td>\n",
       "      <td>5.0</td>\n",
       "      <td>8.61 Lakh</td>\n",
       "      <td>4.50</td>\n",
       "      <td>12</td>\n",
       "      <td>Honda</td>\n",
       "      <td>Jazz</td>\n",
       "      <td>kmpl</td>\n",
       "    </tr>\n",
       "    <tr>\n",
       "      <th>3</th>\n",
       "      <td>Maruti Ertiga VDI</td>\n",
       "      <td>Chennai</td>\n",
       "      <td>2012</td>\n",
       "      <td>87000</td>\n",
       "      <td>Diesel</td>\n",
       "      <td>Manual</td>\n",
       "      <td>First</td>\n",
       "      <td>20.77</td>\n",
       "      <td>1248.0</td>\n",
       "      <td>88.76</td>\n",
       "      <td>7.0</td>\n",
       "      <td>NaN</td>\n",
       "      <td>6.00</td>\n",
       "      <td>11</td>\n",
       "      <td>Maruti</td>\n",
       "      <td>Ertiga</td>\n",
       "      <td>kmpl</td>\n",
       "    </tr>\n",
       "    <tr>\n",
       "      <th>4</th>\n",
       "      <td>Audi A4 New 2.0 TDI Multitronic</td>\n",
       "      <td>Coimbatore</td>\n",
       "      <td>2013</td>\n",
       "      <td>40670</td>\n",
       "      <td>Diesel</td>\n",
       "      <td>Automatic</td>\n",
       "      <td>Second</td>\n",
       "      <td>15.20</td>\n",
       "      <td>1968.0</td>\n",
       "      <td>140.80</td>\n",
       "      <td>5.0</td>\n",
       "      <td>NaN</td>\n",
       "      <td>17.74</td>\n",
       "      <td>10</td>\n",
       "      <td>Audi</td>\n",
       "      <td>A4</td>\n",
       "      <td>kmpl</td>\n",
       "    </tr>\n",
       "  </tbody>\n",
       "</table>\n",
       "</div>"
      ],
      "text/plain": [
       "                                   Name    Location  Year  Kilometers_Driven  \\\n",
       "S.No.                                                                          \n",
       "0                Maruti Wagon R LXI CNG      Mumbai  2010              72000   \n",
       "1      Hyundai Creta 1.6 CRDi SX Option        Pune  2015              41000   \n",
       "2                          Honda Jazz V     Chennai  2011              46000   \n",
       "3                     Maruti Ertiga VDI     Chennai  2012              87000   \n",
       "4       Audi A4 New 2.0 TDI Multitronic  Coimbatore  2013              40670   \n",
       "\n",
       "      Fuel_Type Transmission Owner_Type  Mileage  Engine   Power  Seats  \\\n",
       "S.No.                                                                     \n",
       "0           CNG       Manual      First    26.60   998.0   58.16    5.0   \n",
       "1        Diesel       Manual      First    19.67  1582.0  126.20    5.0   \n",
       "2        Petrol       Manual      First    18.20  1199.0   88.70    5.0   \n",
       "3        Diesel       Manual      First    20.77  1248.0   88.76    7.0   \n",
       "4        Diesel    Automatic     Second    15.20  1968.0  140.80    5.0   \n",
       "\n",
       "       New_Price  Price  Car_Age    Brand   Model Mileage_Unit  \n",
       "S.No.                                                           \n",
       "0            NaN   1.75       13   Maruti   Wagon        km/kg  \n",
       "1            NaN  12.50        8  Hyundai   Creta         kmpl  \n",
       "2      8.61 Lakh   4.50       12    Honda    Jazz         kmpl  \n",
       "3            NaN   6.00       11   Maruti  Ertiga         kmpl  \n",
       "4            NaN  17.74       10     Audi      A4         kmpl  "
      ]
     },
     "execution_count": 32,
     "metadata": {},
     "output_type": "execute_result"
    }
   ],
   "source": [
    "# Converting power to float type for analysis as continuous distribution\n",
    "df[\"Power\"] = df[\"Power\"].astype(float)\n",
    "df.head()"
   ]
  },
  {
   "cell_type": "markdown",
   "id": "81d8a924-f1a0-4ed1-a373-9dd0e5ade3f0",
   "metadata": {},
   "source": [
    "### Extracting numeric value of \"New_Price\""
   ]
  },
  {
   "cell_type": "code",
   "execution_count": 33,
   "id": "3cc12ea7-8a7f-4ab2-abfb-aeb69dc8f73d",
   "metadata": {
    "tags": []
   },
   "outputs": [],
   "source": [
    "# replacing null with np.nan\n",
    "df[\"New_Price\"].replace(\"null\", np.nan, inplace=True)"
   ]
  },
  {
   "cell_type": "code",
   "execution_count": 34,
   "id": "a2cc7de0-d0ef-4a21-98fa-b6d93c88646b",
   "metadata": {
    "tags": []
   },
   "outputs": [
    {
     "data": {
      "text/html": [
       "<div>\n",
       "<style scoped>\n",
       "    .dataframe tbody tr th:only-of-type {\n",
       "        vertical-align: middle;\n",
       "    }\n",
       "\n",
       "    .dataframe tbody tr th {\n",
       "        vertical-align: top;\n",
       "    }\n",
       "\n",
       "    .dataframe thead th {\n",
       "        text-align: right;\n",
       "    }\n",
       "</style>\n",
       "<table border=\"1\" class=\"dataframe\">\n",
       "  <thead>\n",
       "    <tr style=\"text-align: right;\">\n",
       "      <th></th>\n",
       "      <th>Name</th>\n",
       "      <th>Location</th>\n",
       "      <th>Year</th>\n",
       "      <th>Kilometers_Driven</th>\n",
       "      <th>Fuel_Type</th>\n",
       "      <th>Transmission</th>\n",
       "      <th>Owner_Type</th>\n",
       "      <th>Mileage</th>\n",
       "      <th>Engine</th>\n",
       "      <th>Power</th>\n",
       "      <th>Seats</th>\n",
       "      <th>New_Price</th>\n",
       "      <th>Price</th>\n",
       "      <th>Car_Age</th>\n",
       "      <th>Brand</th>\n",
       "      <th>Model</th>\n",
       "      <th>Mileage_Unit</th>\n",
       "      <th>New_Price_Unit</th>\n",
       "    </tr>\n",
       "    <tr>\n",
       "      <th>S.No.</th>\n",
       "      <th></th>\n",
       "      <th></th>\n",
       "      <th></th>\n",
       "      <th></th>\n",
       "      <th></th>\n",
       "      <th></th>\n",
       "      <th></th>\n",
       "      <th></th>\n",
       "      <th></th>\n",
       "      <th></th>\n",
       "      <th></th>\n",
       "      <th></th>\n",
       "      <th></th>\n",
       "      <th></th>\n",
       "      <th></th>\n",
       "      <th></th>\n",
       "      <th></th>\n",
       "      <th></th>\n",
       "    </tr>\n",
       "  </thead>\n",
       "  <tbody>\n",
       "    <tr>\n",
       "      <th>0</th>\n",
       "      <td>Maruti Wagon R LXI CNG</td>\n",
       "      <td>Mumbai</td>\n",
       "      <td>2010</td>\n",
       "      <td>72000</td>\n",
       "      <td>CNG</td>\n",
       "      <td>Manual</td>\n",
       "      <td>First</td>\n",
       "      <td>26.60</td>\n",
       "      <td>998.0</td>\n",
       "      <td>58.16</td>\n",
       "      <td>5.0</td>\n",
       "      <td>NaN</td>\n",
       "      <td>1.75</td>\n",
       "      <td>13</td>\n",
       "      <td>Maruti</td>\n",
       "      <td>Wagon</td>\n",
       "      <td>km/kg</td>\n",
       "      <td>NaN</td>\n",
       "    </tr>\n",
       "    <tr>\n",
       "      <th>1</th>\n",
       "      <td>Hyundai Creta 1.6 CRDi SX Option</td>\n",
       "      <td>Pune</td>\n",
       "      <td>2015</td>\n",
       "      <td>41000</td>\n",
       "      <td>Diesel</td>\n",
       "      <td>Manual</td>\n",
       "      <td>First</td>\n",
       "      <td>19.67</td>\n",
       "      <td>1582.0</td>\n",
       "      <td>126.20</td>\n",
       "      <td>5.0</td>\n",
       "      <td>NaN</td>\n",
       "      <td>12.50</td>\n",
       "      <td>8</td>\n",
       "      <td>Hyundai</td>\n",
       "      <td>Creta</td>\n",
       "      <td>kmpl</td>\n",
       "      <td>NaN</td>\n",
       "    </tr>\n",
       "    <tr>\n",
       "      <th>2</th>\n",
       "      <td>Honda Jazz V</td>\n",
       "      <td>Chennai</td>\n",
       "      <td>2011</td>\n",
       "      <td>46000</td>\n",
       "      <td>Petrol</td>\n",
       "      <td>Manual</td>\n",
       "      <td>First</td>\n",
       "      <td>18.20</td>\n",
       "      <td>1199.0</td>\n",
       "      <td>88.70</td>\n",
       "      <td>5.0</td>\n",
       "      <td>8.61</td>\n",
       "      <td>4.50</td>\n",
       "      <td>12</td>\n",
       "      <td>Honda</td>\n",
       "      <td>Jazz</td>\n",
       "      <td>kmpl</td>\n",
       "      <td>Lakh</td>\n",
       "    </tr>\n",
       "    <tr>\n",
       "      <th>3</th>\n",
       "      <td>Maruti Ertiga VDI</td>\n",
       "      <td>Chennai</td>\n",
       "      <td>2012</td>\n",
       "      <td>87000</td>\n",
       "      <td>Diesel</td>\n",
       "      <td>Manual</td>\n",
       "      <td>First</td>\n",
       "      <td>20.77</td>\n",
       "      <td>1248.0</td>\n",
       "      <td>88.76</td>\n",
       "      <td>7.0</td>\n",
       "      <td>NaN</td>\n",
       "      <td>6.00</td>\n",
       "      <td>11</td>\n",
       "      <td>Maruti</td>\n",
       "      <td>Ertiga</td>\n",
       "      <td>kmpl</td>\n",
       "      <td>NaN</td>\n",
       "    </tr>\n",
       "    <tr>\n",
       "      <th>4</th>\n",
       "      <td>Audi A4 New 2.0 TDI Multitronic</td>\n",
       "      <td>Coimbatore</td>\n",
       "      <td>2013</td>\n",
       "      <td>40670</td>\n",
       "      <td>Diesel</td>\n",
       "      <td>Automatic</td>\n",
       "      <td>Second</td>\n",
       "      <td>15.20</td>\n",
       "      <td>1968.0</td>\n",
       "      <td>140.80</td>\n",
       "      <td>5.0</td>\n",
       "      <td>NaN</td>\n",
       "      <td>17.74</td>\n",
       "      <td>10</td>\n",
       "      <td>Audi</td>\n",
       "      <td>A4</td>\n",
       "      <td>kmpl</td>\n",
       "      <td>NaN</td>\n",
       "    </tr>\n",
       "  </tbody>\n",
       "</table>\n",
       "</div>"
      ],
      "text/plain": [
       "                                   Name    Location  Year  Kilometers_Driven  \\\n",
       "S.No.                                                                          \n",
       "0                Maruti Wagon R LXI CNG      Mumbai  2010              72000   \n",
       "1      Hyundai Creta 1.6 CRDi SX Option        Pune  2015              41000   \n",
       "2                          Honda Jazz V     Chennai  2011              46000   \n",
       "3                     Maruti Ertiga VDI     Chennai  2012              87000   \n",
       "4       Audi A4 New 2.0 TDI Multitronic  Coimbatore  2013              40670   \n",
       "\n",
       "      Fuel_Type Transmission Owner_Type  Mileage  Engine   Power  Seats  \\\n",
       "S.No.                                                                     \n",
       "0           CNG       Manual      First    26.60   998.0   58.16    5.0   \n",
       "1        Diesel       Manual      First    19.67  1582.0  126.20    5.0   \n",
       "2        Petrol       Manual      First    18.20  1199.0   88.70    5.0   \n",
       "3        Diesel       Manual      First    20.77  1248.0   88.76    7.0   \n",
       "4        Diesel    Automatic     Second    15.20  1968.0  140.80    5.0   \n",
       "\n",
       "       New_Price  Price  Car_Age    Brand   Model Mileage_Unit New_Price_Unit  \n",
       "S.No.                                                                          \n",
       "0            NaN   1.75       13   Maruti   Wagon        km/kg            NaN  \n",
       "1            NaN  12.50        8  Hyundai   Creta         kmpl            NaN  \n",
       "2           8.61   4.50       12    Honda    Jazz         kmpl           Lakh  \n",
       "3            NaN   6.00       11   Maruti  Ertiga         kmpl            NaN  \n",
       "4            NaN  17.74       10     Audi      A4         kmpl            NaN  "
      ]
     },
     "execution_count": 34,
     "metadata": {},
     "output_type": "execute_result"
    }
   ],
   "source": [
    "df[\"New_Price_Unit\"] = df[\"New_Price\"].str.split().str.get(1)\n",
    "df[\"New_Price\"] = df[\"New_Price\"].str.split().str.get(0)\n",
    "df[\"New_Price\"] = df[\"New_Price\"].astype(float)\n",
    "df.head()"
   ]
  },
  {
   "cell_type": "code",
   "execution_count": 35,
   "id": "ee45d198-80a7-4e08-b025-148a1f280632",
   "metadata": {
    "tags": []
   },
   "outputs": [
    {
     "name": "stdout",
     "output_type": "stream",
     "text": [
      "New_Price coulmn has [nan 'Lakh' 'Cr'] units\n"
     ]
    }
   ],
   "source": [
    "print(f'New_Price coulmn has {df[\"New_Price_Unit\"].unique()} units')"
   ]
  },
  {
   "cell_type": "markdown",
   "id": "2fd50220-c4d1-4fa0-bf01-b5729e2c5220",
   "metadata": {},
   "source": [
    "<a id='price-units'></a>\n",
    "__Units of New Price are in Lakh and Crore, hence converting all values to Lakhs to standardise units__ (Ignoring na)"
   ]
  },
  {
   "cell_type": "code",
   "execution_count": 36,
   "id": "b48d4bec-7bbe-4dfa-9241-7374a8687190",
   "metadata": {
    "tags": []
   },
   "outputs": [],
   "source": [
    "filt = (df[\"New_Price_Unit\"] == \"Cr\")\n",
    "df.loc[filt, \"New_Price\"] *=100"
   ]
  },
  {
   "cell_type": "markdown",
   "id": "119535cf-fceb-4e07-9bb1-eea180dbf5c1",
   "metadata": {},
   "source": [
    "__Dropping column \"New_Price\" since all values are now in Lakh__ (Ignoring na values)"
   ]
  },
  {
   "cell_type": "code",
   "execution_count": 37,
   "id": "652fdd79-e2b3-4e04-85c0-ad89f99d4ed1",
   "metadata": {
    "tags": []
   },
   "outputs": [
    {
     "data": {
      "text/html": [
       "<div>\n",
       "<style scoped>\n",
       "    .dataframe tbody tr th:only-of-type {\n",
       "        vertical-align: middle;\n",
       "    }\n",
       "\n",
       "    .dataframe tbody tr th {\n",
       "        vertical-align: top;\n",
       "    }\n",
       "\n",
       "    .dataframe thead th {\n",
       "        text-align: right;\n",
       "    }\n",
       "</style>\n",
       "<table border=\"1\" class=\"dataframe\">\n",
       "  <thead>\n",
       "    <tr style=\"text-align: right;\">\n",
       "      <th></th>\n",
       "      <th>Name</th>\n",
       "      <th>Location</th>\n",
       "      <th>Year</th>\n",
       "      <th>Kilometers_Driven</th>\n",
       "      <th>Fuel_Type</th>\n",
       "      <th>Transmission</th>\n",
       "      <th>Owner_Type</th>\n",
       "      <th>Mileage</th>\n",
       "      <th>Engine</th>\n",
       "      <th>Power</th>\n",
       "      <th>Seats</th>\n",
       "      <th>New_Price</th>\n",
       "      <th>Price</th>\n",
       "      <th>Car_Age</th>\n",
       "      <th>Brand</th>\n",
       "      <th>Model</th>\n",
       "      <th>Mileage_Unit</th>\n",
       "    </tr>\n",
       "    <tr>\n",
       "      <th>S.No.</th>\n",
       "      <th></th>\n",
       "      <th></th>\n",
       "      <th></th>\n",
       "      <th></th>\n",
       "      <th></th>\n",
       "      <th></th>\n",
       "      <th></th>\n",
       "      <th></th>\n",
       "      <th></th>\n",
       "      <th></th>\n",
       "      <th></th>\n",
       "      <th></th>\n",
       "      <th></th>\n",
       "      <th></th>\n",
       "      <th></th>\n",
       "      <th></th>\n",
       "      <th></th>\n",
       "    </tr>\n",
       "  </thead>\n",
       "  <tbody>\n",
       "    <tr>\n",
       "      <th>0</th>\n",
       "      <td>Maruti Wagon R LXI CNG</td>\n",
       "      <td>Mumbai</td>\n",
       "      <td>2010</td>\n",
       "      <td>72000</td>\n",
       "      <td>CNG</td>\n",
       "      <td>Manual</td>\n",
       "      <td>First</td>\n",
       "      <td>26.60</td>\n",
       "      <td>998.0</td>\n",
       "      <td>58.16</td>\n",
       "      <td>5.0</td>\n",
       "      <td>NaN</td>\n",
       "      <td>1.75</td>\n",
       "      <td>13</td>\n",
       "      <td>Maruti</td>\n",
       "      <td>Wagon</td>\n",
       "      <td>km/kg</td>\n",
       "    </tr>\n",
       "    <tr>\n",
       "      <th>1</th>\n",
       "      <td>Hyundai Creta 1.6 CRDi SX Option</td>\n",
       "      <td>Pune</td>\n",
       "      <td>2015</td>\n",
       "      <td>41000</td>\n",
       "      <td>Diesel</td>\n",
       "      <td>Manual</td>\n",
       "      <td>First</td>\n",
       "      <td>19.67</td>\n",
       "      <td>1582.0</td>\n",
       "      <td>126.20</td>\n",
       "      <td>5.0</td>\n",
       "      <td>NaN</td>\n",
       "      <td>12.50</td>\n",
       "      <td>8</td>\n",
       "      <td>Hyundai</td>\n",
       "      <td>Creta</td>\n",
       "      <td>kmpl</td>\n",
       "    </tr>\n",
       "    <tr>\n",
       "      <th>2</th>\n",
       "      <td>Honda Jazz V</td>\n",
       "      <td>Chennai</td>\n",
       "      <td>2011</td>\n",
       "      <td>46000</td>\n",
       "      <td>Petrol</td>\n",
       "      <td>Manual</td>\n",
       "      <td>First</td>\n",
       "      <td>18.20</td>\n",
       "      <td>1199.0</td>\n",
       "      <td>88.70</td>\n",
       "      <td>5.0</td>\n",
       "      <td>8.61</td>\n",
       "      <td>4.50</td>\n",
       "      <td>12</td>\n",
       "      <td>Honda</td>\n",
       "      <td>Jazz</td>\n",
       "      <td>kmpl</td>\n",
       "    </tr>\n",
       "    <tr>\n",
       "      <th>3</th>\n",
       "      <td>Maruti Ertiga VDI</td>\n",
       "      <td>Chennai</td>\n",
       "      <td>2012</td>\n",
       "      <td>87000</td>\n",
       "      <td>Diesel</td>\n",
       "      <td>Manual</td>\n",
       "      <td>First</td>\n",
       "      <td>20.77</td>\n",
       "      <td>1248.0</td>\n",
       "      <td>88.76</td>\n",
       "      <td>7.0</td>\n",
       "      <td>NaN</td>\n",
       "      <td>6.00</td>\n",
       "      <td>11</td>\n",
       "      <td>Maruti</td>\n",
       "      <td>Ertiga</td>\n",
       "      <td>kmpl</td>\n",
       "    </tr>\n",
       "  </tbody>\n",
       "</table>\n",
       "</div>"
      ],
      "text/plain": [
       "                                   Name Location  Year  Kilometers_Driven  \\\n",
       "S.No.                                                                       \n",
       "0                Maruti Wagon R LXI CNG   Mumbai  2010              72000   \n",
       "1      Hyundai Creta 1.6 CRDi SX Option     Pune  2015              41000   \n",
       "2                          Honda Jazz V  Chennai  2011              46000   \n",
       "3                     Maruti Ertiga VDI  Chennai  2012              87000   \n",
       "\n",
       "      Fuel_Type Transmission Owner_Type  Mileage  Engine   Power  Seats  \\\n",
       "S.No.                                                                     \n",
       "0           CNG       Manual      First    26.60   998.0   58.16    5.0   \n",
       "1        Diesel       Manual      First    19.67  1582.0  126.20    5.0   \n",
       "2        Petrol       Manual      First    18.20  1199.0   88.70    5.0   \n",
       "3        Diesel       Manual      First    20.77  1248.0   88.76    7.0   \n",
       "\n",
       "       New_Price  Price  Car_Age    Brand   Model Mileage_Unit  \n",
       "S.No.                                                           \n",
       "0            NaN   1.75       13   Maruti   Wagon        km/kg  \n",
       "1            NaN  12.50        8  Hyundai   Creta         kmpl  \n",
       "2           8.61   4.50       12    Honda    Jazz         kmpl  \n",
       "3            NaN   6.00       11   Maruti  Ertiga         kmpl  "
      ]
     },
     "execution_count": 37,
     "metadata": {},
     "output_type": "execute_result"
    }
   ],
   "source": [
    "df.drop(\"New_Price_Unit\", axis=\"columns\", inplace=True)\n",
    "df.head(n=4)"
   ]
  },
  {
   "cell_type": "markdown",
   "id": "ba846d0a-3fa0-427a-a102-4219f5e5f463",
   "metadata": {},
   "source": [
    "<a id='resale-price'></a>\n",
    "- __\"Price\" column refers to resale price of the car__<br>\n",
    "- Renaming the column accordingly<br>\n",
    "- Unit for resale price not given, assuming it is in lakh"
   ]
  },
  {
   "cell_type": "code",
   "execution_count": 38,
   "id": "f73d5f1a-d203-4940-81e5-b2ed4dca8d0c",
   "metadata": {
    "tags": []
   },
   "outputs": [
    {
     "data": {
      "text/html": [
       "<div>\n",
       "<style scoped>\n",
       "    .dataframe tbody tr th:only-of-type {\n",
       "        vertical-align: middle;\n",
       "    }\n",
       "\n",
       "    .dataframe tbody tr th {\n",
       "        vertical-align: top;\n",
       "    }\n",
       "\n",
       "    .dataframe thead th {\n",
       "        text-align: right;\n",
       "    }\n",
       "</style>\n",
       "<table border=\"1\" class=\"dataframe\">\n",
       "  <thead>\n",
       "    <tr style=\"text-align: right;\">\n",
       "      <th></th>\n",
       "      <th>Name</th>\n",
       "      <th>Location</th>\n",
       "      <th>Year</th>\n",
       "      <th>Kilometers_Driven</th>\n",
       "      <th>Fuel_Type</th>\n",
       "      <th>Transmission</th>\n",
       "      <th>Owner_Type</th>\n",
       "      <th>Mileage</th>\n",
       "      <th>Engine</th>\n",
       "      <th>Power</th>\n",
       "      <th>Seats</th>\n",
       "      <th>New_Price</th>\n",
       "      <th>Resale_Price</th>\n",
       "      <th>Car_Age</th>\n",
       "      <th>Brand</th>\n",
       "      <th>Model</th>\n",
       "      <th>Mileage_Unit</th>\n",
       "    </tr>\n",
       "    <tr>\n",
       "      <th>S.No.</th>\n",
       "      <th></th>\n",
       "      <th></th>\n",
       "      <th></th>\n",
       "      <th></th>\n",
       "      <th></th>\n",
       "      <th></th>\n",
       "      <th></th>\n",
       "      <th></th>\n",
       "      <th></th>\n",
       "      <th></th>\n",
       "      <th></th>\n",
       "      <th></th>\n",
       "      <th></th>\n",
       "      <th></th>\n",
       "      <th></th>\n",
       "      <th></th>\n",
       "      <th></th>\n",
       "    </tr>\n",
       "  </thead>\n",
       "  <tbody>\n",
       "    <tr>\n",
       "      <th>0</th>\n",
       "      <td>Maruti Wagon R LXI CNG</td>\n",
       "      <td>Mumbai</td>\n",
       "      <td>2010</td>\n",
       "      <td>72000</td>\n",
       "      <td>CNG</td>\n",
       "      <td>Manual</td>\n",
       "      <td>First</td>\n",
       "      <td>26.60</td>\n",
       "      <td>998.0</td>\n",
       "      <td>58.16</td>\n",
       "      <td>5.0</td>\n",
       "      <td>NaN</td>\n",
       "      <td>1.75</td>\n",
       "      <td>13</td>\n",
       "      <td>Maruti</td>\n",
       "      <td>Wagon</td>\n",
       "      <td>km/kg</td>\n",
       "    </tr>\n",
       "    <tr>\n",
       "      <th>1</th>\n",
       "      <td>Hyundai Creta 1.6 CRDi SX Option</td>\n",
       "      <td>Pune</td>\n",
       "      <td>2015</td>\n",
       "      <td>41000</td>\n",
       "      <td>Diesel</td>\n",
       "      <td>Manual</td>\n",
       "      <td>First</td>\n",
       "      <td>19.67</td>\n",
       "      <td>1582.0</td>\n",
       "      <td>126.20</td>\n",
       "      <td>5.0</td>\n",
       "      <td>NaN</td>\n",
       "      <td>12.50</td>\n",
       "      <td>8</td>\n",
       "      <td>Hyundai</td>\n",
       "      <td>Creta</td>\n",
       "      <td>kmpl</td>\n",
       "    </tr>\n",
       "    <tr>\n",
       "      <th>2</th>\n",
       "      <td>Honda Jazz V</td>\n",
       "      <td>Chennai</td>\n",
       "      <td>2011</td>\n",
       "      <td>46000</td>\n",
       "      <td>Petrol</td>\n",
       "      <td>Manual</td>\n",
       "      <td>First</td>\n",
       "      <td>18.20</td>\n",
       "      <td>1199.0</td>\n",
       "      <td>88.70</td>\n",
       "      <td>5.0</td>\n",
       "      <td>8.61</td>\n",
       "      <td>4.50</td>\n",
       "      <td>12</td>\n",
       "      <td>Honda</td>\n",
       "      <td>Jazz</td>\n",
       "      <td>kmpl</td>\n",
       "    </tr>\n",
       "    <tr>\n",
       "      <th>3</th>\n",
       "      <td>Maruti Ertiga VDI</td>\n",
       "      <td>Chennai</td>\n",
       "      <td>2012</td>\n",
       "      <td>87000</td>\n",
       "      <td>Diesel</td>\n",
       "      <td>Manual</td>\n",
       "      <td>First</td>\n",
       "      <td>20.77</td>\n",
       "      <td>1248.0</td>\n",
       "      <td>88.76</td>\n",
       "      <td>7.0</td>\n",
       "      <td>NaN</td>\n",
       "      <td>6.00</td>\n",
       "      <td>11</td>\n",
       "      <td>Maruti</td>\n",
       "      <td>Ertiga</td>\n",
       "      <td>kmpl</td>\n",
       "    </tr>\n",
       "  </tbody>\n",
       "</table>\n",
       "</div>"
      ],
      "text/plain": [
       "                                   Name Location  Year  Kilometers_Driven  \\\n",
       "S.No.                                                                       \n",
       "0                Maruti Wagon R LXI CNG   Mumbai  2010              72000   \n",
       "1      Hyundai Creta 1.6 CRDi SX Option     Pune  2015              41000   \n",
       "2                          Honda Jazz V  Chennai  2011              46000   \n",
       "3                     Maruti Ertiga VDI  Chennai  2012              87000   \n",
       "\n",
       "      Fuel_Type Transmission Owner_Type  Mileage  Engine   Power  Seats  \\\n",
       "S.No.                                                                     \n",
       "0           CNG       Manual      First    26.60   998.0   58.16    5.0   \n",
       "1        Diesel       Manual      First    19.67  1582.0  126.20    5.0   \n",
       "2        Petrol       Manual      First    18.20  1199.0   88.70    5.0   \n",
       "3        Diesel       Manual      First    20.77  1248.0   88.76    7.0   \n",
       "\n",
       "       New_Price  Resale_Price  Car_Age    Brand   Model Mileage_Unit  \n",
       "S.No.                                                                  \n",
       "0            NaN          1.75       13   Maruti   Wagon        km/kg  \n",
       "1            NaN         12.50        8  Hyundai   Creta         kmpl  \n",
       "2           8.61          4.50       12    Honda    Jazz         kmpl  \n",
       "3            NaN          6.00       11   Maruti  Ertiga         kmpl  "
      ]
     },
     "execution_count": 38,
     "metadata": {},
     "output_type": "execute_result"
    }
   ],
   "source": [
    "df.rename(columns={\"Price\":\"Resale_Price\"}, inplace=True)\n",
    "df.head(n=4)"
   ]
  },
  {
   "cell_type": "markdown",
   "id": "dc4e70c9-2d66-4c87-a458-1a52d439a6ce",
   "metadata": {},
   "source": [
    "### Separating Numerical and Categorical variables"
   ]
  },
  {
   "cell_type": "code",
   "execution_count": 39,
   "id": "162db714-7533-4d1e-bb57-cec633c332e5",
   "metadata": {
    "tags": []
   },
   "outputs": [
    {
     "name": "stdout",
     "output_type": "stream",
     "text": [
      "Categorical Variables: ['Name', 'Location', 'Fuel_Type', 'Transmission', 'Owner_Type', 'Brand', 'Model', 'Mileage_Unit']\n",
      "Numerical Variables: ['Year', 'Kilometers_Driven', 'Mileage', 'Engine', 'Power', 'Seats', 'New_Price', 'Resale_Price', 'Car_Age']\n"
     ]
    }
   ],
   "source": [
    "categorical_col_list = df.select_dtypes(include=[object]).columns.to_list()\n",
    "numerical_col_list = df.select_dtypes(include=[np.number]).columns.to_list()\n",
    "\n",
    "print(f\"Categorical Variables: {categorical_col_list}\")\n",
    "print(f\"Numerical Variables: {numerical_col_list}\")"
   ]
  },
  {
   "cell_type": "markdown",
   "id": "b374713b-9df5-4cd2-93c1-a22ef4ad956c",
   "metadata": {
    "tags": []
   },
   "source": [
    "### Imputing rows with Missing Values"
   ]
  },
  {
   "cell_type": "code",
   "execution_count": 40,
   "id": "5072b2a6-e3ee-4f59-8f93-1df5afa7a832",
   "metadata": {
    "tags": []
   },
   "outputs": [
    {
     "data": {
      "text/plain": [
       "Name                    0\n",
       "Location                0\n",
       "Year                    0\n",
       "Kilometers_Driven       0\n",
       "Fuel_Type               0\n",
       "Transmission            0\n",
       "Owner_Type              0\n",
       "Mileage                 2\n",
       "Engine                 46\n",
       "Power                 175\n",
       "Seats                  53\n",
       "New_Price            6247\n",
       "Resale_Price         1234\n",
       "Car_Age                 0\n",
       "Brand                   0\n",
       "Model                   0\n",
       "Mileage_Unit            2\n",
       "dtype: int64"
      ]
     },
     "execution_count": 40,
     "metadata": {},
     "output_type": "execute_result"
    }
   ],
   "source": [
    "df.isnull().sum()"
   ]
  },
  {
   "cell_type": "code",
   "execution_count": 41,
   "id": "14d64084-7613-4886-bae0-cd1e92d2ef6c",
   "metadata": {
    "tags": []
   },
   "outputs": [
    {
     "data": {
      "text/plain": [
       "Name                  0.00\n",
       "Location              0.00\n",
       "Year                  0.00\n",
       "Kilometers_Driven     0.00\n",
       "Fuel_Type             0.00\n",
       "Transmission          0.00\n",
       "Owner_Type            0.00\n",
       "Mileage               0.03\n",
       "Engine                0.63\n",
       "Power                 2.41\n",
       "Seats                 0.73\n",
       "New_Price            86.13\n",
       "Resale_Price         17.01\n",
       "Car_Age               0.00\n",
       "Brand                 0.00\n",
       "Model                 0.00\n",
       "Mileage_Unit          0.03\n",
       "dtype: float64"
      ]
     },
     "execution_count": 41,
     "metadata": {},
     "output_type": "execute_result"
    }
   ],
   "source": [
    "round(df.isnull().mean()*100,2)"
   ]
  },
  {
   "cell_type": "markdown",
   "id": "72c3a033-b0b4-4cde-8fd8-5fb9ef107676",
   "metadata": {},
   "source": [
    "#### Mileage"
   ]
  },
  {
   "cell_type": "code",
   "execution_count": 42,
   "id": "fa6ab5cb-80a6-4735-9537-4274bfeb1a6e",
   "metadata": {
    "tags": []
   },
   "outputs": [
    {
     "name": "stdout",
     "output_type": "stream",
     "text": [
      "Mileage has 2 null values\n"
     ]
    }
   ],
   "source": [
    "print(f\"Mileage has {df.loc[(df['Mileage'].isnull()),'Mileage'].isnull().sum()} null values\")"
   ]
  },
  {
   "cell_type": "code",
   "execution_count": 43,
   "id": "fbbecfc6-1385-4a87-b509-4e76e0761d68",
   "metadata": {
    "tags": []
   },
   "outputs": [
    {
     "data": {
      "text/html": [
       "<div>\n",
       "<style scoped>\n",
       "    .dataframe tbody tr th:only-of-type {\n",
       "        vertical-align: middle;\n",
       "    }\n",
       "\n",
       "    .dataframe tbody tr th {\n",
       "        vertical-align: top;\n",
       "    }\n",
       "\n",
       "    .dataframe thead th {\n",
       "        text-align: right;\n",
       "    }\n",
       "</style>\n",
       "<table border=\"1\" class=\"dataframe\">\n",
       "  <thead>\n",
       "    <tr style=\"text-align: right;\">\n",
       "      <th></th>\n",
       "      <th>Name</th>\n",
       "      <th>Location</th>\n",
       "      <th>Year</th>\n",
       "      <th>Kilometers_Driven</th>\n",
       "      <th>Fuel_Type</th>\n",
       "      <th>Transmission</th>\n",
       "      <th>Owner_Type</th>\n",
       "      <th>Mileage</th>\n",
       "      <th>Engine</th>\n",
       "      <th>Power</th>\n",
       "      <th>Seats</th>\n",
       "      <th>New_Price</th>\n",
       "      <th>Resale_Price</th>\n",
       "      <th>Car_Age</th>\n",
       "      <th>Brand</th>\n",
       "      <th>Model</th>\n",
       "      <th>Mileage_Unit</th>\n",
       "    </tr>\n",
       "    <tr>\n",
       "      <th>S.No.</th>\n",
       "      <th></th>\n",
       "      <th></th>\n",
       "      <th></th>\n",
       "      <th></th>\n",
       "      <th></th>\n",
       "      <th></th>\n",
       "      <th></th>\n",
       "      <th></th>\n",
       "      <th></th>\n",
       "      <th></th>\n",
       "      <th></th>\n",
       "      <th></th>\n",
       "      <th></th>\n",
       "      <th></th>\n",
       "      <th></th>\n",
       "      <th></th>\n",
       "      <th></th>\n",
       "    </tr>\n",
       "  </thead>\n",
       "  <tbody>\n",
       "  </tbody>\n",
       "</table>\n",
       "</div>"
      ],
      "text/plain": [
       "Empty DataFrame\n",
       "Columns: [Name, Location, Year, Kilometers_Driven, Fuel_Type, Transmission, Owner_Type, Mileage, Engine, Power, Seats, New_Price, Resale_Price, Car_Age, Brand, Model, Mileage_Unit]\n",
       "Index: []"
      ]
     },
     "execution_count": 43,
     "metadata": {},
     "output_type": "execute_result"
    }
   ],
   "source": [
    "# Assuming \"kmpl\" as common unit for mileage\n",
    "df[\"Mileage_Unit\"] = df[\"Mileage_Unit\"].fillna(\"kmpl\")\n",
    "df.loc[df[\"Mileage_Unit\"].isnull()]"
   ]
  },
  {
   "cell_type": "code",
   "execution_count": 44,
   "id": "936031cf-b12e-44a8-b4fc-0bc9cfcd6682",
   "metadata": {
    "tags": []
   },
   "outputs": [
    {
     "name": "stdout",
     "output_type": "stream",
     "text": [
      "count    7251.000000\n",
      "mean       18.141580\n",
      "std         4.562197\n",
      "min         0.000000\n",
      "25%        15.170000\n",
      "50%        18.160000\n",
      "75%        21.100000\n",
      "max        33.540000\n",
      "Name: Mileage, dtype: float64\n",
      "-0.4383205657235177\n"
     ]
    }
   ],
   "source": [
    "print(df[\"Mileage\"].describe())\n",
    "print(df[\"Mileage\"].skew())"
   ]
  },
  {
   "cell_type": "markdown",
   "id": "5536057c-d749-4c68-b2b6-a961ebeed37a",
   "metadata": {},
   "source": [
    "*__Mileage distribution is slightly left skewed, hence choosing Median as central tendency for imputation__*"
   ]
  },
  {
   "cell_type": "code",
   "execution_count": 45,
   "id": "f7e5645d-84a6-4f5c-b336-fc6f9d70794a",
   "metadata": {
    "tags": []
   },
   "outputs": [
    {
     "name": "stdout",
     "output_type": "stream",
     "text": [
      "Data has 2 rows with null values for Mileage\n"
     ]
    }
   ],
   "source": [
    "# using median at Brand and Model level granularity to impute\n",
    "medians = df.groupby([\"Brand\", \"Model\"])[\"Mileage\"].transform(\"median\")\n",
    "df[\"Mileage\"] = df[\"Mileage\"].fillna(medians)\n",
    "print(f\"Data has {df['Mileage'].isnull().sum()} rows with null values for Mileage\")"
   ]
  },
  {
   "cell_type": "code",
   "execution_count": 46,
   "id": "ab2ac137-e058-45cc-ad11-51c9222a457f",
   "metadata": {
    "tags": []
   },
   "outputs": [
    {
     "name": "stdout",
     "output_type": "stream",
     "text": [
      "Data has 2 rows with null values for Mileage\n"
     ]
    }
   ],
   "source": [
    "# using median at Fuel Type, Power and Engine Capacity level granularity to impute as they impact Mileage\n",
    "medians = df.groupby([\"Fuel_Type\", \"Power\", \"Engine\"])[\"Mileage\"].transform(\"median\")\n",
    "df[\"Mileage\"] = df[\"Mileage\"].fillna(medians)\n",
    "print(f\"Data has {df['Mileage'].isnull().sum()} rows with null values for Mileage\")"
   ]
  },
  {
   "cell_type": "code",
   "execution_count": 47,
   "id": "0af9ae70-262d-41d6-b27b-c7942ec80296",
   "metadata": {
    "tags": []
   },
   "outputs": [
    {
     "name": "stdout",
     "output_type": "stream",
     "text": [
      "Data has 1 rows with null values for Mileage\n"
     ]
    }
   ],
   "source": [
    "# Grouping by Brand, Transmission, Fuel_Type for imputing remaining values for Mileage\n",
    "medians = df.groupby([\"Brand\", \"Transmission\", \"Seats\"])[\"Mileage\"].transform(\"median\")\n",
    "df[\"Mileage\"] = df[\"Mileage\"].fillna(medians)\n",
    "print(f\"Data has {df['Mileage'].isnull().sum()} rows with null values for Mileage\")"
   ]
  },
  {
   "cell_type": "code",
   "execution_count": 48,
   "id": "222391fa-f36d-4d05-945c-db0e29695543",
   "metadata": {
    "tags": []
   },
   "outputs": [
    {
     "data": {
      "text/plain": [
       "Name                    0\n",
       "Location                0\n",
       "Year                    0\n",
       "Kilometers_Driven       0\n",
       "Fuel_Type               0\n",
       "Transmission            0\n",
       "Owner_Type              0\n",
       "Mileage                 1\n",
       "Engine                 46\n",
       "Power                 175\n",
       "Seats                  53\n",
       "New_Price            6247\n",
       "Resale_Price         1234\n",
       "Car_Age                 0\n",
       "Brand                   0\n",
       "Model                   0\n",
       "Mileage_Unit            0\n",
       "dtype: int64"
      ]
     },
     "execution_count": 48,
     "metadata": {},
     "output_type": "execute_result"
    }
   ],
   "source": [
    "df.isnull().sum()"
   ]
  },
  {
   "cell_type": "markdown",
   "id": "398464e8-6920-492d-91cb-11ee0c354135",
   "metadata": {},
   "source": [
    "#### Power"
   ]
  },
  {
   "cell_type": "code",
   "execution_count": 49,
   "id": "8a870973-7149-453c-b080-f9fc66ac61ab",
   "metadata": {
    "tags": []
   },
   "outputs": [
    {
     "name": "stdout",
     "output_type": "stream",
     "text": [
      "Power has 175 null values\n"
     ]
    }
   ],
   "source": [
    "print(f\"Power has {df['Power'].isnull().sum()} null values\")"
   ]
  },
  {
   "cell_type": "code",
   "execution_count": 50,
   "id": "63cd3469-4c5b-47a6-8c6d-0105ebc30ff2",
   "metadata": {
    "tags": []
   },
   "outputs": [
    {
     "name": "stdout",
     "output_type": "stream",
     "text": [
      "count    7078.000000\n",
      "mean      112.765214\n",
      "std        53.493553\n",
      "min        34.200000\n",
      "25%        75.000000\n",
      "50%        94.000000\n",
      "75%       138.100000\n",
      "max       616.000000\n",
      "Name: Power, dtype: float64\n",
      "1.9611776307277349\n"
     ]
    }
   ],
   "source": [
    "print(df[\"Power\"].describe())\n",
    "print(df[\"Power\"].skew())"
   ]
  },
  {
   "cell_type": "markdown",
   "id": "09e3d09d-f797-42e2-b61b-4822691348a2",
   "metadata": {},
   "source": [
    "*__Power distribution is moderately right skewed, hence choosing Median as central tendency for imputation__*"
   ]
  },
  {
   "cell_type": "code",
   "execution_count": 51,
   "id": "a89704c6-96b5-4d4c-83a9-4d2287917c6b",
   "metadata": {
    "tags": []
   },
   "outputs": [
    {
     "data": {
      "text/plain": [
       "Name\n",
       "Maruti Swift VDI BSIV                      12\n",
       "Toyota Etios GD                             8\n",
       "Maruti Swift 1.3 VXi                        8\n",
       "Toyota Etios Liva GD                        8\n",
       "Hyundai Santro Xing XL eRLX Euro III        7\n",
       "                                           ..\n",
       "Hyundai Santro Xing XO CNG                  1\n",
       "Maruti Wagon R Vx                           1\n",
       "Hyundai Santro GS                           1\n",
       "Hyundai Santro GS zipDrive - Euro II        1\n",
       "Hyundai Santro Xing XG AT eRLX Euro III     1\n",
       "Name: count, Length: 78, dtype: int64"
      ]
     },
     "execution_count": 51,
     "metadata": {},
     "output_type": "execute_result"
    }
   ],
   "source": [
    "df.loc[df[\"Power\"].isnull(), \"Name\"].value_counts()"
   ]
  },
  {
   "cell_type": "code",
   "execution_count": 52,
   "id": "727bbfa9-0e97-4019-adb5-27e05a0714d8",
   "metadata": {
    "tags": []
   },
   "outputs": [
    {
     "name": "stdout",
     "output_type": "stream",
     "text": [
      "Data has 162 rows with null values for Power\n"
     ]
    }
   ],
   "source": [
    "# using median at Name & Year level granularity to impute\n",
    "medians = df.groupby([\"Name\", \"Year\"])[\"Power\"].transform(\"median\")\n",
    "df[\"Power\"] = df[\"Power\"].fillna(medians)\n",
    "print(f\"Data has {df['Power'].isnull().sum()} rows with null values for Power\")"
   ]
  },
  {
   "cell_type": "code",
   "execution_count": 53,
   "id": "3ed2ae29-43e4-443e-a211-1abdfe31ead9",
   "metadata": {},
   "outputs": [
    {
     "name": "stdout",
     "output_type": "stream",
     "text": [
      "Data has 52 rows with null values for Power\n"
     ]
    }
   ],
   "source": [
    "# using median at Model & Year level granularity to impute\n",
    "medians = df.groupby([\"Model\", \"Year\"])[\"Power\"].transform(\"median\")\n",
    "df[\"Power\"] = df[\"Power\"].fillna(medians)\n",
    "print(f\"Data has {df['Power'].isnull().sum()} rows with null values for Power\")"
   ]
  },
  {
   "cell_type": "code",
   "execution_count": 54,
   "id": "dd79459e-97e5-4f7a-8988-235fc4fc2654",
   "metadata": {
    "tags": []
   },
   "outputs": [
    {
     "name": "stdout",
     "output_type": "stream",
     "text": [
      "Data has 12 rows with null values for Power\n"
     ]
    }
   ],
   "source": [
    "# using median at Brand & Model level granularity to impute\n",
    "median = df.groupby([\"Brand\", \"Model\"])[\"Power\"].transform(\"median\")\n",
    "df[\"Power\"] = df[\"Power\"].fillna(median)\n",
    "print(f\"Data has {df['Power'].isnull().sum()} rows with null values for Power\")"
   ]
  },
  {
   "cell_type": "code",
   "execution_count": 55,
   "id": "edd7702c-a99d-4518-a237-db8501afc03d",
   "metadata": {
    "tags": []
   },
   "outputs": [
    {
     "name": "stdout",
     "output_type": "stream",
     "text": [
      "Data has 7 rows with null values for Power\n"
     ]
    }
   ],
   "source": [
    "# using median at Fuel type, transmission & Engine level granularity to impute as they impact Power\n",
    "median = df.groupby([\"Fuel_Type\", \"Transmission\", \"Engine\"])[\"Power\"].transform(\"median\")\n",
    "df[\"Power\"] = df[\"Power\"].fillna(median)\n",
    "print(f\"Data has {df['Power'].isnull().sum()} rows with null values for Power\")"
   ]
  },
  {
   "cell_type": "code",
   "execution_count": 56,
   "id": "543e2fa1-8d30-427f-847e-0b76b79a77e5",
   "metadata": {
    "tags": []
   },
   "outputs": [
    {
     "data": {
      "text/plain": [
       "Name                    0\n",
       "Location                0\n",
       "Year                    0\n",
       "Kilometers_Driven       0\n",
       "Fuel_Type               0\n",
       "Transmission            0\n",
       "Owner_Type              0\n",
       "Mileage                 1\n",
       "Engine                 46\n",
       "Power                   7\n",
       "Seats                  53\n",
       "New_Price            6247\n",
       "Resale_Price         1234\n",
       "Car_Age                 0\n",
       "Brand                   0\n",
       "Model                   0\n",
       "Mileage_Unit            0\n",
       "dtype: int64"
      ]
     },
     "execution_count": 56,
     "metadata": {},
     "output_type": "execute_result"
    }
   ],
   "source": [
    "df.isnull().sum()"
   ]
  },
  {
   "cell_type": "markdown",
   "id": "27d0035e-3147-4464-9538-f36d5f5b69e6",
   "metadata": {},
   "source": [
    "#### Engine"
   ]
  },
  {
   "cell_type": "code",
   "execution_count": 57,
   "id": "f6456968-7580-44af-8151-d62ff40e6e1e",
   "metadata": {
    "tags": []
   },
   "outputs": [
    {
     "name": "stdout",
     "output_type": "stream",
     "text": [
      "Engine has 46 null values\n"
     ]
    }
   ],
   "source": [
    "print(f\"Engine has {df['Engine'].isnull().sum()} null values\")"
   ]
  },
  {
   "cell_type": "code",
   "execution_count": 58,
   "id": "3ad1a067-04c1-4123-9f45-e4e379544684",
   "metadata": {
    "tags": []
   },
   "outputs": [
    {
     "name": "stdout",
     "output_type": "stream",
     "text": [
      "count    7207.000000\n",
      "mean     1616.573470\n",
      "std       595.285137\n",
      "min        72.000000\n",
      "25%      1198.000000\n",
      "50%      1493.000000\n",
      "75%      1968.000000\n",
      "max      5998.000000\n",
      "Name: Engine, dtype: float64\n",
      "1.4124125381446186\n"
     ]
    }
   ],
   "source": [
    "print(df[\"Engine\"].describe())\n",
    "print(df[\"Engine\"].skew())"
   ]
  },
  {
   "cell_type": "markdown",
   "id": "11f99a3e-47b7-4830-9607-81e8cfcd8cbb",
   "metadata": {},
   "source": [
    "*__Engine distribution is moderately right skewed, hence choosing Median as central tendency for imputation__*"
   ]
  },
  {
   "cell_type": "code",
   "execution_count": 59,
   "id": "3ba04563-ecb0-4544-b680-25c46d6f887a",
   "metadata": {
    "tags": []
   },
   "outputs": [
    {
     "data": {
      "text/plain": [
       "Name                         Year\n",
       "BMW 5 Series 520d Sedan      2012    3\n",
       "Maruti Swift 1.3 VXi         2006    3\n",
       "Toyota Etios Liva V          2012    2\n",
       "Fiat Punto 1.4 Emotion       2010    2\n",
       "BMW 5 Series 520d Sedan      2009    2\n",
       "                                    ..\n",
       "Honda CR-V AT With Sun Roof  2013    1\n",
       "Fiat Punto 1.3 Emotion       2011    1\n",
       "Fiat Punto 1.2 Dynamic       2017    1\n",
       "BMW 5 Series 520d Sedan      2014    1\n",
       "Hyundai Santro Xing XG       2005    1\n",
       "Name: count, Length: 37, dtype: int64"
      ]
     },
     "execution_count": 59,
     "metadata": {},
     "output_type": "execute_result"
    }
   ],
   "source": [
    "df.loc[df[\"Engine\"].isnull(), [\"Name\", \"Year\"]].value_counts()"
   ]
  },
  {
   "cell_type": "code",
   "execution_count": 60,
   "id": "06e6379a-1ab3-4724-b3db-cd8406c0a7e8",
   "metadata": {
    "tags": []
   },
   "outputs": [
    {
     "name": "stdout",
     "output_type": "stream",
     "text": [
      "Data has 45 rows with null values for Engine\n"
     ]
    }
   ],
   "source": [
    "# using median at Name & Year level granularity to impute\n",
    "medians = df.groupby([\"Name\", \"Year\"])[\"Engine\"].transform(\"median\")\n",
    "df[\"Engine\"] = df[\"Engine\"].fillna(medians)\n",
    "print(f\"Data has {df['Engine'].isnull().sum()} rows with null values for Engine\")"
   ]
  },
  {
   "cell_type": "code",
   "execution_count": 61,
   "id": "bb18604b-5aef-4630-b307-c305a577765b",
   "metadata": {
    "tags": []
   },
   "outputs": [
    {
     "data": {
      "text/plain": [
       "Model    Year\n",
       "1        2013    1995.0\n",
       "         2015    1995.0\n",
       "1.4Gsi   2005    1389.0\n",
       "1000     1998     970.0\n",
       "3        2007    1995.0\n",
       "                  ...  \n",
       "i20      2018    1197.0\n",
       "         2019    1197.0\n",
       "redi-GO  2016     799.0\n",
       "         2017     799.0\n",
       "         2018     799.0\n",
       "Name: Engine, Length: 1223, dtype: float64"
      ]
     },
     "execution_count": 61,
     "metadata": {},
     "output_type": "execute_result"
    }
   ],
   "source": [
    "df.groupby([\"Model\", \"Year\"])[\"Engine\"].median()"
   ]
  },
  {
   "cell_type": "code",
   "execution_count": 62,
   "id": "641fe6e9-adaf-48c2-9294-9c13386e7b26",
   "metadata": {
    "tags": []
   },
   "outputs": [
    {
     "name": "stdout",
     "output_type": "stream",
     "text": [
      "Data has 7 rows with null values for Engine\n"
     ]
    }
   ],
   "source": [
    "# Engine capacity for a model remained broadly stable across release years, \n",
    "# hence imputing with median at granularity of Model and Year\n",
    "medians = df.groupby([\"Model\", \"Year\"])[\"Engine\"].transform(\"median\")\n",
    "df[\"Engine\"] = df[\"Engine\"].fillna(medians)\n",
    "print(f\"Data has {df['Engine'].isnull().sum()} rows with null values for Engine\")"
   ]
  },
  {
   "cell_type": "code",
   "execution_count": 63,
   "id": "87e0cae1-bc9c-4503-aedf-13fc7e323d9d",
   "metadata": {
    "tags": []
   },
   "outputs": [
    {
     "name": "stdout",
     "output_type": "stream",
     "text": [
      "Data has 0 rows with null values for Engine\n"
     ]
    }
   ],
   "source": [
    "# using median at Brand & Model level granularity to impute\n",
    "medians = df.groupby([\"Brand\", \"Model\"])[\"Engine\"].transform(\"median\")\n",
    "df[\"Engine\"] = df[\"Engine\"].fillna(medians)\n",
    "print(f\"Data has {df['Engine'].isnull().sum()} rows with null values for Engine\")"
   ]
  },
  {
   "cell_type": "code",
   "execution_count": 64,
   "id": "ac7b79be-6bbc-422f-8583-6a9d3c4c71e5",
   "metadata": {
    "tags": []
   },
   "outputs": [
    {
     "data": {
      "text/plain": [
       "Name                    0\n",
       "Location                0\n",
       "Year                    0\n",
       "Kilometers_Driven       0\n",
       "Fuel_Type               0\n",
       "Transmission            0\n",
       "Owner_Type              0\n",
       "Mileage                 1\n",
       "Engine                  0\n",
       "Power                   7\n",
       "Seats                  53\n",
       "New_Price            6247\n",
       "Resale_Price         1234\n",
       "Car_Age                 0\n",
       "Brand                   0\n",
       "Model                   0\n",
       "Mileage_Unit            0\n",
       "dtype: int64"
      ]
     },
     "execution_count": 64,
     "metadata": {},
     "output_type": "execute_result"
    }
   ],
   "source": [
    "df.isnull().sum()"
   ]
  },
  {
   "cell_type": "markdown",
   "id": "f8302c49-8ad7-4094-9af4-f9b61eac06cf",
   "metadata": {},
   "source": [
    "#### Seats"
   ]
  },
  {
   "cell_type": "code",
   "execution_count": 65,
   "id": "993ff98f-b629-4b29-8cd6-643823f586e3",
   "metadata": {
    "tags": []
   },
   "outputs": [
    {
     "name": "stdout",
     "output_type": "stream",
     "text": [
      "Seats has 53 null values\n"
     ]
    }
   ],
   "source": [
    "print(f\"Seats has {df['Seats'].isnull().sum()} null values\")"
   ]
  },
  {
   "cell_type": "code",
   "execution_count": 66,
   "id": "cd16f64f-aa37-4daa-9340-d62fe3b26726",
   "metadata": {
    "tags": []
   },
   "outputs": [
    {
     "name": "stdout",
     "output_type": "stream",
     "text": [
      "count    7200.000000\n",
      "mean        5.279722\n",
      "std         0.811660\n",
      "min         0.000000\n",
      "25%         5.000000\n",
      "50%         5.000000\n",
      "75%         5.000000\n",
      "max        10.000000\n",
      "Name: Seats, dtype: float64\n",
      "1.9022619640428065\n"
     ]
    }
   ],
   "source": [
    "print(df[\"Seats\"].describe())\n",
    "print(df[\"Seats\"].skew())"
   ]
  },
  {
   "cell_type": "markdown",
   "id": "89ccb3bd-de80-4307-9131-e633681a3a00",
   "metadata": {},
   "source": [
    "*__Seats distribution is moderately right skewed<br>\n",
    "For imputation we shall use median value since seats anyways can't be in decimals__*"
   ]
  },
  {
   "cell_type": "code",
   "execution_count": 67,
   "id": "cadc03f2-2976-474e-bb12-7e8ba2f464a9",
   "metadata": {
    "tags": []
   },
   "outputs": [
    {
     "data": {
      "text/html": [
       "<div>\n",
       "<style scoped>\n",
       "    .dataframe tbody tr th:only-of-type {\n",
       "        vertical-align: middle;\n",
       "    }\n",
       "\n",
       "    .dataframe tbody tr th {\n",
       "        vertical-align: top;\n",
       "    }\n",
       "\n",
       "    .dataframe thead th {\n",
       "        text-align: right;\n",
       "    }\n",
       "</style>\n",
       "<table border=\"1\" class=\"dataframe\">\n",
       "  <thead>\n",
       "    <tr style=\"text-align: right;\">\n",
       "      <th></th>\n",
       "      <th>Name</th>\n",
       "      <th>Location</th>\n",
       "      <th>Year</th>\n",
       "      <th>Kilometers_Driven</th>\n",
       "      <th>Fuel_Type</th>\n",
       "      <th>Transmission</th>\n",
       "      <th>Owner_Type</th>\n",
       "      <th>Mileage</th>\n",
       "      <th>Engine</th>\n",
       "      <th>Power</th>\n",
       "      <th>Seats</th>\n",
       "      <th>New_Price</th>\n",
       "      <th>Resale_Price</th>\n",
       "      <th>Car_Age</th>\n",
       "      <th>Brand</th>\n",
       "      <th>Model</th>\n",
       "      <th>Mileage_Unit</th>\n",
       "    </tr>\n",
       "    <tr>\n",
       "      <th>S.No.</th>\n",
       "      <th></th>\n",
       "      <th></th>\n",
       "      <th></th>\n",
       "      <th></th>\n",
       "      <th></th>\n",
       "      <th></th>\n",
       "      <th></th>\n",
       "      <th></th>\n",
       "      <th></th>\n",
       "      <th></th>\n",
       "      <th></th>\n",
       "      <th></th>\n",
       "      <th></th>\n",
       "      <th></th>\n",
       "      <th></th>\n",
       "      <th></th>\n",
       "      <th></th>\n",
       "    </tr>\n",
       "  </thead>\n",
       "  <tbody>\n",
       "    <tr>\n",
       "      <th>814</th>\n",
       "      <td>Toyota Qualis FS B2</td>\n",
       "      <td>Pune</td>\n",
       "      <td>2004</td>\n",
       "      <td>77757</td>\n",
       "      <td>Diesel</td>\n",
       "      <td>Manual</td>\n",
       "      <td>Second</td>\n",
       "      <td>13.10</td>\n",
       "      <td>2446.0</td>\n",
       "      <td>75.0</td>\n",
       "      <td>10.0</td>\n",
       "      <td>NaN</td>\n",
       "      <td>3.50</td>\n",
       "      <td>19</td>\n",
       "      <td>Toyota</td>\n",
       "      <td>Qualis</td>\n",
       "      <td>kmpl</td>\n",
       "    </tr>\n",
       "    <tr>\n",
       "      <th>917</th>\n",
       "      <td>Tata Sumo DX</td>\n",
       "      <td>Mumbai</td>\n",
       "      <td>2013</td>\n",
       "      <td>20000</td>\n",
       "      <td>Diesel</td>\n",
       "      <td>Manual</td>\n",
       "      <td>First</td>\n",
       "      <td>14.07</td>\n",
       "      <td>1978.0</td>\n",
       "      <td>83.1</td>\n",
       "      <td>10.0</td>\n",
       "      <td>NaN</td>\n",
       "      <td>5.25</td>\n",
       "      <td>10</td>\n",
       "      <td>Tata</td>\n",
       "      <td>Sumo</td>\n",
       "      <td>kmpl</td>\n",
       "    </tr>\n",
       "    <tr>\n",
       "      <th>1907</th>\n",
       "      <td>Toyota Qualis FS B3</td>\n",
       "      <td>Bangalore</td>\n",
       "      <td>2002</td>\n",
       "      <td>63000</td>\n",
       "      <td>Diesel</td>\n",
       "      <td>Manual</td>\n",
       "      <td>Third</td>\n",
       "      <td>13.10</td>\n",
       "      <td>2446.0</td>\n",
       "      <td>75.0</td>\n",
       "      <td>10.0</td>\n",
       "      <td>NaN</td>\n",
       "      <td>3.65</td>\n",
       "      <td>21</td>\n",
       "      <td>Toyota</td>\n",
       "      <td>Qualis</td>\n",
       "      <td>kmpl</td>\n",
       "    </tr>\n",
       "    <tr>\n",
       "      <th>2267</th>\n",
       "      <td>Toyota Qualis RS E2</td>\n",
       "      <td>Pune</td>\n",
       "      <td>2004</td>\n",
       "      <td>215750</td>\n",
       "      <td>Diesel</td>\n",
       "      <td>Manual</td>\n",
       "      <td>Second</td>\n",
       "      <td>0.00</td>\n",
       "      <td>2446.0</td>\n",
       "      <td>75.0</td>\n",
       "      <td>10.0</td>\n",
       "      <td>NaN</td>\n",
       "      <td>3.50</td>\n",
       "      <td>19</td>\n",
       "      <td>Toyota</td>\n",
       "      <td>Qualis</td>\n",
       "      <td>kmpl</td>\n",
       "    </tr>\n",
       "    <tr>\n",
       "      <th>2575</th>\n",
       "      <td>Chevrolet Tavera LS B3 10 Seats BSIII</td>\n",
       "      <td>Hyderabad</td>\n",
       "      <td>2015</td>\n",
       "      <td>120000</td>\n",
       "      <td>Diesel</td>\n",
       "      <td>Manual</td>\n",
       "      <td>First</td>\n",
       "      <td>14.80</td>\n",
       "      <td>2499.0</td>\n",
       "      <td>80.0</td>\n",
       "      <td>10.0</td>\n",
       "      <td>NaN</td>\n",
       "      <td>5.50</td>\n",
       "      <td>8</td>\n",
       "      <td>Chevrolet</td>\n",
       "      <td>Tavera</td>\n",
       "      <td>kmpl</td>\n",
       "    </tr>\n",
       "    <tr>\n",
       "      <th>6242</th>\n",
       "      <td>Tata Sumo EX 10/7 Str BSII</td>\n",
       "      <td>Chennai</td>\n",
       "      <td>2015</td>\n",
       "      <td>196000</td>\n",
       "      <td>Diesel</td>\n",
       "      <td>Manual</td>\n",
       "      <td>Second</td>\n",
       "      <td>12.20</td>\n",
       "      <td>1948.0</td>\n",
       "      <td>68.0</td>\n",
       "      <td>10.0</td>\n",
       "      <td>NaN</td>\n",
       "      <td>NaN</td>\n",
       "      <td>8</td>\n",
       "      <td>Tata</td>\n",
       "      <td>Sumo</td>\n",
       "      <td>kmpl</td>\n",
       "    </tr>\n",
       "    <tr>\n",
       "      <th>6288</th>\n",
       "      <td>Chevrolet Tavera LS B3 10 Seats BSIII</td>\n",
       "      <td>Hyderabad</td>\n",
       "      <td>2005</td>\n",
       "      <td>150000</td>\n",
       "      <td>Diesel</td>\n",
       "      <td>Manual</td>\n",
       "      <td>Second</td>\n",
       "      <td>14.80</td>\n",
       "      <td>2499.0</td>\n",
       "      <td>80.0</td>\n",
       "      <td>10.0</td>\n",
       "      <td>NaN</td>\n",
       "      <td>NaN</td>\n",
       "      <td>18</td>\n",
       "      <td>Chevrolet</td>\n",
       "      <td>Tavera</td>\n",
       "      <td>kmpl</td>\n",
       "    </tr>\n",
       "    <tr>\n",
       "      <th>6875</th>\n",
       "      <td>Toyota Qualis FS B3</td>\n",
       "      <td>Pune</td>\n",
       "      <td>2002</td>\n",
       "      <td>119613</td>\n",
       "      <td>Diesel</td>\n",
       "      <td>Manual</td>\n",
       "      <td>Second</td>\n",
       "      <td>13.10</td>\n",
       "      <td>2446.0</td>\n",
       "      <td>75.0</td>\n",
       "      <td>10.0</td>\n",
       "      <td>NaN</td>\n",
       "      <td>NaN</td>\n",
       "      <td>21</td>\n",
       "      <td>Toyota</td>\n",
       "      <td>Qualis</td>\n",
       "      <td>kmpl</td>\n",
       "    </tr>\n",
       "  </tbody>\n",
       "</table>\n",
       "</div>"
      ],
      "text/plain": [
       "                                        Name   Location  Year  \\\n",
       "S.No.                                                           \n",
       "814                      Toyota Qualis FS B2       Pune  2004   \n",
       "917                             Tata Sumo DX     Mumbai  2013   \n",
       "1907                     Toyota Qualis FS B3  Bangalore  2002   \n",
       "2267                     Toyota Qualis RS E2       Pune  2004   \n",
       "2575   Chevrolet Tavera LS B3 10 Seats BSIII  Hyderabad  2015   \n",
       "6242              Tata Sumo EX 10/7 Str BSII    Chennai  2015   \n",
       "6288   Chevrolet Tavera LS B3 10 Seats BSIII  Hyderabad  2005   \n",
       "6875                     Toyota Qualis FS B3       Pune  2002   \n",
       "\n",
       "       Kilometers_Driven Fuel_Type Transmission Owner_Type  Mileage  Engine  \\\n",
       "S.No.                                                                         \n",
       "814                77757    Diesel       Manual     Second    13.10  2446.0   \n",
       "917                20000    Diesel       Manual      First    14.07  1978.0   \n",
       "1907               63000    Diesel       Manual      Third    13.10  2446.0   \n",
       "2267              215750    Diesel       Manual     Second     0.00  2446.0   \n",
       "2575              120000    Diesel       Manual      First    14.80  2499.0   \n",
       "6242              196000    Diesel       Manual     Second    12.20  1948.0   \n",
       "6288              150000    Diesel       Manual     Second    14.80  2499.0   \n",
       "6875              119613    Diesel       Manual     Second    13.10  2446.0   \n",
       "\n",
       "       Power  Seats  New_Price  Resale_Price  Car_Age      Brand   Model  \\\n",
       "S.No.                                                                      \n",
       "814     75.0   10.0        NaN          3.50       19     Toyota  Qualis   \n",
       "917     83.1   10.0        NaN          5.25       10       Tata    Sumo   \n",
       "1907    75.0   10.0        NaN          3.65       21     Toyota  Qualis   \n",
       "2267    75.0   10.0        NaN          3.50       19     Toyota  Qualis   \n",
       "2575    80.0   10.0        NaN          5.50        8  Chevrolet  Tavera   \n",
       "6242    68.0   10.0        NaN           NaN        8       Tata    Sumo   \n",
       "6288    80.0   10.0        NaN           NaN       18  Chevrolet  Tavera   \n",
       "6875    75.0   10.0        NaN           NaN       21     Toyota  Qualis   \n",
       "\n",
       "      Mileage_Unit  \n",
       "S.No.               \n",
       "814           kmpl  \n",
       "917           kmpl  \n",
       "1907          kmpl  \n",
       "2267          kmpl  \n",
       "2575          kmpl  \n",
       "6242          kmpl  \n",
       "6288          kmpl  \n",
       "6875          kmpl  "
      ]
     },
     "execution_count": 67,
     "metadata": {},
     "output_type": "execute_result"
    }
   ],
   "source": [
    "df[df[\"Seats\"]==10]"
   ]
  },
  {
   "cell_type": "markdown",
   "id": "6fd8b76f-0907-4582-8327-c4970a3e1ad4",
   "metadata": {},
   "source": [
    "10 Seats, despite being a outlier, is not a data entry issue on account of specific high end SUVs support 10 seats <br>"
   ]
  },
  {
   "cell_type": "code",
   "execution_count": 68,
   "id": "43e617ef-4dd5-4799-b3c3-ec93303cbfae",
   "metadata": {
    "tags": []
   },
   "outputs": [
    {
     "name": "stdout",
     "output_type": "stream",
     "text": [
      "Data has 46 rows with null values for Seats\n"
     ]
    }
   ],
   "source": [
    "# using median at Name level granularity to impute\n",
    "medians = df.groupby([\"Name\"])[\"Seats\"].transform(\"median\")\n",
    "df[\"Seats\"] = df[\"Seats\"].fillna(medians)\n",
    "print(f\"Data has {df['Seats'].isnull().sum()} rows with null values for Seats\")"
   ]
  },
  {
   "cell_type": "code",
   "execution_count": 69,
   "id": "75f66bad-fdec-4109-b3f7-ac2f5aa148df",
   "metadata": {
    "tags": []
   },
   "outputs": [
    {
     "name": "stdout",
     "output_type": "stream",
     "text": [
      "Data has 3 rows with null values for Seats\n"
     ]
    }
   ],
   "source": [
    "# using median at Brand & Model level granularity to impute\n",
    "medians = df.groupby([\"Brand\", \"Model\"])[\"Seats\"].transform(\"median\")\n",
    "df[\"Seats\"] = df[\"Seats\"].fillna(medians)\n",
    "print(f\"Data has {df['Seats'].isnull().sum()} rows with null values for Seats\")"
   ]
  },
  {
   "cell_type": "code",
   "execution_count": 70,
   "id": "5dc8b053-f8be-4ae1-b768-b9c0394960bd",
   "metadata": {
    "tags": []
   },
   "outputs": [
    {
     "data": {
      "text/html": [
       "<div>\n",
       "<style scoped>\n",
       "    .dataframe tbody tr th:only-of-type {\n",
       "        vertical-align: middle;\n",
       "    }\n",
       "\n",
       "    .dataframe tbody tr th {\n",
       "        vertical-align: top;\n",
       "    }\n",
       "\n",
       "    .dataframe thead th {\n",
       "        text-align: right;\n",
       "    }\n",
       "</style>\n",
       "<table border=\"1\" class=\"dataframe\">\n",
       "  <thead>\n",
       "    <tr style=\"text-align: right;\">\n",
       "      <th></th>\n",
       "      <th>Name</th>\n",
       "      <th>Location</th>\n",
       "      <th>Year</th>\n",
       "      <th>Kilometers_Driven</th>\n",
       "      <th>Fuel_Type</th>\n",
       "      <th>Transmission</th>\n",
       "      <th>Owner_Type</th>\n",
       "      <th>Mileage</th>\n",
       "      <th>Engine</th>\n",
       "      <th>Power</th>\n",
       "      <th>Seats</th>\n",
       "      <th>New_Price</th>\n",
       "      <th>Resale_Price</th>\n",
       "      <th>Car_Age</th>\n",
       "      <th>Brand</th>\n",
       "      <th>Model</th>\n",
       "      <th>Mileage_Unit</th>\n",
       "    </tr>\n",
       "    <tr>\n",
       "      <th>S.No.</th>\n",
       "      <th></th>\n",
       "      <th></th>\n",
       "      <th></th>\n",
       "      <th></th>\n",
       "      <th></th>\n",
       "      <th></th>\n",
       "      <th></th>\n",
       "      <th></th>\n",
       "      <th></th>\n",
       "      <th></th>\n",
       "      <th></th>\n",
       "      <th></th>\n",
       "      <th></th>\n",
       "      <th></th>\n",
       "      <th></th>\n",
       "      <th></th>\n",
       "      <th></th>\n",
       "    </tr>\n",
       "  </thead>\n",
       "  <tbody>\n",
       "    <tr>\n",
       "      <th>2369</th>\n",
       "      <td>Maruti Estilo LXI</td>\n",
       "      <td>Chennai</td>\n",
       "      <td>2008</td>\n",
       "      <td>56000</td>\n",
       "      <td>Petrol</td>\n",
       "      <td>Manual</td>\n",
       "      <td>Second</td>\n",
       "      <td>19.5</td>\n",
       "      <td>1061.0</td>\n",
       "      <td>64.0</td>\n",
       "      <td>NaN</td>\n",
       "      <td>NaN</td>\n",
       "      <td>1.50</td>\n",
       "      <td>15</td>\n",
       "      <td>Maruti</td>\n",
       "      <td>Estilo</td>\n",
       "      <td>kmpl</td>\n",
       "    </tr>\n",
       "    <tr>\n",
       "      <th>3882</th>\n",
       "      <td>Maruti Estilo LXI</td>\n",
       "      <td>Kolkata</td>\n",
       "      <td>2010</td>\n",
       "      <td>40000</td>\n",
       "      <td>Petrol</td>\n",
       "      <td>Manual</td>\n",
       "      <td>Second</td>\n",
       "      <td>19.5</td>\n",
       "      <td>1061.0</td>\n",
       "      <td>64.0</td>\n",
       "      <td>NaN</td>\n",
       "      <td>NaN</td>\n",
       "      <td>2.50</td>\n",
       "      <td>13</td>\n",
       "      <td>Maruti</td>\n",
       "      <td>Estilo</td>\n",
       "      <td>kmpl</td>\n",
       "    </tr>\n",
       "    <tr>\n",
       "      <th>5893</th>\n",
       "      <td>Maruti Estilo LXI</td>\n",
       "      <td>Chennai</td>\n",
       "      <td>2008</td>\n",
       "      <td>51000</td>\n",
       "      <td>Petrol</td>\n",
       "      <td>Manual</td>\n",
       "      <td>Second</td>\n",
       "      <td>19.5</td>\n",
       "      <td>1061.0</td>\n",
       "      <td>64.0</td>\n",
       "      <td>NaN</td>\n",
       "      <td>NaN</td>\n",
       "      <td>1.75</td>\n",
       "      <td>15</td>\n",
       "      <td>Maruti</td>\n",
       "      <td>Estilo</td>\n",
       "      <td>kmpl</td>\n",
       "    </tr>\n",
       "  </tbody>\n",
       "</table>\n",
       "</div>"
      ],
      "text/plain": [
       "                    Name Location  Year  Kilometers_Driven Fuel_Type  \\\n",
       "S.No.                                                                  \n",
       "2369   Maruti Estilo LXI  Chennai  2008              56000    Petrol   \n",
       "3882   Maruti Estilo LXI  Kolkata  2010              40000    Petrol   \n",
       "5893   Maruti Estilo LXI  Chennai  2008              51000    Petrol   \n",
       "\n",
       "      Transmission Owner_Type  Mileage  Engine  Power  Seats  New_Price  \\\n",
       "S.No.                                                                     \n",
       "2369        Manual     Second     19.5  1061.0   64.0    NaN        NaN   \n",
       "3882        Manual     Second     19.5  1061.0   64.0    NaN        NaN   \n",
       "5893        Manual     Second     19.5  1061.0   64.0    NaN        NaN   \n",
       "\n",
       "       Resale_Price  Car_Age   Brand   Model Mileage_Unit  \n",
       "S.No.                                                      \n",
       "2369           1.50       15  Maruti  Estilo         kmpl  \n",
       "3882           2.50       13  Maruti  Estilo         kmpl  \n",
       "5893           1.75       15  Maruti  Estilo         kmpl  "
      ]
     },
     "execution_count": 70,
     "metadata": {},
     "output_type": "execute_result"
    }
   ],
   "source": [
    "df[df[\"Seats\"].isnull()]"
   ]
  },
  {
   "cell_type": "markdown",
   "id": "cc049a00-3dac-4ddd-9fac-0c9317962f3f",
   "metadata": {},
   "source": [
    "- All remaining null rows belong to Maruti Estilo <br>\n",
    "- By domain info we know that Maruti Estilo is 5 seater car; Imputing values accordingly"
   ]
  },
  {
   "cell_type": "code",
   "execution_count": 71,
   "id": "ed8d8a93-3da7-46b0-8bc6-afe416161852",
   "metadata": {
    "tags": []
   },
   "outputs": [
    {
     "name": "stdout",
     "output_type": "stream",
     "text": [
      "Data has 0 rows with null values for Seats\n"
     ]
    }
   ],
   "source": [
    "df[\"Seats\"] = df[\"Seats\"].fillna(5)\n",
    "print(f\"Data has {df['Seats'].isnull().sum()} rows with null values for Seats\")"
   ]
  },
  {
   "cell_type": "code",
   "execution_count": 72,
   "id": "a28e9fd4-71c8-4ea0-bef0-43bd449c23de",
   "metadata": {
    "tags": []
   },
   "outputs": [
    {
     "data": {
      "text/plain": [
       "Name                    0\n",
       "Location                0\n",
       "Year                    0\n",
       "Kilometers_Driven       0\n",
       "Fuel_Type               0\n",
       "Transmission            0\n",
       "Owner_Type              0\n",
       "Mileage                 1\n",
       "Engine                  0\n",
       "Power                   7\n",
       "Seats                   0\n",
       "New_Price            6247\n",
       "Resale_Price         1234\n",
       "Car_Age                 0\n",
       "Brand                   0\n",
       "Model                   0\n",
       "Mileage_Unit            0\n",
       "dtype: int64"
      ]
     },
     "execution_count": 72,
     "metadata": {},
     "output_type": "execute_result"
    }
   ],
   "source": [
    "df.isnull().sum()"
   ]
  },
  {
   "cell_type": "markdown",
   "id": "2705f175-0342-473a-83eb-2954e1c44055",
   "metadata": {},
   "source": [
    "#### New Price"
   ]
  },
  {
   "cell_type": "code",
   "execution_count": 73,
   "id": "10751a4b-4be6-4523-bedb-4c84ca6747f0",
   "metadata": {
    "tags": []
   },
   "outputs": [
    {
     "name": "stdout",
     "output_type": "stream",
     "text": [
      "New_Price column has 6247 null values\n"
     ]
    }
   ],
   "source": [
    "print(f\"New_Price column has {df['New_Price'].isnull().sum()} null values\")"
   ]
  },
  {
   "cell_type": "code",
   "execution_count": 74,
   "id": "17b4ad45-74e9-481b-93d2-6d4bc009d48a",
   "metadata": {
    "tags": []
   },
   "outputs": [
    {
     "name": "stdout",
     "output_type": "stream",
     "text": [
      "count    1006.000000\n",
      "mean       22.779692\n",
      "std        27.759344\n",
      "min         3.910000\n",
      "25%         7.885000\n",
      "50%        11.570000\n",
      "75%        26.042500\n",
      "max       375.000000\n",
      "Name: New_Price, dtype: float64\n",
      "4.128299677490268\n"
     ]
    }
   ],
   "source": [
    "print(df[\"New_Price\"].describe())\n",
    "print(df[\"New_Price\"].skew())"
   ]
  },
  {
   "cell_type": "markdown",
   "id": "393cdfe9-8030-4cde-a068-96a854404aee",
   "metadata": {},
   "source": [
    "*__New Price is heavily right skewed, probably because of an outlier; choosing Median as central tendency to impute*__"
   ]
  },
  {
   "cell_type": "code",
   "execution_count": 75,
   "id": "320ee2ac-9b9a-45b9-b510-ecee84e44b46",
   "metadata": {
    "tags": []
   },
   "outputs": [
    {
     "data": {
      "text/plain": [
       "Name                            Year\n",
       "Ambassador Classic Nova Diesel  2003      NaN\n",
       "Audi A3 35 TDI Attraction       2014      NaN\n",
       "Audi A3 35 TDI Premium          2016      NaN\n",
       "Audi A3 35 TDI Premium Plus     2015      NaN\n",
       "                                2016    42.89\n",
       "                                        ...  \n",
       "Volvo XC60 D5                   2015      NaN\n",
       "Volvo XC60 D5 Inscription       2014      NaN\n",
       "Volvo XC90 2007-2015 D5 AT AWD  2014      NaN\n",
       "Volvo XC90 2007-2015 D5 AWD     2014      NaN\n",
       "                                2016      NaN\n",
       "Name: New_Price, Length: 4354, dtype: float64"
      ]
     },
     "execution_count": 75,
     "metadata": {},
     "output_type": "execute_result"
    }
   ],
   "source": [
    "df.groupby([\"Name\", \"Year\"])[\"New_Price\"].median()"
   ]
  },
  {
   "cell_type": "code",
   "execution_count": 76,
   "id": "430d5a4e-d26e-422d-a003-cfde83214df3",
   "metadata": {
    "tags": []
   },
   "outputs": [
    {
     "name": "stdout",
     "output_type": "stream",
     "text": [
      "Data has 6139 rows with null values for New_Price\n"
     ]
    }
   ],
   "source": [
    "# using median at Name & Year level granularity to impute\n",
    "medians = df.groupby([\"Name\", \"Year\"])[\"New_Price\"].transform(\"median\")\n",
    "df[\"New_Price\"] = df[\"New_Price\"].fillna(medians)\n",
    "print(f\"Data has {df['New_Price'].isnull().sum()} rows with null values for New_Price\")"
   ]
  },
  {
   "cell_type": "code",
   "execution_count": 77,
   "id": "995e4570-03ec-4276-968e-e4b54a8880c8",
   "metadata": {
    "tags": []
   },
   "outputs": [
    {
     "name": "stdout",
     "output_type": "stream",
     "text": [
      "Data has 3647 rows with null values for New_Price\n"
     ]
    }
   ],
   "source": [
    "# using median at Brand, Model & Year level granularity to impute\n",
    "medians = df.groupby([\"Brand\", \"Model\", \"Year\"])[\"New_Price\"].transform(\"median\")\n",
    "df[\"New_Price\"] = df[\"New_Price\"].fillna(medians)\n",
    "print(f\"Data has {df['New_Price'].isnull().sum()} rows with null values for New_Price\")"
   ]
  },
  {
   "cell_type": "code",
   "execution_count": 78,
   "id": "ffab9f26-5ff2-4302-8b19-5d6b45ab72d5",
   "metadata": {
    "tags": []
   },
   "outputs": [
    {
     "name": "stdout",
     "output_type": "stream",
     "text": [
      "Data has 1512 rows with null values for New_Price\n"
     ]
    }
   ],
   "source": [
    "# using median at Brand, Model level granularity to impute\n",
    "medians = df.groupby([\"Brand\", \"Model\"])[\"New_Price\"].transform(\"median\")\n",
    "df[\"New_Price\"] = df[\"New_Price\"].fillna(medians)\n",
    "print(f\"Data has {df['New_Price'].isnull().sum()} rows with null values for New_Price\")"
   ]
  },
  {
   "cell_type": "code",
   "execution_count": 79,
   "id": "cd8f6709-901e-448f-bf2f-91341afb0259",
   "metadata": {
    "tags": []
   },
   "outputs": [
    {
     "name": "stdout",
     "output_type": "stream",
     "text": [
      "Data has 1512 rows with null values for New_Price\n"
     ]
    }
   ],
   "source": [
    "# using median at Model level granularity to impute\n",
    "median = df.groupby([\"Model\"])[\"New_Price\"].transform(\"median\")\n",
    "df[\"New_Price\"] = df[\"New_Price\"].fillna(medians)\n",
    "print(f\"Data has {df['New_Price'].isnull().sum()} rows with null values for New_Price\")"
   ]
  },
  {
   "cell_type": "code",
   "execution_count": 80,
   "id": "7438261f-6309-4aeb-a0c7-1de00d831b1b",
   "metadata": {
    "tags": []
   },
   "outputs": [
    {
     "name": "stdout",
     "output_type": "stream",
     "text": [
      "Data has 159 rows with null values for New_Price\n"
     ]
    }
   ],
   "source": [
    "# using medians at Model level granularity to impute\n",
    "medians = df.groupby([\"Brand\"])[\"New_Price\"].transform(\"median\")\n",
    "df[\"New_Price\"] = df[\"New_Price\"].fillna(medians)\n",
    "print(f\"Data has {df['New_Price'].isnull().sum()} rows with null values for New_Price\")"
   ]
  },
  {
   "cell_type": "code",
   "execution_count": 81,
   "id": "b489532b-8ca6-46b0-954b-f4ec289388fe",
   "metadata": {
    "tags": []
   },
   "outputs": [
    {
     "name": "stdout",
     "output_type": "stream",
     "text": [
      "[nan]\n",
      "[Chevrolet,Smart,Ambassador,Force,Lamborghini,Hindustan,OpelCorsa] have no non-null rows of New_price\"\n"
     ]
    }
   ],
   "source": [
    "missing_brand_list = df.loc[df[\"New_Price\"].isnull(), \"Brand\"].unique()\n",
    "print(df.loc[df[\"Brand\"].isin(missing_brand_list), \"New_Price\"].unique())\n",
    "print(f'[{\",\".join(missing_brand_list)}] have no non-null rows of New_price\"')"
   ]
  },
  {
   "cell_type": "code",
   "execution_count": 82,
   "id": "bad8ed9b-0f59-4f69-b1e8-92df0568d21c",
   "metadata": {
    "tags": []
   },
   "outputs": [
    {
     "name": "stdout",
     "output_type": "stream",
     "text": [
      "Data has 73 rows with null values for New_Price\n"
     ]
    }
   ],
   "source": [
    "# using means at Seats, Fuel_Type, Transmission & Engine level granularity to impute for these cars for closest approximation\n",
    "means = df.groupby([\"Seats\", \"Fuel_Type\", \"Transmission\", \"Engine\"])[\"New_Price\"].transform(\"mean\")\n",
    "df[\"New_Price\"] = df[\"New_Price\"].fillna(means)\n",
    "print(f\"Data has {df['New_Price'].isnull().sum()} rows with null values for New_Price\")"
   ]
  },
  {
   "cell_type": "code",
   "execution_count": 83,
   "id": "109f158d-ca56-42bf-9f14-49a98d54a149",
   "metadata": {
    "tags": []
   },
   "outputs": [
    {
     "data": {
      "text/html": [
       "<div>\n",
       "<style scoped>\n",
       "    .dataframe tbody tr th:only-of-type {\n",
       "        vertical-align: middle;\n",
       "    }\n",
       "\n",
       "    .dataframe tbody tr th {\n",
       "        vertical-align: top;\n",
       "    }\n",
       "\n",
       "    .dataframe thead th {\n",
       "        text-align: right;\n",
       "    }\n",
       "</style>\n",
       "<table border=\"1\" class=\"dataframe\">\n",
       "  <thead>\n",
       "    <tr style=\"text-align: right;\">\n",
       "      <th></th>\n",
       "      <th>Name</th>\n",
       "      <th>Location</th>\n",
       "      <th>Year</th>\n",
       "      <th>Kilometers_Driven</th>\n",
       "      <th>Fuel_Type</th>\n",
       "      <th>Transmission</th>\n",
       "      <th>Owner_Type</th>\n",
       "      <th>Mileage</th>\n",
       "      <th>Engine</th>\n",
       "      <th>Power</th>\n",
       "      <th>Seats</th>\n",
       "      <th>New_Price</th>\n",
       "      <th>Resale_Price</th>\n",
       "      <th>Car_Age</th>\n",
       "      <th>Brand</th>\n",
       "      <th>Model</th>\n",
       "      <th>Mileage_Unit</th>\n",
       "    </tr>\n",
       "    <tr>\n",
       "      <th>S.No.</th>\n",
       "      <th></th>\n",
       "      <th></th>\n",
       "      <th></th>\n",
       "      <th></th>\n",
       "      <th></th>\n",
       "      <th></th>\n",
       "      <th></th>\n",
       "      <th></th>\n",
       "      <th></th>\n",
       "      <th></th>\n",
       "      <th></th>\n",
       "      <th></th>\n",
       "      <th></th>\n",
       "      <th></th>\n",
       "      <th></th>\n",
       "      <th></th>\n",
       "      <th></th>\n",
       "    </tr>\n",
       "  </thead>\n",
       "  <tbody>\n",
       "    <tr>\n",
       "      <th>145</th>\n",
       "      <td>Chevrolet Beat LT Option</td>\n",
       "      <td>Pune</td>\n",
       "      <td>2014</td>\n",
       "      <td>38800</td>\n",
       "      <td>Petrol</td>\n",
       "      <td>Manual</td>\n",
       "      <td>First</td>\n",
       "      <td>18.60</td>\n",
       "      <td>1199.0</td>\n",
       "      <td>76.80</td>\n",
       "      <td>5.0</td>\n",
       "      <td>9.025429</td>\n",
       "      <td>2.85</td>\n",
       "      <td>9</td>\n",
       "      <td>Chevrolet</td>\n",
       "      <td>Beat</td>\n",
       "      <td>kmpl</td>\n",
       "    </tr>\n",
       "    <tr>\n",
       "      <th>179</th>\n",
       "      <td>Chevrolet Beat Diesel LT</td>\n",
       "      <td>Jaipur</td>\n",
       "      <td>2012</td>\n",
       "      <td>88000</td>\n",
       "      <td>Diesel</td>\n",
       "      <td>Manual</td>\n",
       "      <td>First</td>\n",
       "      <td>25.44</td>\n",
       "      <td>936.0</td>\n",
       "      <td>57.60</td>\n",
       "      <td>5.0</td>\n",
       "      <td>NaN</td>\n",
       "      <td>1.50</td>\n",
       "      <td>11</td>\n",
       "      <td>Chevrolet</td>\n",
       "      <td>Beat</td>\n",
       "      <td>kmpl</td>\n",
       "    </tr>\n",
       "    <tr>\n",
       "      <th>183</th>\n",
       "      <td>Chevrolet Optra Magnum 1.6 LS BS3</td>\n",
       "      <td>Jaipur</td>\n",
       "      <td>2007</td>\n",
       "      <td>118500</td>\n",
       "      <td>Petrol</td>\n",
       "      <td>Manual</td>\n",
       "      <td>First</td>\n",
       "      <td>12.90</td>\n",
       "      <td>1598.0</td>\n",
       "      <td>102.50</td>\n",
       "      <td>5.0</td>\n",
       "      <td>12.904839</td>\n",
       "      <td>1.25</td>\n",
       "      <td>16</td>\n",
       "      <td>Chevrolet</td>\n",
       "      <td>Optra</td>\n",
       "      <td>kmpl</td>\n",
       "    </tr>\n",
       "    <tr>\n",
       "      <th>231</th>\n",
       "      <td>Chevrolet Beat LT</td>\n",
       "      <td>Kochi</td>\n",
       "      <td>2016</td>\n",
       "      <td>60813</td>\n",
       "      <td>Petrol</td>\n",
       "      <td>Manual</td>\n",
       "      <td>Second</td>\n",
       "      <td>18.60</td>\n",
       "      <td>1199.0</td>\n",
       "      <td>76.80</td>\n",
       "      <td>5.0</td>\n",
       "      <td>9.025429</td>\n",
       "      <td>3.32</td>\n",
       "      <td>7</td>\n",
       "      <td>Chevrolet</td>\n",
       "      <td>Beat</td>\n",
       "      <td>kmpl</td>\n",
       "    </tr>\n",
       "    <tr>\n",
       "      <th>240</th>\n",
       "      <td>Chevrolet Beat Diesel LT</td>\n",
       "      <td>Mumbai</td>\n",
       "      <td>2013</td>\n",
       "      <td>74000</td>\n",
       "      <td>Diesel</td>\n",
       "      <td>Manual</td>\n",
       "      <td>First</td>\n",
       "      <td>25.44</td>\n",
       "      <td>936.0</td>\n",
       "      <td>57.60</td>\n",
       "      <td>5.0</td>\n",
       "      <td>NaN</td>\n",
       "      <td>2.65</td>\n",
       "      <td>10</td>\n",
       "      <td>Chevrolet</td>\n",
       "      <td>Beat</td>\n",
       "      <td>kmpl</td>\n",
       "    </tr>\n",
       "    <tr>\n",
       "      <th>...</th>\n",
       "      <td>...</td>\n",
       "      <td>...</td>\n",
       "      <td>...</td>\n",
       "      <td>...</td>\n",
       "      <td>...</td>\n",
       "      <td>...</td>\n",
       "      <td>...</td>\n",
       "      <td>...</td>\n",
       "      <td>...</td>\n",
       "      <td>...</td>\n",
       "      <td>...</td>\n",
       "      <td>...</td>\n",
       "      <td>...</td>\n",
       "      <td>...</td>\n",
       "      <td>...</td>\n",
       "      <td>...</td>\n",
       "      <td>...</td>\n",
       "    </tr>\n",
       "    <tr>\n",
       "      <th>7111</th>\n",
       "      <td>Chevrolet Enjoy Petrol LTZ 7 Seater</td>\n",
       "      <td>Mumbai</td>\n",
       "      <td>2013</td>\n",
       "      <td>39000</td>\n",
       "      <td>Petrol</td>\n",
       "      <td>Manual</td>\n",
       "      <td>First</td>\n",
       "      <td>13.70</td>\n",
       "      <td>1399.0</td>\n",
       "      <td>98.82</td>\n",
       "      <td>7.0</td>\n",
       "      <td>NaN</td>\n",
       "      <td>NaN</td>\n",
       "      <td>10</td>\n",
       "      <td>Chevrolet</td>\n",
       "      <td>Enjoy</td>\n",
       "      <td>kmpl</td>\n",
       "    </tr>\n",
       "    <tr>\n",
       "      <th>7136</th>\n",
       "      <td>Chevrolet Spark 1.0 PS</td>\n",
       "      <td>Jaipur</td>\n",
       "      <td>2010</td>\n",
       "      <td>6512</td>\n",
       "      <td>Petrol</td>\n",
       "      <td>Manual</td>\n",
       "      <td>First</td>\n",
       "      <td>16.00</td>\n",
       "      <td>995.0</td>\n",
       "      <td>63.00</td>\n",
       "      <td>5.0</td>\n",
       "      <td>NaN</td>\n",
       "      <td>NaN</td>\n",
       "      <td>13</td>\n",
       "      <td>Chevrolet</td>\n",
       "      <td>Spark</td>\n",
       "      <td>kmpl</td>\n",
       "    </tr>\n",
       "    <tr>\n",
       "      <th>7141</th>\n",
       "      <td>Chevrolet Enjoy 1.4 LTZ 8</td>\n",
       "      <td>Pune</td>\n",
       "      <td>2016</td>\n",
       "      <td>67000</td>\n",
       "      <td>Petrol</td>\n",
       "      <td>Manual</td>\n",
       "      <td>First</td>\n",
       "      <td>13.70</td>\n",
       "      <td>1399.0</td>\n",
       "      <td>98.79</td>\n",
       "      <td>8.0</td>\n",
       "      <td>NaN</td>\n",
       "      <td>NaN</td>\n",
       "      <td>7</td>\n",
       "      <td>Chevrolet</td>\n",
       "      <td>Enjoy</td>\n",
       "      <td>kmpl</td>\n",
       "    </tr>\n",
       "    <tr>\n",
       "      <th>7223</th>\n",
       "      <td>Chevrolet Captiva LT</td>\n",
       "      <td>Kochi</td>\n",
       "      <td>2011</td>\n",
       "      <td>99120</td>\n",
       "      <td>Diesel</td>\n",
       "      <td>Manual</td>\n",
       "      <td>First</td>\n",
       "      <td>11.50</td>\n",
       "      <td>1991.0</td>\n",
       "      <td>147.90</td>\n",
       "      <td>7.0</td>\n",
       "      <td>27.825000</td>\n",
       "      <td>NaN</td>\n",
       "      <td>12</td>\n",
       "      <td>Chevrolet</td>\n",
       "      <td>Captiva</td>\n",
       "      <td>kmpl</td>\n",
       "    </tr>\n",
       "    <tr>\n",
       "      <th>7244</th>\n",
       "      <td>Chevrolet Aveo 1.4 LS</td>\n",
       "      <td>Pune</td>\n",
       "      <td>2009</td>\n",
       "      <td>45463</td>\n",
       "      <td>Petrol</td>\n",
       "      <td>Manual</td>\n",
       "      <td>First</td>\n",
       "      <td>14.49</td>\n",
       "      <td>1399.0</td>\n",
       "      <td>92.70</td>\n",
       "      <td>5.0</td>\n",
       "      <td>11.470000</td>\n",
       "      <td>NaN</td>\n",
       "      <td>14</td>\n",
       "      <td>Chevrolet</td>\n",
       "      <td>Aveo</td>\n",
       "      <td>kmpl</td>\n",
       "    </tr>\n",
       "  </tbody>\n",
       "</table>\n",
       "<p>159 rows × 17 columns</p>\n",
       "</div>"
      ],
      "text/plain": [
       "                                      Name Location  Year  Kilometers_Driven  \\\n",
       "S.No.                                                                          \n",
       "145               Chevrolet Beat LT Option     Pune  2014              38800   \n",
       "179               Chevrolet Beat Diesel LT   Jaipur  2012              88000   \n",
       "183      Chevrolet Optra Magnum 1.6 LS BS3   Jaipur  2007             118500   \n",
       "231                      Chevrolet Beat LT    Kochi  2016              60813   \n",
       "240               Chevrolet Beat Diesel LT   Mumbai  2013              74000   \n",
       "...                                    ...      ...   ...                ...   \n",
       "7111   Chevrolet Enjoy Petrol LTZ 7 Seater   Mumbai  2013              39000   \n",
       "7136                Chevrolet Spark 1.0 PS   Jaipur  2010               6512   \n",
       "7141             Chevrolet Enjoy 1.4 LTZ 8     Pune  2016              67000   \n",
       "7223                  Chevrolet Captiva LT    Kochi  2011              99120   \n",
       "7244                 Chevrolet Aveo 1.4 LS     Pune  2009              45463   \n",
       "\n",
       "      Fuel_Type Transmission Owner_Type  Mileage  Engine   Power  Seats  \\\n",
       "S.No.                                                                     \n",
       "145      Petrol       Manual      First    18.60  1199.0   76.80    5.0   \n",
       "179      Diesel       Manual      First    25.44   936.0   57.60    5.0   \n",
       "183      Petrol       Manual      First    12.90  1598.0  102.50    5.0   \n",
       "231      Petrol       Manual     Second    18.60  1199.0   76.80    5.0   \n",
       "240      Diesel       Manual      First    25.44   936.0   57.60    5.0   \n",
       "...         ...          ...        ...      ...     ...     ...    ...   \n",
       "7111     Petrol       Manual      First    13.70  1399.0   98.82    7.0   \n",
       "7136     Petrol       Manual      First    16.00   995.0   63.00    5.0   \n",
       "7141     Petrol       Manual      First    13.70  1399.0   98.79    8.0   \n",
       "7223     Diesel       Manual      First    11.50  1991.0  147.90    7.0   \n",
       "7244     Petrol       Manual      First    14.49  1399.0   92.70    5.0   \n",
       "\n",
       "       New_Price  Resale_Price  Car_Age      Brand    Model Mileage_Unit  \n",
       "S.No.                                                                     \n",
       "145     9.025429          2.85        9  Chevrolet     Beat         kmpl  \n",
       "179          NaN          1.50       11  Chevrolet     Beat         kmpl  \n",
       "183    12.904839          1.25       16  Chevrolet    Optra         kmpl  \n",
       "231     9.025429          3.32        7  Chevrolet     Beat         kmpl  \n",
       "240          NaN          2.65       10  Chevrolet     Beat         kmpl  \n",
       "...          ...           ...      ...        ...      ...          ...  \n",
       "7111         NaN           NaN       10  Chevrolet    Enjoy         kmpl  \n",
       "7136         NaN           NaN       13  Chevrolet    Spark         kmpl  \n",
       "7141         NaN           NaN        7  Chevrolet    Enjoy         kmpl  \n",
       "7223   27.825000           NaN       12  Chevrolet  Captiva         kmpl  \n",
       "7244   11.470000           NaN       14  Chevrolet     Aveo         kmpl  \n",
       "\n",
       "[159 rows x 17 columns]"
      ]
     },
     "execution_count": 83,
     "metadata": {},
     "output_type": "execute_result"
    }
   ],
   "source": [
    "df.loc[df[\"Brand\"].isin(missing_brand_list)]"
   ]
  },
  {
   "cell_type": "code",
   "execution_count": 84,
   "id": "9f3c4977-cd59-4fb3-ba6c-1b4e002c18f3",
   "metadata": {
    "tags": []
   },
   "outputs": [
    {
     "data": {
      "text/plain": [
       "Name                    0\n",
       "Location                0\n",
       "Year                    0\n",
       "Kilometers_Driven       0\n",
       "Fuel_Type               0\n",
       "Transmission            0\n",
       "Owner_Type              0\n",
       "Mileage                 1\n",
       "Engine                  0\n",
       "Power                   7\n",
       "Seats                   0\n",
       "New_Price              73\n",
       "Resale_Price         1234\n",
       "Car_Age                 0\n",
       "Brand                   0\n",
       "Model                   0\n",
       "Mileage_Unit            0\n",
       "dtype: int64"
      ]
     },
     "execution_count": 84,
     "metadata": {},
     "output_type": "execute_result"
    }
   ],
   "source": [
    "df.isnull().sum()"
   ]
  },
  {
   "cell_type": "markdown",
   "id": "85db7146-dcf5-48e3-bd46-f754673f83df",
   "metadata": {},
   "source": [
    "### Dropping Remaining rows with null values"
   ]
  },
  {
   "cell_type": "markdown",
   "id": "3a53121c-c97d-48cb-bec6-2ad39fe2edb1",
   "metadata": {},
   "source": [
    "__Dropping remaining rows where mileage, power, new_price is null since they at max 1% null values__"
   ]
  },
  {
   "cell_type": "code",
   "execution_count": 85,
   "id": "a009fdc7-2126-4520-9fcf-37534c9bf463",
   "metadata": {
    "tags": []
   },
   "outputs": [
    {
     "data": {
      "text/html": [
       "<div>\n",
       "<style scoped>\n",
       "    .dataframe tbody tr th:only-of-type {\n",
       "        vertical-align: middle;\n",
       "    }\n",
       "\n",
       "    .dataframe tbody tr th {\n",
       "        vertical-align: top;\n",
       "    }\n",
       "\n",
       "    .dataframe thead th {\n",
       "        text-align: right;\n",
       "    }\n",
       "</style>\n",
       "<table border=\"1\" class=\"dataframe\">\n",
       "  <thead>\n",
       "    <tr style=\"text-align: right;\">\n",
       "      <th></th>\n",
       "      <th>Name</th>\n",
       "      <th>Location</th>\n",
       "      <th>Year</th>\n",
       "      <th>Kilometers_Driven</th>\n",
       "      <th>Fuel_Type</th>\n",
       "      <th>Transmission</th>\n",
       "      <th>Owner_Type</th>\n",
       "      <th>Mileage</th>\n",
       "      <th>Engine</th>\n",
       "      <th>Power</th>\n",
       "      <th>Seats</th>\n",
       "      <th>New_Price</th>\n",
       "      <th>Resale_Price</th>\n",
       "      <th>Car_Age</th>\n",
       "      <th>Brand</th>\n",
       "      <th>Model</th>\n",
       "      <th>Mileage_Unit</th>\n",
       "    </tr>\n",
       "    <tr>\n",
       "      <th>S.No.</th>\n",
       "      <th></th>\n",
       "      <th></th>\n",
       "      <th></th>\n",
       "      <th></th>\n",
       "      <th></th>\n",
       "      <th></th>\n",
       "      <th></th>\n",
       "      <th></th>\n",
       "      <th></th>\n",
       "      <th></th>\n",
       "      <th></th>\n",
       "      <th></th>\n",
       "      <th></th>\n",
       "      <th></th>\n",
       "      <th></th>\n",
       "      <th></th>\n",
       "      <th></th>\n",
       "    </tr>\n",
       "  </thead>\n",
       "  <tbody>\n",
       "    <tr>\n",
       "      <th>0</th>\n",
       "      <td>Maruti Wagon R LXI CNG</td>\n",
       "      <td>Mumbai</td>\n",
       "      <td>2010</td>\n",
       "      <td>72000</td>\n",
       "      <td>CNG</td>\n",
       "      <td>Manual</td>\n",
       "      <td>First</td>\n",
       "      <td>26.60</td>\n",
       "      <td>998.0</td>\n",
       "      <td>58.16</td>\n",
       "      <td>5.0</td>\n",
       "      <td>5.04</td>\n",
       "      <td>1.75</td>\n",
       "      <td>13</td>\n",
       "      <td>Maruti</td>\n",
       "      <td>Wagon</td>\n",
       "      <td>km/kg</td>\n",
       "    </tr>\n",
       "    <tr>\n",
       "      <th>1</th>\n",
       "      <td>Hyundai Creta 1.6 CRDi SX Option</td>\n",
       "      <td>Pune</td>\n",
       "      <td>2015</td>\n",
       "      <td>41000</td>\n",
       "      <td>Diesel</td>\n",
       "      <td>Manual</td>\n",
       "      <td>First</td>\n",
       "      <td>19.67</td>\n",
       "      <td>1582.0</td>\n",
       "      <td>126.20</td>\n",
       "      <td>5.0</td>\n",
       "      <td>18.32</td>\n",
       "      <td>12.50</td>\n",
       "      <td>8</td>\n",
       "      <td>Hyundai</td>\n",
       "      <td>Creta</td>\n",
       "      <td>kmpl</td>\n",
       "    </tr>\n",
       "    <tr>\n",
       "      <th>2</th>\n",
       "      <td>Honda Jazz V</td>\n",
       "      <td>Chennai</td>\n",
       "      <td>2011</td>\n",
       "      <td>46000</td>\n",
       "      <td>Petrol</td>\n",
       "      <td>Manual</td>\n",
       "      <td>First</td>\n",
       "      <td>18.20</td>\n",
       "      <td>1199.0</td>\n",
       "      <td>88.70</td>\n",
       "      <td>5.0</td>\n",
       "      <td>8.61</td>\n",
       "      <td>4.50</td>\n",
       "      <td>12</td>\n",
       "      <td>Honda</td>\n",
       "      <td>Jazz</td>\n",
       "      <td>kmpl</td>\n",
       "    </tr>\n",
       "    <tr>\n",
       "      <th>3</th>\n",
       "      <td>Maruti Ertiga VDI</td>\n",
       "      <td>Chennai</td>\n",
       "      <td>2012</td>\n",
       "      <td>87000</td>\n",
       "      <td>Diesel</td>\n",
       "      <td>Manual</td>\n",
       "      <td>First</td>\n",
       "      <td>20.77</td>\n",
       "      <td>1248.0</td>\n",
       "      <td>88.76</td>\n",
       "      <td>7.0</td>\n",
       "      <td>11.44</td>\n",
       "      <td>6.00</td>\n",
       "      <td>11</td>\n",
       "      <td>Maruti</td>\n",
       "      <td>Ertiga</td>\n",
       "      <td>kmpl</td>\n",
       "    </tr>\n",
       "    <tr>\n",
       "      <th>4</th>\n",
       "      <td>Audi A4 New 2.0 TDI Multitronic</td>\n",
       "      <td>Coimbatore</td>\n",
       "      <td>2013</td>\n",
       "      <td>40670</td>\n",
       "      <td>Diesel</td>\n",
       "      <td>Automatic</td>\n",
       "      <td>Second</td>\n",
       "      <td>15.20</td>\n",
       "      <td>1968.0</td>\n",
       "      <td>140.80</td>\n",
       "      <td>5.0</td>\n",
       "      <td>53.14</td>\n",
       "      <td>17.74</td>\n",
       "      <td>10</td>\n",
       "      <td>Audi</td>\n",
       "      <td>A4</td>\n",
       "      <td>kmpl</td>\n",
       "    </tr>\n",
       "  </tbody>\n",
       "</table>\n",
       "</div>"
      ],
      "text/plain": [
       "                                   Name    Location  Year  Kilometers_Driven  \\\n",
       "S.No.                                                                          \n",
       "0                Maruti Wagon R LXI CNG      Mumbai  2010              72000   \n",
       "1      Hyundai Creta 1.6 CRDi SX Option        Pune  2015              41000   \n",
       "2                          Honda Jazz V     Chennai  2011              46000   \n",
       "3                     Maruti Ertiga VDI     Chennai  2012              87000   \n",
       "4       Audi A4 New 2.0 TDI Multitronic  Coimbatore  2013              40670   \n",
       "\n",
       "      Fuel_Type Transmission Owner_Type  Mileage  Engine   Power  Seats  \\\n",
       "S.No.                                                                     \n",
       "0           CNG       Manual      First    26.60   998.0   58.16    5.0   \n",
       "1        Diesel       Manual      First    19.67  1582.0  126.20    5.0   \n",
       "2        Petrol       Manual      First    18.20  1199.0   88.70    5.0   \n",
       "3        Diesel       Manual      First    20.77  1248.0   88.76    7.0   \n",
       "4        Diesel    Automatic     Second    15.20  1968.0  140.80    5.0   \n",
       "\n",
       "       New_Price  Resale_Price  Car_Age    Brand   Model Mileage_Unit  \n",
       "S.No.                                                                  \n",
       "0           5.04          1.75       13   Maruti   Wagon        km/kg  \n",
       "1          18.32         12.50        8  Hyundai   Creta         kmpl  \n",
       "2           8.61          4.50       12    Honda    Jazz         kmpl  \n",
       "3          11.44          6.00       11   Maruti  Ertiga         kmpl  \n",
       "4          53.14         17.74       10     Audi      A4         kmpl  "
      ]
     },
     "execution_count": 85,
     "metadata": {},
     "output_type": "execute_result"
    }
   ],
   "source": [
    "df.dropna(subset=[\"Mileage\", \"Power\", \"New_Price\"], inplace=True)\n",
    "df.head()"
   ]
  },
  {
   "cell_type": "markdown",
   "id": "b8cd6b38-33f3-4f41-8d7f-18881200c22c",
   "metadata": {},
   "source": [
    "__Creating a dataframe with null values of Resale Price to be used as for test data__"
   ]
  },
  {
   "cell_type": "code",
   "execution_count": 86,
   "id": "c4e2c859-ec9e-405d-ab86-b2a92657b424",
   "metadata": {
    "tags": []
   },
   "outputs": [
    {
     "name": "stdout",
     "output_type": "stream",
     "text": [
      "(1220, 17)\n"
     ]
    },
    {
     "data": {
      "text/html": [
       "<div>\n",
       "<style scoped>\n",
       "    .dataframe tbody tr th:only-of-type {\n",
       "        vertical-align: middle;\n",
       "    }\n",
       "\n",
       "    .dataframe tbody tr th {\n",
       "        vertical-align: top;\n",
       "    }\n",
       "\n",
       "    .dataframe thead th {\n",
       "        text-align: right;\n",
       "    }\n",
       "</style>\n",
       "<table border=\"1\" class=\"dataframe\">\n",
       "  <thead>\n",
       "    <tr style=\"text-align: right;\">\n",
       "      <th></th>\n",
       "      <th>Name</th>\n",
       "      <th>Location</th>\n",
       "      <th>Year</th>\n",
       "      <th>Kilometers_Driven</th>\n",
       "      <th>Fuel_Type</th>\n",
       "      <th>Transmission</th>\n",
       "      <th>Owner_Type</th>\n",
       "      <th>Mileage</th>\n",
       "      <th>Engine</th>\n",
       "      <th>Power</th>\n",
       "      <th>Seats</th>\n",
       "      <th>New_Price</th>\n",
       "      <th>Resale_Price</th>\n",
       "      <th>Car_Age</th>\n",
       "      <th>Brand</th>\n",
       "      <th>Model</th>\n",
       "      <th>Mileage_Unit</th>\n",
       "    </tr>\n",
       "    <tr>\n",
       "      <th>S.No.</th>\n",
       "      <th></th>\n",
       "      <th></th>\n",
       "      <th></th>\n",
       "      <th></th>\n",
       "      <th></th>\n",
       "      <th></th>\n",
       "      <th></th>\n",
       "      <th></th>\n",
       "      <th></th>\n",
       "      <th></th>\n",
       "      <th></th>\n",
       "      <th></th>\n",
       "      <th></th>\n",
       "      <th></th>\n",
       "      <th></th>\n",
       "      <th></th>\n",
       "      <th></th>\n",
       "    </tr>\n",
       "  </thead>\n",
       "  <tbody>\n",
       "    <tr>\n",
       "      <th>6019</th>\n",
       "      <td>Maruti Alto K10 LXI CNG</td>\n",
       "      <td>Delhi</td>\n",
       "      <td>2014</td>\n",
       "      <td>40929</td>\n",
       "      <td>CNG</td>\n",
       "      <td>Manual</td>\n",
       "      <td>First</td>\n",
       "      <td>32.26</td>\n",
       "      <td>998.0</td>\n",
       "      <td>58.20</td>\n",
       "      <td>4.0</td>\n",
       "      <td>4.480</td>\n",
       "      <td>NaN</td>\n",
       "      <td>9</td>\n",
       "      <td>Maruti</td>\n",
       "      <td>Alto</td>\n",
       "      <td>km/kg</td>\n",
       "    </tr>\n",
       "    <tr>\n",
       "      <th>6020</th>\n",
       "      <td>Maruti Alto 800 2016-2019 LXI</td>\n",
       "      <td>Coimbatore</td>\n",
       "      <td>2013</td>\n",
       "      <td>54493</td>\n",
       "      <td>Petrol</td>\n",
       "      <td>Manual</td>\n",
       "      <td>Second</td>\n",
       "      <td>24.70</td>\n",
       "      <td>796.0</td>\n",
       "      <td>47.30</td>\n",
       "      <td>5.0</td>\n",
       "      <td>4.415</td>\n",
       "      <td>NaN</td>\n",
       "      <td>10</td>\n",
       "      <td>Maruti</td>\n",
       "      <td>Alto</td>\n",
       "      <td>kmpl</td>\n",
       "    </tr>\n",
       "    <tr>\n",
       "      <th>6021</th>\n",
       "      <td>Toyota Innova Crysta Touring Sport 2.4 MT</td>\n",
       "      <td>Mumbai</td>\n",
       "      <td>2017</td>\n",
       "      <td>34000</td>\n",
       "      <td>Diesel</td>\n",
       "      <td>Manual</td>\n",
       "      <td>First</td>\n",
       "      <td>13.68</td>\n",
       "      <td>2393.0</td>\n",
       "      <td>147.80</td>\n",
       "      <td>7.0</td>\n",
       "      <td>25.270</td>\n",
       "      <td>NaN</td>\n",
       "      <td>6</td>\n",
       "      <td>Toyota</td>\n",
       "      <td>Innova</td>\n",
       "      <td>kmpl</td>\n",
       "    </tr>\n",
       "    <tr>\n",
       "      <th>6022</th>\n",
       "      <td>Toyota Etios Liva GD</td>\n",
       "      <td>Hyderabad</td>\n",
       "      <td>2012</td>\n",
       "      <td>139000</td>\n",
       "      <td>Diesel</td>\n",
       "      <td>Manual</td>\n",
       "      <td>First</td>\n",
       "      <td>23.59</td>\n",
       "      <td>1364.0</td>\n",
       "      <td>88.70</td>\n",
       "      <td>5.0</td>\n",
       "      <td>7.830</td>\n",
       "      <td>NaN</td>\n",
       "      <td>11</td>\n",
       "      <td>Toyota</td>\n",
       "      <td>Etios</td>\n",
       "      <td>kmpl</td>\n",
       "    </tr>\n",
       "    <tr>\n",
       "      <th>6023</th>\n",
       "      <td>Hyundai i20 Magna</td>\n",
       "      <td>Mumbai</td>\n",
       "      <td>2014</td>\n",
       "      <td>29000</td>\n",
       "      <td>Petrol</td>\n",
       "      <td>Manual</td>\n",
       "      <td>First</td>\n",
       "      <td>18.50</td>\n",
       "      <td>1197.0</td>\n",
       "      <td>82.85</td>\n",
       "      <td>5.0</td>\n",
       "      <td>11.480</td>\n",
       "      <td>NaN</td>\n",
       "      <td>9</td>\n",
       "      <td>Hyundai</td>\n",
       "      <td>i20</td>\n",
       "      <td>kmpl</td>\n",
       "    </tr>\n",
       "  </tbody>\n",
       "</table>\n",
       "</div>"
      ],
      "text/plain": [
       "                                            Name    Location  Year  \\\n",
       "S.No.                                                                \n",
       "6019                     Maruti Alto K10 LXI CNG       Delhi  2014   \n",
       "6020               Maruti Alto 800 2016-2019 LXI  Coimbatore  2013   \n",
       "6021   Toyota Innova Crysta Touring Sport 2.4 MT      Mumbai  2017   \n",
       "6022                        Toyota Etios Liva GD   Hyderabad  2012   \n",
       "6023                           Hyundai i20 Magna      Mumbai  2014   \n",
       "\n",
       "       Kilometers_Driven Fuel_Type Transmission Owner_Type  Mileage  Engine  \\\n",
       "S.No.                                                                         \n",
       "6019               40929       CNG       Manual      First    32.26   998.0   \n",
       "6020               54493    Petrol       Manual     Second    24.70   796.0   \n",
       "6021               34000    Diesel       Manual      First    13.68  2393.0   \n",
       "6022              139000    Diesel       Manual      First    23.59  1364.0   \n",
       "6023               29000    Petrol       Manual      First    18.50  1197.0   \n",
       "\n",
       "        Power  Seats  New_Price  Resale_Price  Car_Age    Brand   Model  \\\n",
       "S.No.                                                                     \n",
       "6019    58.20    4.0      4.480           NaN        9   Maruti    Alto   \n",
       "6020    47.30    5.0      4.415           NaN       10   Maruti    Alto   \n",
       "6021   147.80    7.0     25.270           NaN        6   Toyota  Innova   \n",
       "6022    88.70    5.0      7.830           NaN       11   Toyota   Etios   \n",
       "6023    82.85    5.0     11.480           NaN        9  Hyundai     i20   \n",
       "\n",
       "      Mileage_Unit  \n",
       "S.No.               \n",
       "6019         km/kg  \n",
       "6020          kmpl  \n",
       "6021          kmpl  \n",
       "6022          kmpl  \n",
       "6023          kmpl  "
      ]
     },
     "execution_count": 86,
     "metadata": {},
     "output_type": "execute_result"
    }
   ],
   "source": [
    "df_test = df[df[\"Resale_Price\"].isnull()].copy()\n",
    "print(df_test.shape)\n",
    "df_test.head()"
   ]
  },
  {
   "cell_type": "markdown",
   "id": "6ff00a22-61dc-4e13-9e11-29cdcff65244",
   "metadata": {},
   "source": [
    "dropping null rows from original dataset"
   ]
  },
  {
   "cell_type": "code",
   "execution_count": 87,
   "id": "0898f02d-1746-45e0-b4c5-76cadd4c49a6",
   "metadata": {
    "tags": []
   },
   "outputs": [
    {
     "data": {
      "text/plain": [
       "Name                 0\n",
       "Location             0\n",
       "Year                 0\n",
       "Kilometers_Driven    0\n",
       "Fuel_Type            0\n",
       "Transmission         0\n",
       "Owner_Type           0\n",
       "Mileage              0\n",
       "Engine               0\n",
       "Power                0\n",
       "Seats                0\n",
       "New_Price            0\n",
       "Resale_Price         0\n",
       "Car_Age              0\n",
       "Brand                0\n",
       "Model                0\n",
       "Mileage_Unit         0\n",
       "dtype: int64"
      ]
     },
     "execution_count": 87,
     "metadata": {},
     "output_type": "execute_result"
    }
   ],
   "source": [
    "df.dropna(inplace=True)\n",
    "df.isnull().sum()"
   ]
  },
  {
   "cell_type": "code",
   "execution_count": 88,
   "id": "a62d0afa-e8ba-4bdd-b752-27a57011689c",
   "metadata": {
    "tags": []
   },
   "outputs": [
    {
     "name": "stdout",
     "output_type": "stream",
     "text": [
      "(5953, 17)\n",
      "(1220, 17)\n"
     ]
    }
   ],
   "source": [
    "print(df.shape)\n",
    "print(df_test.shape)"
   ]
  },
  {
   "cell_type": "markdown",
   "id": "0b219c56-b5be-4f11-8970-a3a2e72c7c22",
   "metadata": {},
   "source": [
    "# Exploratory Data Analysis (EDA)"
   ]
  },
  {
   "cell_type": "markdown",
   "id": "ca98fdcb-d79c-4bd8-b1cb-867aa194b5dd",
   "metadata": {},
   "source": [
    "## Statistics Summary"
   ]
  },
  {
   "cell_type": "code",
   "execution_count": 89,
   "id": "cd8d4673-05a3-403a-bcab-ec7c1b1f1cf6",
   "metadata": {
    "tags": []
   },
   "outputs": [
    {
     "data": {
      "text/html": [
       "<div>\n",
       "<style scoped>\n",
       "    .dataframe tbody tr th:only-of-type {\n",
       "        vertical-align: middle;\n",
       "    }\n",
       "\n",
       "    .dataframe tbody tr th {\n",
       "        vertical-align: top;\n",
       "    }\n",
       "\n",
       "    .dataframe thead th {\n",
       "        text-align: right;\n",
       "    }\n",
       "</style>\n",
       "<table border=\"1\" class=\"dataframe\">\n",
       "  <thead>\n",
       "    <tr style=\"text-align: right;\">\n",
       "      <th></th>\n",
       "      <th>count</th>\n",
       "      <th>mean</th>\n",
       "      <th>std</th>\n",
       "      <th>min</th>\n",
       "      <th>25%</th>\n",
       "      <th>50%</th>\n",
       "      <th>75%</th>\n",
       "      <th>max</th>\n",
       "    </tr>\n",
       "  </thead>\n",
       "  <tbody>\n",
       "    <tr>\n",
       "      <th>Year</th>\n",
       "      <td>5953.0</td>\n",
       "      <td>2013.384848</td>\n",
       "      <td>3.256283</td>\n",
       "      <td>1998.00</td>\n",
       "      <td>2011.000</td>\n",
       "      <td>2014.00</td>\n",
       "      <td>2016.00</td>\n",
       "      <td>2019.00</td>\n",
       "    </tr>\n",
       "    <tr>\n",
       "      <th>Kilometers_Driven</th>\n",
       "      <td>5953.0</td>\n",
       "      <td>58708.257685</td>\n",
       "      <td>91720.413074</td>\n",
       "      <td>171.00</td>\n",
       "      <td>33915.000</td>\n",
       "      <td>53000.00</td>\n",
       "      <td>72996.00</td>\n",
       "      <td>6500000.00</td>\n",
       "    </tr>\n",
       "    <tr>\n",
       "      <th>Mileage</th>\n",
       "      <td>5953.0</td>\n",
       "      <td>18.134037</td>\n",
       "      <td>4.558441</td>\n",
       "      <td>0.00</td>\n",
       "      <td>15.170</td>\n",
       "      <td>18.16</td>\n",
       "      <td>21.10</td>\n",
       "      <td>33.54</td>\n",
       "    </tr>\n",
       "    <tr>\n",
       "      <th>Engine</th>\n",
       "      <td>5953.0</td>\n",
       "      <td>1623.152108</td>\n",
       "      <td>597.952328</td>\n",
       "      <td>624.00</td>\n",
       "      <td>1198.000</td>\n",
       "      <td>1493.00</td>\n",
       "      <td>1984.00</td>\n",
       "      <td>5998.00</td>\n",
       "    </tr>\n",
       "    <tr>\n",
       "      <th>Power</th>\n",
       "      <td>5953.0</td>\n",
       "      <td>112.908853</td>\n",
       "      <td>53.471408</td>\n",
       "      <td>34.20</td>\n",
       "      <td>75.000</td>\n",
       "      <td>94.00</td>\n",
       "      <td>138.10</td>\n",
       "      <td>552.00</td>\n",
       "    </tr>\n",
       "    <tr>\n",
       "      <th>Seats</th>\n",
       "      <td>5953.0</td>\n",
       "      <td>5.276163</td>\n",
       "      <td>0.795230</td>\n",
       "      <td>0.00</td>\n",
       "      <td>5.000</td>\n",
       "      <td>5.00</td>\n",
       "      <td>5.00</td>\n",
       "      <td>10.00</td>\n",
       "    </tr>\n",
       "    <tr>\n",
       "      <th>New_Price</th>\n",
       "      <td>5953.0</td>\n",
       "      <td>21.598127</td>\n",
       "      <td>24.512768</td>\n",
       "      <td>3.91</td>\n",
       "      <td>8.005</td>\n",
       "      <td>11.48</td>\n",
       "      <td>23.37</td>\n",
       "      <td>375.00</td>\n",
       "    </tr>\n",
       "    <tr>\n",
       "      <th>Resale_Price</th>\n",
       "      <td>5953.0</td>\n",
       "      <td>9.518063</td>\n",
       "      <td>11.120480</td>\n",
       "      <td>0.44</td>\n",
       "      <td>3.500</td>\n",
       "      <td>5.68</td>\n",
       "      <td>10.00</td>\n",
       "      <td>160.00</td>\n",
       "    </tr>\n",
       "    <tr>\n",
       "      <th>Car_Age</th>\n",
       "      <td>5953.0</td>\n",
       "      <td>9.615152</td>\n",
       "      <td>3.256283</td>\n",
       "      <td>4.00</td>\n",
       "      <td>7.000</td>\n",
       "      <td>9.00</td>\n",
       "      <td>12.00</td>\n",
       "      <td>25.00</td>\n",
       "    </tr>\n",
       "  </tbody>\n",
       "</table>\n",
       "</div>"
      ],
      "text/plain": [
       "                    count          mean           std      min        25%  \\\n",
       "Year               5953.0   2013.384848      3.256283  1998.00   2011.000   \n",
       "Kilometers_Driven  5953.0  58708.257685  91720.413074   171.00  33915.000   \n",
       "Mileage            5953.0     18.134037      4.558441     0.00     15.170   \n",
       "Engine             5953.0   1623.152108    597.952328   624.00   1198.000   \n",
       "Power              5953.0    112.908853     53.471408    34.20     75.000   \n",
       "Seats              5953.0      5.276163      0.795230     0.00      5.000   \n",
       "New_Price          5953.0     21.598127     24.512768     3.91      8.005   \n",
       "Resale_Price       5953.0      9.518063     11.120480     0.44      3.500   \n",
       "Car_Age            5953.0      9.615152      3.256283     4.00      7.000   \n",
       "\n",
       "                        50%       75%         max  \n",
       "Year                2014.00   2016.00     2019.00  \n",
       "Kilometers_Driven  53000.00  72996.00  6500000.00  \n",
       "Mileage               18.16     21.10       33.54  \n",
       "Engine              1493.00   1984.00     5998.00  \n",
       "Power                 94.00    138.10      552.00  \n",
       "Seats                  5.00      5.00       10.00  \n",
       "New_Price             11.48     23.37      375.00  \n",
       "Resale_Price           5.68     10.00      160.00  \n",
       "Car_Age                9.00     12.00       25.00  "
      ]
     },
     "execution_count": 89,
     "metadata": {},
     "output_type": "execute_result"
    }
   ],
   "source": [
    "df.describe().T"
   ]
  },
  {
   "cell_type": "code",
   "execution_count": 90,
   "id": "3447df61-a578-41ef-b9f8-4a22126c7462",
   "metadata": {
    "tags": []
   },
   "outputs": [
    {
     "data": {
      "text/html": [
       "<div>\n",
       "<style scoped>\n",
       "    .dataframe tbody tr th:only-of-type {\n",
       "        vertical-align: middle;\n",
       "    }\n",
       "\n",
       "    .dataframe tbody tr th {\n",
       "        vertical-align: top;\n",
       "    }\n",
       "\n",
       "    .dataframe thead th {\n",
       "        text-align: right;\n",
       "    }\n",
       "</style>\n",
       "<table border=\"1\" class=\"dataframe\">\n",
       "  <thead>\n",
       "    <tr style=\"text-align: right;\">\n",
       "      <th></th>\n",
       "      <th>count</th>\n",
       "      <th>unique</th>\n",
       "      <th>top</th>\n",
       "      <th>freq</th>\n",
       "      <th>mean</th>\n",
       "      <th>std</th>\n",
       "      <th>min</th>\n",
       "      <th>25%</th>\n",
       "      <th>50%</th>\n",
       "      <th>75%</th>\n",
       "      <th>max</th>\n",
       "    </tr>\n",
       "  </thead>\n",
       "  <tbody>\n",
       "    <tr>\n",
       "      <th>Name</th>\n",
       "      <td>5953</td>\n",
       "      <td>1848</td>\n",
       "      <td>Mahindra XUV500 W8 2WD</td>\n",
       "      <td>49</td>\n",
       "      <td>NaN</td>\n",
       "      <td>NaN</td>\n",
       "      <td>NaN</td>\n",
       "      <td>NaN</td>\n",
       "      <td>NaN</td>\n",
       "      <td>NaN</td>\n",
       "      <td>NaN</td>\n",
       "    </tr>\n",
       "    <tr>\n",
       "      <th>Location</th>\n",
       "      <td>5953</td>\n",
       "      <td>11</td>\n",
       "      <td>Mumbai</td>\n",
       "      <td>786</td>\n",
       "      <td>NaN</td>\n",
       "      <td>NaN</td>\n",
       "      <td>NaN</td>\n",
       "      <td>NaN</td>\n",
       "      <td>NaN</td>\n",
       "      <td>NaN</td>\n",
       "      <td>NaN</td>\n",
       "    </tr>\n",
       "    <tr>\n",
       "      <th>Year</th>\n",
       "      <td>5953.0</td>\n",
       "      <td>NaN</td>\n",
       "      <td>NaN</td>\n",
       "      <td>NaN</td>\n",
       "      <td>2013.384848</td>\n",
       "      <td>3.256283</td>\n",
       "      <td>1998.0</td>\n",
       "      <td>2011.0</td>\n",
       "      <td>2014.0</td>\n",
       "      <td>2016.0</td>\n",
       "      <td>2019.0</td>\n",
       "    </tr>\n",
       "    <tr>\n",
       "      <th>Kilometers_Driven</th>\n",
       "      <td>5953.0</td>\n",
       "      <td>NaN</td>\n",
       "      <td>NaN</td>\n",
       "      <td>NaN</td>\n",
       "      <td>58708.257685</td>\n",
       "      <td>91720.413074</td>\n",
       "      <td>171.0</td>\n",
       "      <td>33915.0</td>\n",
       "      <td>53000.0</td>\n",
       "      <td>72996.0</td>\n",
       "      <td>6500000.0</td>\n",
       "    </tr>\n",
       "    <tr>\n",
       "      <th>Fuel_Type</th>\n",
       "      <td>5953</td>\n",
       "      <td>5</td>\n",
       "      <td>Diesel</td>\n",
       "      <td>3166</td>\n",
       "      <td>NaN</td>\n",
       "      <td>NaN</td>\n",
       "      <td>NaN</td>\n",
       "      <td>NaN</td>\n",
       "      <td>NaN</td>\n",
       "      <td>NaN</td>\n",
       "      <td>NaN</td>\n",
       "    </tr>\n",
       "    <tr>\n",
       "      <th>Transmission</th>\n",
       "      <td>5953</td>\n",
       "      <td>2</td>\n",
       "      <td>Manual</td>\n",
       "      <td>4242</td>\n",
       "      <td>NaN</td>\n",
       "      <td>NaN</td>\n",
       "      <td>NaN</td>\n",
       "      <td>NaN</td>\n",
       "      <td>NaN</td>\n",
       "      <td>NaN</td>\n",
       "      <td>NaN</td>\n",
       "    </tr>\n",
       "    <tr>\n",
       "      <th>Owner_Type</th>\n",
       "      <td>5953</td>\n",
       "      <td>4</td>\n",
       "      <td>First</td>\n",
       "      <td>4881</td>\n",
       "      <td>NaN</td>\n",
       "      <td>NaN</td>\n",
       "      <td>NaN</td>\n",
       "      <td>NaN</td>\n",
       "      <td>NaN</td>\n",
       "      <td>NaN</td>\n",
       "      <td>NaN</td>\n",
       "    </tr>\n",
       "    <tr>\n",
       "      <th>Mileage</th>\n",
       "      <td>5953.0</td>\n",
       "      <td>NaN</td>\n",
       "      <td>NaN</td>\n",
       "      <td>NaN</td>\n",
       "      <td>18.134037</td>\n",
       "      <td>4.558441</td>\n",
       "      <td>0.0</td>\n",
       "      <td>15.17</td>\n",
       "      <td>18.16</td>\n",
       "      <td>21.1</td>\n",
       "      <td>33.54</td>\n",
       "    </tr>\n",
       "    <tr>\n",
       "      <th>Engine</th>\n",
       "      <td>5953.0</td>\n",
       "      <td>NaN</td>\n",
       "      <td>NaN</td>\n",
       "      <td>NaN</td>\n",
       "      <td>1623.152108</td>\n",
       "      <td>597.952328</td>\n",
       "      <td>624.0</td>\n",
       "      <td>1198.0</td>\n",
       "      <td>1493.0</td>\n",
       "      <td>1984.0</td>\n",
       "      <td>5998.0</td>\n",
       "    </tr>\n",
       "    <tr>\n",
       "      <th>Power</th>\n",
       "      <td>5953.0</td>\n",
       "      <td>NaN</td>\n",
       "      <td>NaN</td>\n",
       "      <td>NaN</td>\n",
       "      <td>112.908853</td>\n",
       "      <td>53.471408</td>\n",
       "      <td>34.2</td>\n",
       "      <td>75.0</td>\n",
       "      <td>94.0</td>\n",
       "      <td>138.1</td>\n",
       "      <td>552.0</td>\n",
       "    </tr>\n",
       "    <tr>\n",
       "      <th>Seats</th>\n",
       "      <td>5953.0</td>\n",
       "      <td>NaN</td>\n",
       "      <td>NaN</td>\n",
       "      <td>NaN</td>\n",
       "      <td>5.276163</td>\n",
       "      <td>0.79523</td>\n",
       "      <td>0.0</td>\n",
       "      <td>5.0</td>\n",
       "      <td>5.0</td>\n",
       "      <td>5.0</td>\n",
       "      <td>10.0</td>\n",
       "    </tr>\n",
       "    <tr>\n",
       "      <th>New_Price</th>\n",
       "      <td>5953.0</td>\n",
       "      <td>NaN</td>\n",
       "      <td>NaN</td>\n",
       "      <td>NaN</td>\n",
       "      <td>21.598127</td>\n",
       "      <td>24.512768</td>\n",
       "      <td>3.91</td>\n",
       "      <td>8.005</td>\n",
       "      <td>11.48</td>\n",
       "      <td>23.37</td>\n",
       "      <td>375.0</td>\n",
       "    </tr>\n",
       "    <tr>\n",
       "      <th>Resale_Price</th>\n",
       "      <td>5953.0</td>\n",
       "      <td>NaN</td>\n",
       "      <td>NaN</td>\n",
       "      <td>NaN</td>\n",
       "      <td>9.518063</td>\n",
       "      <td>11.12048</td>\n",
       "      <td>0.44</td>\n",
       "      <td>3.5</td>\n",
       "      <td>5.68</td>\n",
       "      <td>10.0</td>\n",
       "      <td>160.0</td>\n",
       "    </tr>\n",
       "    <tr>\n",
       "      <th>Car_Age</th>\n",
       "      <td>5953.0</td>\n",
       "      <td>NaN</td>\n",
       "      <td>NaN</td>\n",
       "      <td>NaN</td>\n",
       "      <td>9.615152</td>\n",
       "      <td>3.256283</td>\n",
       "      <td>4.0</td>\n",
       "      <td>7.0</td>\n",
       "      <td>9.0</td>\n",
       "      <td>12.0</td>\n",
       "      <td>25.0</td>\n",
       "    </tr>\n",
       "    <tr>\n",
       "      <th>Brand</th>\n",
       "      <td>5953</td>\n",
       "      <td>26</td>\n",
       "      <td>Maruti</td>\n",
       "      <td>1210</td>\n",
       "      <td>NaN</td>\n",
       "      <td>NaN</td>\n",
       "      <td>NaN</td>\n",
       "      <td>NaN</td>\n",
       "      <td>NaN</td>\n",
       "      <td>NaN</td>\n",
       "      <td>NaN</td>\n",
       "    </tr>\n",
       "    <tr>\n",
       "      <th>Model</th>\n",
       "      <td>5953</td>\n",
       "      <td>202</td>\n",
       "      <td>Swift</td>\n",
       "      <td>353</td>\n",
       "      <td>NaN</td>\n",
       "      <td>NaN</td>\n",
       "      <td>NaN</td>\n",
       "      <td>NaN</td>\n",
       "      <td>NaN</td>\n",
       "      <td>NaN</td>\n",
       "      <td>NaN</td>\n",
       "    </tr>\n",
       "    <tr>\n",
       "      <th>Mileage_Unit</th>\n",
       "      <td>5953</td>\n",
       "      <td>2</td>\n",
       "      <td>kmpl</td>\n",
       "      <td>5887</td>\n",
       "      <td>NaN</td>\n",
       "      <td>NaN</td>\n",
       "      <td>NaN</td>\n",
       "      <td>NaN</td>\n",
       "      <td>NaN</td>\n",
       "      <td>NaN</td>\n",
       "      <td>NaN</td>\n",
       "    </tr>\n",
       "  </tbody>\n",
       "</table>\n",
       "</div>"
      ],
      "text/plain": [
       "                    count unique                     top  freq          mean  \\\n",
       "Name                 5953   1848  Mahindra XUV500 W8 2WD    49           NaN   \n",
       "Location             5953     11                  Mumbai   786           NaN   \n",
       "Year               5953.0    NaN                     NaN   NaN   2013.384848   \n",
       "Kilometers_Driven  5953.0    NaN                     NaN   NaN  58708.257685   \n",
       "Fuel_Type            5953      5                  Diesel  3166           NaN   \n",
       "Transmission         5953      2                  Manual  4242           NaN   \n",
       "Owner_Type           5953      4                   First  4881           NaN   \n",
       "Mileage            5953.0    NaN                     NaN   NaN     18.134037   \n",
       "Engine             5953.0    NaN                     NaN   NaN   1623.152108   \n",
       "Power              5953.0    NaN                     NaN   NaN    112.908853   \n",
       "Seats              5953.0    NaN                     NaN   NaN      5.276163   \n",
       "New_Price          5953.0    NaN                     NaN   NaN     21.598127   \n",
       "Resale_Price       5953.0    NaN                     NaN   NaN      9.518063   \n",
       "Car_Age            5953.0    NaN                     NaN   NaN      9.615152   \n",
       "Brand                5953     26                  Maruti  1210           NaN   \n",
       "Model                5953    202                   Swift   353           NaN   \n",
       "Mileage_Unit         5953      2                    kmpl  5887           NaN   \n",
       "\n",
       "                            std     min      25%      50%      75%        max  \n",
       "Name                        NaN     NaN      NaN      NaN      NaN        NaN  \n",
       "Location                    NaN     NaN      NaN      NaN      NaN        NaN  \n",
       "Year                   3.256283  1998.0   2011.0   2014.0   2016.0     2019.0  \n",
       "Kilometers_Driven  91720.413074   171.0  33915.0  53000.0  72996.0  6500000.0  \n",
       "Fuel_Type                   NaN     NaN      NaN      NaN      NaN        NaN  \n",
       "Transmission                NaN     NaN      NaN      NaN      NaN        NaN  \n",
       "Owner_Type                  NaN     NaN      NaN      NaN      NaN        NaN  \n",
       "Mileage                4.558441     0.0    15.17    18.16     21.1      33.54  \n",
       "Engine               597.952328   624.0   1198.0   1493.0   1984.0     5998.0  \n",
       "Power                 53.471408    34.2     75.0     94.0    138.1      552.0  \n",
       "Seats                   0.79523     0.0      5.0      5.0      5.0       10.0  \n",
       "New_Price             24.512768    3.91    8.005    11.48    23.37      375.0  \n",
       "Resale_Price           11.12048    0.44      3.5     5.68     10.0      160.0  \n",
       "Car_Age                3.256283     4.0      7.0      9.0     12.0       25.0  \n",
       "Brand                       NaN     NaN      NaN      NaN      NaN        NaN  \n",
       "Model                       NaN     NaN      NaN      NaN      NaN        NaN  \n",
       "Mileage_Unit                NaN     NaN      NaN      NaN      NaN        NaN  "
      ]
     },
     "execution_count": 90,
     "metadata": {},
     "output_type": "execute_result"
    }
   ],
   "source": [
    "df.describe(include=\"all\").T"
   ]
  },
  {
   "cell_type": "markdown",
   "id": "04ff63cb-3b50-407a-8a3f-ce23205cd08f",
   "metadata": {},
   "source": [
    "<a id=\"summary-stats\"></a>\n",
    "__Key Information from Summary Stats__\n",
    "- __Year:__ Dataset contains mdoels from __1996-2019__ i.e. ranging over 23 years\n",
    "  - 75% of the used cars sold are models post 2011 (25 percentile is 2011)\n",
    "- __Km-driven:__ 75% of used cars are driven below 73,000 km\n",
    "  -  Avg km-driven of used cars is 58,700 km\n",
    "  - maximum km-driven is 65lakh km, suggesting it is an outlier i.e. could be removed before predictive modelling: <span style='color:red'>needs more validation</span>\n",
    "- __Mileage:__ On an average Mileage of used cars is 18 kmpl\n",
    "  - mileage comprises of both kmpl and km/kg\n",
    "  - for the sake of analysis will treat both as same since number of rows of km/kg is very less [Mileage Units](#mileage-units)\n",
    "  - Min value is 0, needs validation for probable data-entry issue or outlier for removal\n",
    "- __Engine capacity:__ Engine capcity(in CC - [Engine Unit](#engine-units)) averages around 1616 cc\n",
    "  - Max engine capcity at 5998 CC appears to be an outlier, <span style='color:red'>needs more validation</span>\n",
    "- __Power:__ Power (in bhp) averages around 113 bhp\n",
    "  - Similar to Engine capacity, the max value of 616 bhp suggests outlier, <span style='color:red'>needs more validation</span>\n",
    "- __New Price:__ Original price of used car averages around 22 lakhs [Price Units](#price-units)\n",
    "  - 75% of cars have original price below 26 lakh\n",
    "  - Probable outlier with original price of 3.75Cr (375 lakh)\n",
    "  - Note that over 86% entries do not have original price [Missing Values Info](#missing-values)\n",
    "- __Resale Price:__ Resale price of used car averages around 11 lakhs [Price Units](#resale-price)\n",
    "  - 75% of cars have resale price below 10 lakh\n",
    "  - Probable outlier with resale price of 1.6Cr (160 lakh)\n",
    "  - Note 17% cars do not have a resale price [Missing Values Info](#missing-values)\n",
    "- __Car Age:__ Avg age of cars is ~9.5 years\n",
    "  - 50% used cars are between 7-12 years of age\n",
    "  - few outliers since max Age of used car at 27 years; <span style='color:red'>needs more validation</span>"
   ]
  },
  {
   "cell_type": "markdown",
   "id": "0786e65c-4f22-438e-96e6-8be0b5244cc9",
   "metadata": {},
   "source": [
    "## Univariate Analysis - One step at a time"
   ]
  },
  {
   "cell_type": "code",
   "execution_count": 91,
   "id": "98e8e9b4-be72-407c-8b7c-0f8c6d53ecb9",
   "metadata": {
    "tags": []
   },
   "outputs": [],
   "source": [
    "# Creating directory to save plots\n",
    "os.makedirs(\"plots/univariate\", exist_ok=True)"
   ]
  },
  {
   "cell_type": "markdown",
   "id": "9dcf7620-631f-40b6-b5bb-03ac3f627fd8",
   "metadata": {},
   "source": [
    "### Numerical Variables"
   ]
  },
  {
   "cell_type": "code",
   "execution_count": 92,
   "id": "8a20a61d-6487-4b6e-ad20-5774721324ca",
   "metadata": {
    "tags": []
   },
   "outputs": [
    {
     "data": {
      "text/plain": [
       "['Year',\n",
       " 'Kilometers_Driven',\n",
       " 'Mileage',\n",
       " 'Engine',\n",
       " 'Power',\n",
       " 'Seats',\n",
       " 'New_Price',\n",
       " 'Resale_Price',\n",
       " 'Car_Age']"
      ]
     },
     "execution_count": 92,
     "metadata": {},
     "output_type": "execute_result"
    }
   ],
   "source": [
    "numerical_col_list"
   ]
  },
  {
   "cell_type": "code",
   "execution_count": 93,
   "id": "ba4d340a-f027-4215-97de-6c5a5fc20dd6",
   "metadata": {
    "tags": []
   },
   "outputs": [
    {
     "data": {
      "text/plain": [
       "['Year', 'New_Price']"
      ]
     },
     "execution_count": 93,
     "metadata": {},
     "output_type": "execute_result"
    }
   ],
   "source": [
    "excluded_cols = [\"Year\", \"New_Price\"]\n",
    "excluded_cols"
   ]
  },
  {
   "cell_type": "code",
   "execution_count": 94,
   "id": "15b2b5a3-b3ac-466a-b578-46feea712a62",
   "metadata": {
    "tags": []
   },
   "outputs": [
    {
     "data": {
      "text/plain": [
       "['Kilometers_Driven',\n",
       " 'Mileage',\n",
       " 'Engine',\n",
       " 'Power',\n",
       " 'Seats',\n",
       " 'Resale_Price',\n",
       " 'Car_Age']"
      ]
     },
     "execution_count": 94,
     "metadata": {},
     "output_type": "execute_result"
    }
   ],
   "source": [
    "filtered_list_numerical = [col for col in numerical_col_list if col not in excluded_cols]\n",
    "filtered_list_numerical"
   ]
  },
  {
   "cell_type": "code",
   "execution_count": 95,
   "id": "390000fc-a471-4218-978f-71191cd83350",
   "metadata": {
    "tags": []
   },
   "outputs": [
    {
     "name": "stdout",
     "output_type": "stream",
     "text": [
      "Skewness of \"Kilometers_Driven\" is : 58.5\n"
     ]
    },
    {
     "data": {
      "image/png": "[encoded data removed]",
      "text/plain": [
       "<Figure size 1500x400 with 2 Axes>"
      ]
     },
     "metadata": {},
     "output_type": "display_data"
    },
    {
     "name": "stdout",
     "output_type": "stream",
     "text": [
      "Skewness of \"Mileage\" is : -0.42\n"
     ]
    },
    {
     "data": {
      "image/png": "[encoded data removed]",
      "text/plain": [
       "<Figure size 1500x400 with 2 Axes>"
      ]
     },
     "metadata": {},
     "output_type": "display_data"
    },
    {
     "name": "stdout",
     "output_type": "stream",
     "text": [
      "Skewness of \"Engine\" is : 1.41\n"
     ]
    },
    {
     "data": {
      "image/png": "[encoded data removed]",
      "text/plain": [
       "<Figure size 1500x400 with 2 Axes>"
      ]
     },
     "metadata": {},
     "output_type": "display_data"
    },
    {
     "name": "stdout",
     "output_type": "stream",
     "text": [
      "Skewness of \"Power\" is : 1.86\n"
     ]
    },
    {
     "data": {
      "image/png": "[encoded data removed]",
      "text/plain": [
       "<Figure size 1500x400 with 2 Axes>"
      ]
     },
     "metadata": {},
     "output_type": "display_data"
    },
    {
     "name": "stdout",
     "output_type": "stream",
     "text": [
      "Skewness of \"Seats\" is : 1.9\n"
     ]
    },
    {
     "data": {
      "image/png": "[encoded data removed]",
      "text/plain": [
       "<Figure size 1500x400 with 2 Axes>"
      ]
     },
     "metadata": {},
     "output_type": "display_data"
    },
    {
     "name": "stdout",
     "output_type": "stream",
     "text": [
      "Skewness of \"Resale_Price\" is : 3.25\n"
     ]
    },
    {
     "data": {
      "image/png": "[encoded data removed]",
      "text/plain": [
       "<Figure size 1500x400 with 2 Axes>"
      ]
     },
     "metadata": {},
     "output_type": "display_data"
    },
    {
     "name": "stdout",
     "output_type": "stream",
     "text": [
      "Skewness of \"Car_Age\" is : 0.84\n"
     ]
    },
    {
     "data": {
      "image/png": "[encoded data removed]",
      "text/plain": [
       "<Figure size 1500x400 with 2 Axes>"
      ]
     },
     "metadata": {},
     "output_type": "display_data"
    }
   ],
   "source": [
    "for num_variable in filtered_list_numerical:\n",
    "    if num_variable == \"Mileage\":\n",
    "        unit = \"(kmpl - km/kg)\"\n",
    "    elif num_variable == \"Engine\":\n",
    "        unit = \"(CC)\"\n",
    "    elif num_variable == \"Power\":\n",
    "        unit = \"(bhp)\"\n",
    "    elif num_variable == \"Car_Age\":\n",
    "        unit = \"(years)\"\n",
    "    elif num_variable == \"Resale_price\":\n",
    "        unit = \"(lakh)\"\n",
    "    else:\n",
    "        unit = \"\"\n",
    "    print(f'Skewness of \"{num_variable}\" is :', round(df[num_variable].skew(), 2))\n",
    "    plt.style.use(\"_mpl-gallery\")\n",
    "    plt.figure(figsize=(15,4))\n",
    "    plt.subplot(1,2,1)\n",
    "    plt.title(f\"Histogram\")\n",
    "    df[num_variable].hist(grid=False)\n",
    "    plt.ylabel(\"Frequency\")\n",
    "    plt.xlabel(f\"{num_variable} {unit}\")\n",
    "    plt.subplot(1,2,2)\n",
    "    plt.title(f\"Boxplot\")\n",
    "    sns.boxplot(x=df[num_variable])\n",
    "    plt.xlabel(f\"{num_variable} {unit}\")\n",
    "    plt.savefig(f\"plots/univariate/{num_variable}.png\", bbox_inches = \"tight\")\n",
    "    plt.show()"
   ]
  },
  {
   "cell_type": "markdown",
   "id": "2da097d7-4b1b-42a8-803b-b3dc0b922b3e",
   "metadata": {},
   "source": [
    "__Numerical Data - Univariate Analysis Observation__ (Further to [Stats Summary](#summary-stats))\n",
    "- __Km Driven:__ All values below 1Lakh km, data is heavily right skewed (Skewness = 61.58) <span style='color:green'>remove outliers over 10L km</span>\n",
    "- __Mileage:__ Mileage is fairly symmetrical with few outliers below 5 <span style='color:green'>Impute outliers with 0.0 Value</span>\n",
    "- __Engine:__ Engine capacity is moderately right skewed; few outliers over 5500cc <span style='color:green'>remove outliers above 5500 cc</span>\n",
    "- __Power:__ Power is moderately right skewed;  outliers over 500 bhp <span style='color:green'>remove outliers above 550 bbhp</span>\n",
    "- __Resale_Price:__ Heavily right skewed, 2 outliers above 1Cr value <span style='color:green'>remove outliers above 1Cr</span>\n",
    "- __Car_Age:__ Fairly symmetrical in distribution; 1 model over 25 years of age <span style='color:green'>remove outliers above 25 Years</span>"
   ]
  },
  {
   "cell_type": "markdown",
   "id": "dd0ae9f1-8f55-4882-9b0e-302d75dfd9f8",
   "metadata": {},
   "source": [
    "### Dropping outlier rows"
   ]
  },
  {
   "cell_type": "code",
   "execution_count": 96,
   "id": "87983c9a-c402-4b20-823e-cd36a74fe640",
   "metadata": {
    "tags": []
   },
   "outputs": [],
   "source": [
    "df.drop(df[df[\"Kilometers_Driven\"]>=1000000].index, inplace= True)\n",
    "df.drop(df[df[\"Engine\"]>=5500].index, inplace= True)\n",
    "df.drop(df[df[\"Power\"]>550].index, inplace= True)\n",
    "df.drop(df[df[\"Resale_Price\"]>100].index, inplace= True)\n",
    "df.drop(df[df[\"Car_Age\"]>25].index, inplace= True)"
   ]
  },
  {
   "cell_type": "code",
   "execution_count": 97,
   "id": "b1d23e52-b38d-4e7c-8b3b-5afae727613d",
   "metadata": {},
   "outputs": [],
   "source": [
    "df.loc[df[\"Mileage\"] == 0, \"Mileage\"] = np.nan"
   ]
  },
  {
   "cell_type": "markdown",
   "id": "99a6d61a-aec5-4b10-b029-f8eedd39afbf",
   "metadata": {},
   "source": [
    "## Dropping rows"
   ]
  },
  {
   "cell_type": "code",
   "execution_count": null,
   "id": "201cab11-b18f-4a30-aad5-a969747fc40e",
   "metadata": {},
   "outputs": [],
   "source": []
  },
  {
   "cell_type": "code",
   "execution_count": null,
   "id": "2a2d0d6a-a1fb-4636-9f8c-c163715bba23",
   "metadata": {},
   "outputs": [],
   "source": []
  },
  {
   "cell_type": "code",
   "execution_count": null,
   "id": "38af9786-a622-443e-9313-aeb300185c75",
   "metadata": {},
   "outputs": [],
   "source": []
  },
  {
   "cell_type": "code",
   "execution_count": null,
   "id": "02c80a6b-7967-4a09-b298-f19c21b66133",
   "metadata": {},
   "outputs": [],
   "source": []
  },
  {
   "cell_type": "code",
   "execution_count": null,
   "id": "f5a8a85b-25a1-44e3-a9c2-010229ad3f9e",
   "metadata": {
    "tags": []
   },
   "outputs": [],
   "source": []
  },
  {
   "cell_type": "markdown",
   "id": "4c5537fc-cafb-47b7-82a9-33d7dc528bc0",
   "metadata": {},
   "source": [
    "# Handling 0 value of Mileage"
   ]
  },
  {
   "cell_type": "code",
   "execution_count": null,
   "id": "39a990a6-33d8-45b4-a7b1-1ac2f33d27e7",
   "metadata": {
    "tags": []
   },
   "outputs": [],
   "source": [
    "df.loc[df[\"Mileage\"].isnull(), \"Name\"].value_counts().index.tolist()"
   ]
  },
  {
   "cell_type": "code",
   "execution_count": null,
   "id": "d02fef67-ee2b-4e90-9885-ae8a6b89277f",
   "metadata": {
    "tags": []
   },
   "outputs": [],
   "source": [
    "df[\"Mileage\"].describe()"
   ]
  },
  {
   "cell_type": "markdown",
   "id": "45443f10-17c8-4bc7-83b4-2c90ee2d99d3",
   "metadata": {},
   "source": [
    "Mean and Median are broadly same, but fraught with outliers hence imputing null values with median <br>\n",
    "using granular median at Brand and Model level to "
   ]
  },
  {
   "cell_type": "code",
   "execution_count": null,
   "id": "aff0d6bf-160f-48ed-b3d4-559dcd1fb92c",
   "metadata": {
    "tags": []
   },
   "outputs": [],
   "source": [
    "medians = df.groupby([\"Brand\", \"Model\"])[\"Mileage\"].transform(\"median\")\n",
    "df[\"Mileage\"] = df[\"Mileage\"].fillna(medians)"
   ]
  },
  {
   "cell_type": "code",
   "execution_count": null,
   "id": "8fb7e593-6f1d-4114-ab18-1408b33749a8",
   "metadata": {
    "tags": []
   },
   "outputs": [],
   "source": [
    "df[\"Mileage\"].isnull().sum()"
   ]
  },
  {
   "cell_type": "markdown",
   "id": "6b970a76-de0e-4d66-b315-2d251f406a6a",
   "metadata": {},
   "source": [
    "There are 9 rows which still have Mileage as null"
   ]
  },
  {
   "cell_type": "code",
   "execution_count": null,
   "id": "6fd1d811-6cf1-4a03-b227-87e807275d12",
   "metadata": {
    "tags": []
   },
   "outputs": [],
   "source": [
    "# Grouping by Fuel Type, Power and Engine Capacity as they impact Mileage\n",
    "medians = df.groupby([\"Fuel_Type\", \"Power\", \"Engine\"])[\"Mileage\"].transform(\"median\")\n",
    "df[\"Mileage\"] = df[\"Mileage\"].fillna(medians)\n",
    "df[\"Mileage\"].isnull().sum()"
   ]
  },
  {
   "cell_type": "markdown",
   "id": "ac488f1e-7b26-4273-a63c-b427b6300f13",
   "metadata": {},
   "source": [
    "There are 6 rows which still have Mileage as null"
   ]
  },
  {
   "cell_type": "code",
   "execution_count": null,
   "id": "6b32e64e-868b-4528-a3ca-32dcee10e230",
   "metadata": {
    "tags": []
   },
   "outputs": [],
   "source": [
    "# Grouping by Transmission, Brand for imputing remaining values for Mileage\n",
    "medians = df.groupby([\"Transmission\", \"Brand\"])[\"Mileage\"].transform(\"median\")\n",
    "df[\"Mileage\"] = df[\"Mileage\"].fillna(medians)\n",
    "df[\"Mileage\"].isnull().sum()"
   ]
  },
  {
   "cell_type": "markdown",
   "id": "afa90559-63b3-4e93-86e3-994bf685f1df",
   "metadata": {},
   "source": [
    "Leaves us with 1 missing values which may be dropped"
   ]
  },
  {
   "cell_type": "code",
   "execution_count": null,
   "id": "b6d9f799-bbb4-4d0d-95da-f994315a277e",
   "metadata": {
    "tags": []
   },
   "outputs": [],
   "source": [
    "df.head()"
   ]
  },
  {
   "cell_type": "code",
   "execution_count": null,
   "id": "cf4fbdf9-075e-4d8c-bf8d-39e4f6828f87",
   "metadata": {},
   "outputs": [],
   "source": []
  },
  {
   "cell_type": "code",
   "execution_count": null,
   "id": "f62a6e1f-c53d-4579-9fa1-e036e8548837",
   "metadata": {
    "tags": []
   },
   "outputs": [],
   "source": [
    "df.groupby([\"Brand\", \"Model\"])[[\"Mileage\", \"Power\", \"Engine\"]].agg([\"mean\", \"median\"])"
   ]
  },
  {
   "cell_type": "code",
   "execution_count": null,
   "id": "0dfa688a-ca32-41ba-a687-d2704774cdf3",
   "metadata": {
    "tags": []
   },
   "outputs": [],
   "source": [
    "df.groupby([\"Brand\", \"Model\"])[\"Mileage\"]"
   ]
  },
  {
   "cell_type": "code",
   "execution_count": null,
   "id": "31f1ab9b-2414-4a98-9644-424eb425394e",
   "metadata": {},
   "outputs": [],
   "source": []
  },
  {
   "cell_type": "code",
   "execution_count": null,
   "id": "a2d1d281-adf3-4168-8b85-93d6330ab4a2",
   "metadata": {},
   "outputs": [],
   "source": [
    "%who"
   ]
  },
  {
   "cell_type": "markdown",
   "id": "828d97b9-1722-4e0c-8bdb-bd863522d55c",
   "metadata": {},
   "source": [
    "Dropping rows with null values acros all Mileage, Power, Seats, Engine<br>\n",
    "All these features have less than 1% missing values [Missing Value Info](#missing-values)"
   ]
  },
  {
   "cell_type": "code",
   "execution_count": null,
   "id": "59534bd3-6012-4eb8-8f83-a55b0884896b",
   "metadata": {
    "tags": []
   },
   "outputs": [],
   "source": [
    "df.loc[df[\"Seats\"].isnull(), \"Name\"].value_counts()"
   ]
  },
  {
   "cell_type": "code",
   "execution_count": null,
   "id": "0ceadd10-16da-4f20-a827-78c8295d5fe9",
   "metadata": {
    "tags": []
   },
   "outputs": [],
   "source": [
    "df.dropna(how= \"all\", subset=[\"Mileage\", \"Power\", \"Engine\"], inplace = True)\n",
    "df.head()"
   ]
  },
  {
   "cell_type": "markdown",
   "id": "33c9cdd6-c5db-43ff-8106-7d465f01ab0d",
   "metadata": {},
   "source": [
    "### Imputing with mean/median "
   ]
  },
  {
   "cell_type": "code",
   "execution_count": null,
   "id": "4147e5b1-2a16-4dc4-9847-cb872204f81e",
   "metadata": {
    "tags": []
   },
   "outputs": [],
   "source": [
    "df.shape"
   ]
  },
  {
   "cell_type": "code",
   "execution_count": null,
   "id": "0f7f1507-a591-4fd4-816f-d326904c6098",
   "metadata": {
    "tags": []
   },
   "outputs": [],
   "source": [
    "filt2 = (df[\"Seats\"]==0)\n",
    "print(df.loc[filt2].shape)\n",
    "df.loc[filt2]"
   ]
  },
  {
   "cell_type": "code",
   "execution_count": null,
   "id": "7bc018f9-6f24-4f8a-b732-7e5ec606b678",
   "metadata": {},
   "outputs": [],
   "source": []
  },
  {
   "cell_type": "code",
   "execution_count": null,
   "id": "0ad8f692-99bd-4ebc-a52a-149faa439cce",
   "metadata": {},
   "outputs": [],
   "source": []
  },
  {
   "cell_type": "code",
   "execution_count": null,
   "id": "98c407f8-affc-4565-bf32-7cf850fc003d",
   "metadata": {
    "tags": []
   },
   "outputs": [],
   "source": [
    "df.head()"
   ]
  },
  {
   "cell_type": "code",
   "execution_count": null,
   "id": "794c65eb-e870-4e26-9d62-a6ad18366e72",
   "metadata": {
    "tags": []
   },
   "outputs": [],
   "source": [
    "date.today().year"
   ]
  },
  {
   "cell_type": "code",
   "execution_count": null,
   "id": "607f9451-f4ba-4e1b-b17b-a33e234bc4d1",
   "metadata": {
    "tags": []
   },
   "outputs": [],
   "source": []
  },
  {
   "cell_type": "code",
   "execution_count": null,
   "id": "e2ceeee5-d400-4fa3-85c4-5b8ff73e90fb",
   "metadata": {},
   "outputs": [],
   "source": []
  },
  {
   "cell_type": "code",
   "execution_count": null,
   "id": "1003c768-3618-43ed-9b58-6038bc00ab6e",
   "metadata": {},
   "outputs": [],
   "source": []
  },
  {
   "cell_type": "markdown",
   "id": "43d7cd21-8ba6-4e6d-aa77-2aba8b2c9a79",
   "metadata": {},
   "source": [
    "# Original DF"
   ]
  },
  {
   "cell_type": "code",
   "execution_count": null,
   "id": "8df33c30-cc4e-4262-a127-78c002153d59",
   "metadata": {
    "tags": []
   },
   "outputs": [],
   "source": [
    "df2 = pd.read_csv(\"data/used_cars_data.csv\", index_col= \"S.No.\")\n",
    "\n",
    "filt2 = df2[\"Kilometers_Driven\"]>=500000\n",
    "df2.loc[filt2]"
   ]
  },
  {
   "cell_type": "code",
   "execution_count": null,
   "id": "286ff680-fda3-4e2c-9474-7007acb01820",
   "metadata": {
    "tags": []
   },
   "outputs": [],
   "source": [
    "df2.shape"
   ]
  }
 ],
 "metadata": {
  "kernelspec": {
   "display_name": "Python 3 (ipykernel)",
   "language": "python",
   "name": "python3"
  },
  "language_info": {
   "codemirror_mode": {
    "name": "ipython",
    "version": 3
   },
   "file_extension": ".py",
   "mimetype": "text/x-python",
   "name": "python",
   "nbconvert_exporter": "python",
   "pygments_lexer": "ipython3",
   "version": "3.11.6"
  },
  "toc-autonumbering": true,
  "toc-showcode": false,
  "toc-showmarkdowntxt": false
 },
 "nbformat": 4,
 "nbformat_minor": 5
}
